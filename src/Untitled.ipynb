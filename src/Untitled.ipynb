{
 "cells": [
  {
   "cell_type": "code",
   "execution_count": 1,
   "metadata": {},
   "outputs": [],
   "source": [
    "import numpy as np\n",
    "import matplotlib.pyplot as plt\n",
    "import torch\n",
    "import sys\n",
    "\n",
    "from RBM import RBM\n",
    "from scipy.integrate import simps\n",
    "from scipy import stats\n",
    "\n",
    "\n",
    "device = torch.device(\"cuda\")\n",
    "dtype = torch.float\n",
    "torch.set_num_threads(4)\n",
    "\n",
    "data = np.genfromtxt('../data/data_1d2c_bal_seed14.dat')\n",
    "data = torch.tensor((data+1)/2, device=device, dtype=dtype)\n",
    "\n",
    "\n",
    "lr = 0.01\n",
    "NGibbs = 100\n",
    "annSteps = 0\n",
    "mb_s = 600\n",
    "num_pcd = 600\n",
    "Nh = 20\n",
    "Nv = data.shape[1]\n",
    "ep_max = 100\n",
    "w_hat = torch.linspace(0, 1, steps=100)\n",
    "_, _, V = torch.svd(data)\n",
    "V = V[:, 0]\n",
    "N = 20000\n",
    "it_mean = 50\n",
    "fq_msr_RBM = 1000\n",
    "\n",
    "myRBM = RBM(num_visible=Nv,\n",
    "            num_hidden=Nh,\n",
    "            device=device,\n",
    "            lr=lr,\n",
    "            gibbs_steps=NGibbs,\n",
    "            UpdCentered=False,\n",
    "            mb_s=mb_s,\n",
    "            num_pcd=num_pcd,\n",
    "            w_hat=w_hat,\n",
    "            N=N,\n",
    "            it_mean=it_mean,\n",
    "            V=V,\n",
    "            TMCLearning=True\n",
    "            )\n",
    "\n",
    "myRBM_norm = RBM(num_visible=Nv,\n",
    "            num_hidden=Nh,\n",
    "            device=device,\n",
    "            lr=lr,\n",
    "            gibbs_steps=NGibbs,\n",
    "            UpdCentered=False,\n",
    "            mb_s=mb_s,\n",
    "            num_pcd=num_pcd,\n",
    "            w_hat=w_hat,\n",
    "            N=N,\n",
    "            it_mean=it_mean,\n",
    "            V=V,\n",
    "            TMCLearning=False\n",
    "            )"
   ]
  },
  {
   "cell_type": "code",
   "execution_count": 2,
   "metadata": {},
   "outputs": [],
   "source": [
    "vinit = torch.bernoulli(torch.rand(\n",
    "        (myRBM_norm.Nv, 1000), device=myRBM_norm.device, dtype=myRBM_norm.dtype))\n",
    "si, _, _, _ = myRBM_norm.Sampling(vinit, it_mcmc=10000)\n"
   ]
  },
  {
   "cell_type": "code",
   "execution_count": 8,
   "metadata": {},
   "outputs": [],
   "source": [
    "nb_chain = 15  # Nb de chaines pour chaque w_hat\n",
    "it_mcmc = 25  # Nb it_mcmc pour chaque chaine\n",
    "it_mean = 10  # Nb it considérée pour la moyenne temporelle de chaque chaine\n",
    "N = 20000  # Contrainte\n",
    "nb_point = 1000  # Nb de points de discrétisation pour w_hat\n",
    "start = torch.bernoulli(torch.rand(\n",
    "    Nv, nb_chain*nb_point, device=device))\n",
    "# SVD des poids\n",
    "_, _, V0 = torch.svd(myRBM.W)\n",
    "V0 = V0[:, 0]\n",
    "# proj_data = torch.mv(X.T, V0)\n",
    "# xmin = torch.min(proj_data)\n",
    "if torch.mean(V0) < 0:\n",
    "    V0 = -V0\n",
    "xmin = -0.5\n",
    "xmax = 1\n",
    "w_hat_b = torch.linspace(\n",
    "    xmin, xmax, steps=nb_point, device=device)\n",
    "w_hat = torch.zeros(nb_chain*nb_point, device=device)\n",
    "for i in range(nb_point):\n",
    "    for j in range(nb_chain):\n",
    "        w_hat[i*nb_chain+j] = w_hat_b[i]\n",
    "tmpv, tmph, vtab = myRBM.TMCSample(\n",
    "    start, w_hat, N, V0, it_mcmc=it_mcmc, it_mean=it_mean)\n",
    "y = np.array(torch.mm(vtab.T, V0.unsqueeze(1)\n",
    "                      ).cpu().squeeze())/Nv**0.5\n",
    "newy = np.array([np.mean(y[i*nb_chain:i*nb_chain+nb_chain])\n",
    "                 for i in range(nb_point)])\n",
    "w_hat = w_hat.cpu().numpy()\n",
    "w_hat_b_np = w_hat_b.cpu().numpy()\n",
    "res = np.zeros(len(w_hat_b)-1)\n",
    "for i in range(1, len(w_hat_b)):\n",
    "    res[i-1] = simps(newy[:i]-w_hat_b_np[:i], w_hat_b_np[:i])\n",
    "const = simps(np.exp(N*res-np.max(N*res)), w_hat_b_np[:-1])\n",
    "p_m = torch.tensor(np.exp(N*res-np.max(N*res)) /\n",
    "                   const, device=myRBM.device)\n",
    "s_i = torch.stack([torch.mean(\n",
    "    tmpv[:, i*nb_chain:i*nb_chain+nb_chain], dim=1) for i in range(nb_point)], 1)\n",
    "tau_a = torch.stack([torch.mean(\n",
    "    tmph[:, i*nb_chain:i*nb_chain+nb_chain], dim=1) for i in range(nb_point)], 1)\n",
    "s_i = torch.trapz(s_i[:, 1:]*p_m, w_hat_b[1:], dim=1)\n",
    "tau_a = torch.trapz(tau_a[:, 1:]*p_m, w_hat_b[1:], dim=1)"
   ]
  },
  {
   "cell_type": "code",
   "execution_count": 9,
   "metadata": {},
   "outputs": [
    {
     "data": {
      "text/plain": [
       "[<matplotlib.lines.Line2D at 0x7f1ab4384be0>]"
      ]
     },
     "execution_count": 9,
     "metadata": {},
     "output_type": "execute_result"
    },
    {
     "data": {
      "image/png": "[encoded data removed]",
      "text/plain": [
       "<Figure size 1200x800 with 1 Axes>"
      ]
     },
     "metadata": {
      "needs_background": "light"
     },
     "output_type": "display_data"
    }
   ],
   "source": [
    "_, _, V_g = torch.svd(myRBM.W)\n",
    "if torch.mean(V_g[:,0])<0:\n",
    "    V_g = -V_g\n",
    "proj_gen = torch.mv(si, V_g[:,0])/Nv**0.5\n",
    "plt.figure(dpi = 200)\n",
    "proj_data = torch.mv(data, V_g[:,0])/Nv**0.5\n",
    "#proj_data = (proj_data-min(proj_data))/(max(proj_data)-min(proj_data))\n",
    "plt.hist(proj_data.cpu().numpy(), bins = 100);\n",
    "plt.hist(proj_gen.cpu().numpy(), bins = 100);\n",
    "plt.plot(w_hat_b.cpu().numpy()[1:],p_m.cpu().numpy(), '-*')\n",
    "plt.plot(w_hat_b.cpu().numpy(),newy-w_hat_b.cpu().numpy())\n",
    "#plt.semilogy()"
   ]
  },
  {
   "cell_type": "code",
   "execution_count": 10,
   "metadata": {},
   "outputs": [
    {
     "name": "stdout",
     "output_type": "stream",
     "text": [
      "IT  0\n"
     ]
    }
   ],
   "source": [
    "myRBM_norm.fit(data.T, 1)"
   ]
  },
  {
   "cell_type": "code",
   "execution_count": null,
   "metadata": {},
   "outputs": [],
   "source": []
  }
 ],
 "metadata": {
  "kernelspec": {
   "display_name": "Python 3",
   "language": "python",
   "name": "python3"
  },
  "language_info": {
   "codemirror_mode": {
    "name": "ipython",
    "version": 3
   },
   "file_extension": ".py",
   "mimetype": "text/x-python",
   "name": "python",
   "nbconvert_exporter": "python",
   "pygments_lexer": "ipython3",
   "version": "3.8.5"
  }
 },
 "nbformat": 4,
 "nbformat_minor": 4
}
