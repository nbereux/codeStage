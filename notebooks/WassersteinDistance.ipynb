{
 "cells": [
  {
   "cell_type": "code",
   "execution_count": 1,
   "metadata": {},
   "outputs": [],
   "source": [
    "import sys\n",
    "sys.path.insert(1, '/home/nicolas/Documents/Stage/code/stage/src')\n",
    "sys.path.insert(1, '/home/nicolas/Documents/Stage/code/stage/data')\n",
    "\n",
    "import torch\n",
    "from functions import Wasserstein_distance\n",
    "device = torch.device(\"cuda\")\n",
    "\n",
    "data_mnist = torch.load(\"data/data_MNIST.pt\")\n",
    "data_gen = torch.load(\"./data/data_gen.pt\")\n",
    "data_10 = torch.load(\"data/data_10_gen.pt\")\n",
    "data_100 = torch.load(\"data/data_100_gen.pt\")\n",
    "data_1000 = torch.load(\"data/data_1000_gen.pt\")\n",
    "data_10000 = torch.load(\"data/data_10000_gen.pt\")"
   ]
  },
  {
   "cell_type": "code",
   "execution_count": 2,
   "metadata": {},
   "outputs": [
    {
     "name": "stdout",
     "output_type": "stream",
     "text": [
      "10 :  tensor(10.7611, device='cuda:0')\n",
      "100 :  tensor(10.7699, device='cuda:0')\n",
      "1000 :  tensor(10.7579, device='cuda:0')\n",
      "10000 :  tensor(10.7500, device='cuda:0')\n"
     ]
    }
   ],
   "source": [
    "print(\"10 : \", Wasserstein_distance(data_mnist, data_10, 1e-4, device))\n",
    "print(\"100 : \", Wasserstein_distance(data_mnist, data_100, 1e-4, device))\n",
    "print(\"1000 : \", Wasserstein_distance(data_mnist, data_1000, 1e-4, device))\n",
    "print(\"10000 : \", Wasserstein_distance(data_mnist, data_10000, 1e-4, device))"
   ]
  }
 ],
 "metadata": {
  "kernelspec": {
   "display_name": "Python 3",
   "language": "python",
   "name": "python3"
  },
  "language_info": {
   "codemirror_mode": {
    "name": "ipython",
    "version": 3
   },
   "file_extension": ".py",
   "mimetype": "text/x-python",
   "name": "python",
   "nbconvert_exporter": "python",
   "pygments_lexer": "ipython3",
   "version": "3.8.5"
  }
 },
 "nbformat": 4,
 "nbformat_minor": 4
}
