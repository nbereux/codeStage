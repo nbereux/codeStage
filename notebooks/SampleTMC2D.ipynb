{
 "cells": [
  {
   "cell_type": "code",
   "execution_count": 1,
   "metadata": {},
   "outputs": [],
   "source": [
    "import numpy as np\n",
    "import matplotlib.pyplot as plt\n",
    "import matplotlib.pylab\n",
    "import torch\n",
    "import sys\n",
    "import time\n",
    "sys.path.insert(1, '/home/nicolas/code/src')\n",
    "sys.path.insert(1, '/home/nicolas/code/data')\n",
    "\n",
    "from RBM import RBM\n",
    "from scipy.integrate import simps\n",
    "from scipy import stats\n",
    "import h5py\n",
    "\n",
    "device = torch.device(\"cuda\")\n",
    "dtype = torch.float\n",
    "torch.set_num_threads(4)"
   ]
  },
  {
   "cell_type": "code",
   "execution_count": 2,
   "metadata": {},
   "outputs": [],
   "source": [
    "# w_hat : nDim x nb_point\n",
    "# V : matrice de projection\n",
    "def TMCSampleND(v, w_hat, N, V, it_mcmc=100, it_mean=50, ß=1):\n",
    "    #print(\"Initialisation\")\n",
    "    vtab = torch.zeros(v.shape, device=device)\n",
    "    v_curr = v\n",
    "    norm = 1/(v_curr.shape[0]**0.5)\n",
    "    w_curr = (torch.mm(v_curr.T, V)*norm)[:,:w_hat.shape[0]]\n",
    "    index = torch.randperm(v_curr.shape[0])\n",
    "    for t in range(it_mcmc):\n",
    "        #print('init it')\n",
    "        print(t)\n",
    "        h_curr, _ = myRBM.SampleHiddens01(v_curr)\n",
    "        h_i = (torch.mm(myRBM.W.T, h_curr)+myRBM.vbias.reshape(v.shape[0],1)) # Nv x Ns\n",
    "        w_next = w_curr.clone()\n",
    "        \n",
    "        v_next = torch.clone(v_curr)\n",
    "        index = torch.randperm(v_curr.shape[0])\n",
    "        for idx in range(v_curr.shape[0]):\n",
    "            s = time.time()\n",
    "            i = idx\n",
    "            v_next[i,:] = 1-v_curr[i,:]\n",
    "            for j in range(w_next.shape[1]):\n",
    "                w_next[:,j] += ((2*v_next[i,:]-1)*V[i,j]*norm)\n",
    "                \n",
    "            # On calcul -DeltaE\n",
    "            ΔE = ß*((2*v_next[i,:]-1)*h_i[i,:])-(N/2)*(torch.sum((w_hat.T-w_next)**2, dim=1)-torch.sum((w_hat.T-w_curr)**2, dim=1))\n",
    "\n",
    "            tir = torch.rand(v_curr.shape[1],1, device = torch.device(\"cuda\")).squeeze()\n",
    "            prob = torch.exp(ΔE).squeeze()\n",
    "            v_curr[i,:] = torch.where(tir<prob, v_next[i,:], v_curr[i,:])\n",
    "            v_next[i,:] = torch.where(tir<prob, v_next[i,:], 1-v_next[i,:])\n",
    "            neg_index = torch.ones(w_curr.shape[0], dtype = bool)\n",
    "            index = torch.where(tir<prob)[0]\n",
    "            neg_index[index] = False\n",
    "            w_curr[index,:]=  w_next[index, :]\n",
    "            w_next[neg_index,:] =  w_curr[neg_index,:]\n",
    "            #print(time.time()-s)\n",
    "        if (t>= (it_mcmc-it_mean)):\n",
    "            vtab += v_curr\n",
    "    vtab = vtab*(1/it_mean)\n",
    "    vtab = vtab.reshape(myRBM.Nv, nb_point, nb_chain)\n",
    "    v_curr = v_curr.reshape(myRBM.Nv, nb_point, nb_chain)\n",
    "    h_curr = h_curr.reshape(myRBM.Nh, nb_point, nb_chain)\n",
    "    return v_curr, h_curr, vtab\n",
    "\n",
    "def TMCSample(v, w_hat, N, V, it_mcmc=100, it_mean=50, ß=1):\n",
    "    #print(\"Initialisation\")\n",
    "    #s = time.time()\n",
    "    vtab = torch.zeros(v.shape, device = device)\n",
    "    v_curr = v\n",
    "    #V = V\n",
    "    norm = 1/(v_curr.shape[0]**0.5)\n",
    "    w_curr = (torch.mv(v_curr.T, V)*norm)\n",
    "    \n",
    "    index = torch.randperm(v_curr.shape[0])\n",
    "    #print(time.time()-s)\n",
    "    #print(\"IT MCMC\")\n",
    "    s = time.time()\n",
    "\n",
    "    for t in range(it_mcmc):\n",
    "        #print('init it')\n",
    "        print(t)\n",
    "        h_curr, _ = myRBM.SampleHiddens01(v_curr)\n",
    "        h_i = (torch.mm(myRBM.W.T, h_curr)+myRBM.vbias.reshape(v.shape[0],1)) # Nv x Ns\n",
    "        w_next = w_curr.clone()\n",
    "        \n",
    "        v_next = torch.clone(v_curr)\n",
    "        index = torch.randperm(v_curr.shape[0])\n",
    "        for idx in range(v_curr.shape[0]):\n",
    "            #print('upd comp')\n",
    "            s = time.time()\n",
    "            i = idx\n",
    "            v_next[i,:] = 1-v_curr[i,:]\n",
    "            w_next += ((2*v_next[i,:]-1)*V[i]*norm)\n",
    "\n",
    "            # On calcul -DeltaE\n",
    "            ΔE = ß*((2*v_next[i,:]-1)*h_i[i,:])-(N/2)*((w_hat-w_next)**2-(w_hat-w_curr)**2)\n",
    "\n",
    "            tir = torch.rand(v_curr.shape[1],1, device = torch.device(\"cuda\")).squeeze()\n",
    "            prob = torch.exp(ΔE).squeeze()\n",
    "            v_curr[i,:] = torch.where(tir<prob, v_next[i,:], v_curr[i,:])\n",
    "            v_next[i,:] = torch.where(tir<prob, v_next[i,:], 1-v_next[i,:])\n",
    "            w_curr = torch.where(tir<prob, w_next, w_curr)\n",
    "            w_next = torch.where(tir<prob, w_next, w_curr)\n",
    "            #print(time.time()-s)\n",
    "        if (t>= (it_mcmc-it_mean)):\n",
    "            vtab += v_curr\n",
    "    print(time.time()-s)\n",
    "\n",
    "    vtab = vtab*(1/it_mean)    \n",
    "    return v_curr, h_curr, vtab"
   ]
  },
  {
   "cell_type": "code",
   "execution_count": 3,
   "metadata": {},
   "outputs": [
    {
     "ename": "RuntimeError",
     "evalue": "CUDA kernel errors might be asynchronously reported at some other API call,so the stacktrace below might be incorrect. For debugging consider passing CUDA_LAUNCH_BLOCKING=1. CUDA error: out of memory",
     "output_type": "error",
     "traceback": [
      "\u001b[0;31m---------------------------------------------------------------------------\u001b[0m",
      "\u001b[0;31mRuntimeError\u001b[0m                              Traceback (most recent call last)",
      "\u001b[0;32m<ipython-input-3-54c627a2faf3>\u001b[0m in \u001b[0;36m<module>\u001b[0;34m\u001b[0m\n\u001b[0;32m----> 1\u001b[0;31m \u001b[0mdata\u001b[0m \u001b[0;34m=\u001b[0m \u001b[0mtorch\u001b[0m\u001b[0;34m.\u001b[0m\u001b[0mtensor\u001b[0m\u001b[0;34m(\u001b[0m\u001b[0mnp\u001b[0m\u001b[0;34m.\u001b[0m\u001b[0mgenfromtxt\u001b[0m\u001b[0;34m(\u001b[0m\u001b[0;34m'../dataset/data_2d.dat'\u001b[0m\u001b[0;34m)\u001b[0m\u001b[0;34m,\u001b[0m \u001b[0mdevice\u001b[0m \u001b[0;34m=\u001b[0m \u001b[0mdevice\u001b[0m\u001b[0;34m,\u001b[0m \u001b[0mdtype\u001b[0m \u001b[0;34m=\u001b[0m \u001b[0mdtype\u001b[0m\u001b[0;34m)\u001b[0m\u001b[0;34m\u001b[0m\u001b[0;34m\u001b[0m\u001b[0m\n\u001b[0m\u001b[1;32m      2\u001b[0m \u001b[0;34m\u001b[0m\u001b[0m\n\u001b[1;32m      3\u001b[0m \u001b[0mdata\u001b[0m \u001b[0;34m=\u001b[0m \u001b[0;34m(\u001b[0m\u001b[0mdata\u001b[0m\u001b[0;34m+\u001b[0m\u001b[0;36m1\u001b[0m\u001b[0;34m)\u001b[0m\u001b[0;34m/\u001b[0m\u001b[0;36m2\u001b[0m\u001b[0;34m\u001b[0m\u001b[0;34m\u001b[0m\u001b[0m\n",
      "\u001b[0;31mRuntimeError\u001b[0m: CUDA kernel errors might be asynchronously reported at some other API call,so the stacktrace below might be incorrect. For debugging consider passing CUDA_LAUNCH_BLOCKING=1. CUDA error: out of memory"
     ]
    }
   ],
   "source": [
    "data = torch.tensor(np.genfromtxt('../dataset/data_2d.dat'), device = device, dtype = dtype)\n",
    "\n",
    "data = (data+1)/2"
   ]
  },
  {
   "cell_type": "code",
   "execution_count": null,
   "metadata": {},
   "outputs": [],
   "source": [
    "f = h5py.File(\"../model/TMC2D/AllParametersTMC2DRBM_NGibbs_50_Nh100_Nv1000_Nmb200_Nepoch100_lr_0.01_N20000_Npoint2500_Nchain10_phase2.h5\", 'r')\n",
    "alltimes = np.array(f['alltime'])\n",
    "alltimes = []\n",
    "for t in f['alltime'][:]:\n",
    "    if 'W'+str(t) in f:\n",
    "        alltimes.append(t)\n",
    "t = alltimes[-1]\n",
    "        \n",
    "lr = 0.01\n",
    "l2 = 0\n",
    "NGibbs = 10\n",
    "annSteps = 0\n",
    "mb_s = 500\n",
    "num_pcd = 500\n",
    "ep_max = 100\n",
    "myRBM = RBM(num_visible=1,\n",
    "\t\t\t\tnum_hidden=1,\n",
    "\t\t\t\tdevice=device,\n",
    "\t\t\t\tlr=lr,\n",
    "\t\t\t\t#regL2=l2,\n",
    "\t\t\t\tgibbs_steps=NGibbs,\n",
    "\t\t\t\t#anneal_steps=annSteps,\n",
    "\t\t\t\tUpdCentered=True,\n",
    "\t\t\t\tmb_s=mb_s,\n",
    "\t\t\t\tnum_pcd=num_pcd)\n",
    "\n",
    "myRBM.W = torch.tensor(f['W'+str(t)], device = myRBM.device)\n",
    "myRBM.hbias = torch.tensor(f['hbias'+str(t)], device = myRBM.device)\n",
    "myRBM.vbias = torch.tensor(f['vbias'+str(t)], device = myRBM.device)\n",
    "_, _, V = torch.svd(myRBM.W)\n",
    "myRBM.Nh = myRBM.W.shape[0]\n",
    "myRBM.Nv = myRBM.W.shape[1]\n",
    "if torch.mean(V[:,0])<0:\n",
    "    V = -V\n",
    "    \n",
    "V_g = V\n",
    "proj_data =torch.mm(data, V_g).cpu()/myRBM.Nv**.5\n",
    "\n",
    "f.close()\n"
   ]
  },
  {
   "cell_type": "code",
   "execution_count": null,
   "metadata": {},
   "outputs": [],
   "source": [
    "nb_chain = 10 # Nb de chaines pour chaque w_hat\n",
    "it_mcmc = 150 # Nb it_mcmc pour chaque chaine\n",
    "it_mean = 100 # Nb it considérée pour la moyenne temporelle de chaque chaine\n",
    "N = 20000 # Contrainte\n",
    "nb_point = 50 # Nb de points de discrétisation pour w_hat\n",
    "width_plus = .6\n",
    "nDim = 2\n",
    "\n",
    "limits = torch.zeros((2, nDim))\n",
    "for i in range(nDim):\n",
    "    limits[0, i] = proj_data[:,i].min()-width_plus\n",
    "    limits[1, i] = proj_data[:,i].max()+width_plus\n",
    "\n",
    "xmin = proj_data[:,0].min()-width_plus\n",
    "xmax = proj_data[:,0].max()+width_plus\n",
    "ymin = proj_data[:,1].min()-width_plus\n",
    "ymax = proj_data[:,1].max()+width_plus"
   ]
  },
  {
   "cell_type": "code",
   "execution_count": null,
   "metadata": {
    "scrolled": true
   },
   "outputs": [],
   "source": [
    "start = torch.bernoulli(torch.rand(myRBM.Nv, nb_chain*nb_point, device = device))\n",
    "V0 = V[:,0]\n",
    "# w_hat = torch.dot(start.T, V)[0:,]\n",
    "w_hat_b = torch.linspace(xmin, xmax, steps =nb_point, device = device)\n",
    "w_hat = torch.zeros(nb_chain*nb_point, device = device)\n",
    "for i in range(nb_point):\n",
    "    for j in range(nb_chain):\n",
    "        w_hat[i*nb_chain+j] = w_hat_b[i]\n",
    "tmpv, tmph, vtab = TMCSample(start, w_hat, N, V0, it_mcmc = it_mcmc, it_mean=it_mean)\n",
    "\n",
    "y = np.array(torch.mm(vtab.T, V0.unsqueeze(1)).cpu().squeeze())/myRBM.Nv**0.5\n",
    "newy = np.array([np.mean(y[i*nb_chain:i*nb_chain+nb_chain]) for i in range(nb_point)])\n",
    "w_hat = w_hat.cpu().numpy()\n",
    "w_hat_b = w_hat_b.cpu().numpy()\n",
    "res=np.zeros(len(w_hat_b)-1)\n",
    "for i in range(1,len(w_hat_b)):\n",
    "    res[i-1] = simps(newy[:i]-w_hat_b[:i], w_hat_b[:i])\n",
    "const = simps(np.exp(N*res-np.max(N*res)), w_hat_b[:-1])\n",
    "p_m_1D = torch.tensor(np.exp(N*res-np.max(N*res)) /\n",
    "                    const, device=device)"
   ]
  },
  {
   "cell_type": "code",
   "execution_count": null,
   "metadata": {},
   "outputs": [],
   "source": [
    "nb_chain = 15 # Nb de chaines pour chaque w_hat\n",
    "it_mcmc = 70 # Nb it_mcmc pour chaque chaine\n",
    "it_mean = 20 # Nb it considérée pour la moyenne temporelle de chaque chaine\n",
    "nb_point_dim = torch.tensor([50,50]) # -> doit avoir autant de terme que la valeur de nDim\n",
    "N = 10000 # Contrainte\n",
    "#nb_point_x = 125 # Nb de points de discrétisation pour w_hat\n",
    "#nb_point_y = 125\n",
    "\n",
    "nb_point = nb_point_dim.prod()"
   ]
  },
  {
   "cell_type": "code",
   "execution_count": null,
   "metadata": {
    "scrolled": true
   },
   "outputs": [],
   "source": [
    "x_grid = np.linspace(limits[0,0], limits[1,0], nb_point_dim[0])\n",
    "x_grid = np.array([x_grid for i in range(nb_point_dim[1])])\n",
    "x_grid = x_grid.reshape(nb_point)\n",
    "y_grid = []\n",
    "y_d = np.linspace(limits[0,1], limits[1,1], nb_point_dim[1])\n",
    "for i in range(nb_point_dim[1]):\n",
    "    for j in range(nb_point_dim[0]):\n",
    "        y_grid.append(y_d[i])\n",
    "grid = torch.tensor([x_grid, y_grid], device = device, dtype = dtype)\n",
    "start = torch.bernoulli(torch.rand(myRBM.Nv, nb_chain*nb_point, device = device))\n",
    "# w_hat = torch.dot(start.T, V)[0:,]\n",
    "w_hat_b = grid\n",
    "w_hat = torch.zeros((2, nb_chain*nb_point), device = device)\n",
    "for i in range(nb_point):\n",
    "    for j in range(nb_chain):\n",
    "        w_hat[:,i*nb_chain+j] = w_hat_b[:,i]\n",
    "tmpv, tmph, vtab = TMCSampleND(start, w_hat, N, V_g, it_mcmc = it_mcmc, it_mean=it_mean)\n",
    "\n",
    "newy = torch.mm(torch.mean(vtab, dim = 2).T, V_g)[:,:nDim]/myRBM.Nv**0.5\n",
    "\n",
    "grad_pot = newy.T-w_hat_b\n",
    "square = torch.zeros(2, nb_point_dim[0], nb_point_dim[1])\n",
    "w_hat_tmp = np.zeros((2, nb_point_dim[0], nb_point_dim[1]))\n",
    "for i in range(0,grad_pot.shape[1], nb_point_dim[0]):\n",
    "        #print(\\\"I : \\\", i/nb_point_x)\n",
    "        #print(\\\"s : \\\", (i*nb_point_x))\n",
    "        #print(\\\"e : \\\", (i*nb_point_x+nb_point_x))\n",
    "        w_hat_tmp[:,:,int(i/nb_point_dim[0])] = w_hat_b[:, i:(i+nb_point_dim[0])].cpu().numpy()\n",
    "        #print(w_hat_b[:, i:(i+nb_point_dim[0])].cpu().numpy())\n",
    "        square[:,:, int(i/nb_point_dim[0])] = grad_pot[:,i:(i+nb_point_dim[0])]\n",
    "#square = grad_pot.reshape(2,nb_point_dim[0], nb_point_dim[1])\n",
    "w_hat_dim = []\n",
    "for i in range(nDim):\n",
    "    w_hat_dim.append(np.linspace(limits[0,i], limits[1,i], nb_point_dim[i]))\n",
    "\n",
    "res_x = np.zeros(nb_point_dim[0])\n",
    "for i in range(nb_point_dim[0]):\n",
    "    res_x[i] = simps(square[0][:(i+1),0].cpu().numpy(), w_hat_tmp[0,:(i+1),0])\n",
    "res_y = np.zeros((nb_point_dim[0], nb_point_dim[1]))\n",
    "for i in range(nb_point_dim[0]):\n",
    "    for j in range(nb_point_dim[1]):\n",
    "        res_y[i,j] = simps(square[1][i,:(j+1)].cpu().numpy(), w_hat_tmp[1,i,:(j+1)])\n",
    "\n",
    "pot = np.expand_dims(res_x, 1).repeat(nb_point_dim[1],1) + res_y    \n",
    "res = np.exp(N*(pot-np.max(pot)))\n",
    "#LE CALCUL DE LA CONSTANTE EST CORRECT\n",
    "const = np.zeros(res.shape[0])\n",
    "for i in range(res.shape[0]):\n",
    "    const[i-1] = simps(res[:,i], w_hat_tmp[1, i, :])\n",
    "const = simps(const, w_hat_tmp[0,:,0])\n",
    "p_m = res/const"
   ]
  },
  {
   "cell_type": "code",
   "execution_count": 15,
   "metadata": {},
   "outputs": [
    {
     "name": "stderr",
     "output_type": "stream",
     "text": [
      "<ipython-input-15-7fb7db069084>:1: RuntimeWarning: divide by zero encountered in log\n",
      "  plt.contour(w_hat_tmp[0],w_hat_tmp[1], np.log(p_m), 10)\n"
     ]
    },
    {
     "data": {
      "text/plain": [
       "<matplotlib.contour.QuadContourSet at 0x7f40b1012c10>"
      ]
     },
     "execution_count": 15,
     "metadata": {},
     "output_type": "execute_result"
    },
    {
     "data": {
      "image/png": "[encoded data removed]",
      "text/plain": [
       "<Figure size 432x288 with 1 Axes>"
      ]
     },
     "metadata": {
      "needs_background": "light"
     },
     "output_type": "display_data"
    }
   ],
   "source": [
    "plt.contour(w_hat_tmp[0],w_hat_tmp[1], np.log(p_m), 10)\n"
   ]
  },
  {
   "cell_type": "code",
   "execution_count": 24,
   "metadata": {},
   "outputs": [
    {
     "data": {
      "text/plain": [
       "[<matplotlib.lines.Line2D at 0x7f184562aa30>]"
      ]
     },
     "execution_count": 24,
     "metadata": {},
     "output_type": "execute_result"
    },
    {
     "data": {
      "image/png": "[encoded data removed]",
      "text/plain": [
       "<Figure size 432x288 with 1 Axes>"
      ]
     },
     "metadata": {
      "needs_background": "light"
     },
     "output_type": "display_data"
    }
   ],
   "source": [
    "p_m_1D = torch.tensor(np.exp(N*res-np.max(N*res)) /\n",
    "                    const, device=device).cpu().numpy()\n",
    "cdf_1D = np.zeros(len(p_m_1D)-1)\n",
    "for i in range(1,len(p_m_1D)):\n",
    "    cdf_1D[i-1] = simps(p_m_1D[:i], w_hat_b[:i])\n",
    "plt.plot(cdf_1D)\n",
    "plt.plot(p_m_1D)"
   ]
  },
  {
   "cell_type": "code",
   "execution_count": 13,
   "metadata": {},
   "outputs": [
    {
     "name": "stdout",
     "output_type": "stream",
     "text": [
      "> \u001b[0;32m/home/nicolas/anaconda3/lib/python3.8/site-packages/scipy/integrate/_quadrature.py\u001b[0m(468)\u001b[0;36msimps\u001b[0;34m()\u001b[0m\n",
      "\u001b[0;32m    466 \u001b[0;31m                             \"same as y.\")\n",
      "\u001b[0m\u001b[0;32m    467 \u001b[0;31m        \u001b[0;32mif\u001b[0m \u001b[0mx\u001b[0m\u001b[0;34m.\u001b[0m\u001b[0mshape\u001b[0m\u001b[0;34m[\u001b[0m\u001b[0maxis\u001b[0m\u001b[0;34m]\u001b[0m \u001b[0;34m!=\u001b[0m \u001b[0mN\u001b[0m\u001b[0;34m:\u001b[0m\u001b[0;34m\u001b[0m\u001b[0;34m\u001b[0m\u001b[0m\n",
      "\u001b[0m\u001b[0;32m--> 468 \u001b[0;31m            raise ValueError(\"If given, length of x along axis must be the \"\n",
      "\u001b[0m\u001b[0;32m    469 \u001b[0;31m                             \"same as y.\")\n",
      "\u001b[0m\u001b[0;32m    470 \u001b[0;31m    \u001b[0;32mif\u001b[0m \u001b[0mN\u001b[0m \u001b[0;34m%\u001b[0m \u001b[0;36m2\u001b[0m \u001b[0;34m==\u001b[0m \u001b[0;36m0\u001b[0m\u001b[0;34m:\u001b[0m\u001b[0;34m\u001b[0m\u001b[0;34m\u001b[0m\u001b[0m\n",
      "\u001b[0m\n"
     ]
    },
    {
     "name": "stdin",
     "output_type": "stream",
     "text": [
      "ipdb>  u\n"
     ]
    },
    {
     "name": "stdout",
     "output_type": "stream",
     "text": [
      "> \u001b[0;32m<ipython-input-12-fe08331e5707>\u001b[0m(4)\u001b[0;36m<module>\u001b[0;34m()\u001b[0m\n",
      "\u001b[0;32m      1 \u001b[0;31m\u001b[0mx_1D\u001b[0m \u001b[0;34m=\u001b[0m \u001b[0mnp\u001b[0m\u001b[0;34m.\u001b[0m\u001b[0mlinspace\u001b[0m\u001b[0;34m(\u001b[0m\u001b[0mlimits\u001b[0m\u001b[0;34m[\u001b[0m\u001b[0;36m0\u001b[0m\u001b[0;34m,\u001b[0m\u001b[0;36m0\u001b[0m\u001b[0;34m]\u001b[0m\u001b[0;34m,\u001b[0m \u001b[0mlimits\u001b[0m\u001b[0;34m[\u001b[0m\u001b[0;36m1\u001b[0m\u001b[0;34m,\u001b[0m\u001b[0;36m0\u001b[0m\u001b[0;34m]\u001b[0m\u001b[0;34m,\u001b[0m \u001b[0mnb_point_dim\u001b[0m\u001b[0;34m[\u001b[0m\u001b[0;36m0\u001b[0m\u001b[0;34m]\u001b[0m\u001b[0;34m)\u001b[0m\u001b[0;34m\u001b[0m\u001b[0;34m\u001b[0m\u001b[0m\n",
      "\u001b[0m\u001b[0;32m      2 \u001b[0;31m\u001b[0mcdf_1D\u001b[0m \u001b[0;34m=\u001b[0m \u001b[0mnp\u001b[0m\u001b[0;34m.\u001b[0m\u001b[0mzeros\u001b[0m\u001b[0;34m(\u001b[0m\u001b[0mlen\u001b[0m\u001b[0;34m(\u001b[0m\u001b[0mp_m_1D\u001b[0m\u001b[0;34m)\u001b[0m\u001b[0;34m-\u001b[0m\u001b[0;36m1\u001b[0m\u001b[0;34m)\u001b[0m\u001b[0;34m\u001b[0m\u001b[0;34m\u001b[0m\u001b[0m\n",
      "\u001b[0m\u001b[0;32m      3 \u001b[0;31m\u001b[0;32mfor\u001b[0m \u001b[0mi\u001b[0m \u001b[0;32min\u001b[0m \u001b[0mrange\u001b[0m\u001b[0;34m(\u001b[0m\u001b[0;36m1\u001b[0m\u001b[0;34m,\u001b[0m\u001b[0mlen\u001b[0m\u001b[0;34m(\u001b[0m\u001b[0mp_m_1D\u001b[0m\u001b[0;34m)\u001b[0m\u001b[0;34m)\u001b[0m\u001b[0;34m:\u001b[0m\u001b[0;34m\u001b[0m\u001b[0;34m\u001b[0m\u001b[0m\n",
      "\u001b[0m\u001b[0;32m----> 4 \u001b[0;31m    \u001b[0mcdf_1D\u001b[0m\u001b[0;34m[\u001b[0m\u001b[0mi\u001b[0m\u001b[0;34m-\u001b[0m\u001b[0;36m1\u001b[0m\u001b[0;34m]\u001b[0m \u001b[0;34m=\u001b[0m \u001b[0msimps\u001b[0m\u001b[0;34m(\u001b[0m\u001b[0mp_m_1D\u001b[0m\u001b[0;34m[\u001b[0m\u001b[0;34m:\u001b[0m\u001b[0mi\u001b[0m\u001b[0;34m]\u001b[0m\u001b[0;34m,\u001b[0m \u001b[0mx_1D\u001b[0m\u001b[0;34m[\u001b[0m\u001b[0;34m:\u001b[0m\u001b[0mi\u001b[0m\u001b[0;34m]\u001b[0m\u001b[0;34m)\u001b[0m\u001b[0;34m\u001b[0m\u001b[0;34m\u001b[0m\u001b[0m\n",
      "\u001b[0m\u001b[0;32m      5 \u001b[0;31m\u001b[0mplt\u001b[0m\u001b[0;34m.\u001b[0m\u001b[0mplot\u001b[0m\u001b[0;34m(\u001b[0m\u001b[0mcdf_1D\u001b[0m\u001b[0;34m)\u001b[0m\u001b[0;34m\u001b[0m\u001b[0;34m\u001b[0m\u001b[0m\n",
      "\u001b[0m\n"
     ]
    },
    {
     "name": "stdin",
     "output_type": "stream",
     "text": [
      "ipdb>  p_m_1D[:i].shape\n"
     ]
    },
    {
     "name": "stdout",
     "output_type": "stream",
     "text": [
      "(51,)\n"
     ]
    },
    {
     "name": "stdin",
     "output_type": "stream",
     "text": [
      "ipdb>  x_1D[:i].shape\n"
     ]
    },
    {
     "name": "stdout",
     "output_type": "stream",
     "text": [
      "(50,)\n"
     ]
    },
    {
     "name": "stdin",
     "output_type": "stream",
     "text": [
      "ipdb>  x_1D.shape\n"
     ]
    },
    {
     "name": "stdout",
     "output_type": "stream",
     "text": [
      "(50,)\n"
     ]
    },
    {
     "name": "stdin",
     "output_type": "stream",
     "text": [
      "ipdb>  p_m_1D.shape\n"
     ]
    },
    {
     "name": "stdout",
     "output_type": "stream",
     "text": [
      "(2499,)\n"
     ]
    },
    {
     "name": "stdin",
     "output_type": "stream",
     "text": [
      "ipdb>  exit\n"
     ]
    }
   ],
   "source": [
    "%debug"
   ]
  },
  {
   "cell_type": "code",
   "execution_count": 85,
   "metadata": {},
   "outputs": [],
   "source": [
    "yyy = np.linspace(limits[0,1], limits[1,1], nb_point_dim[1])\n",
    "xxx = np.linspace(limits[0,0], limits[1,0], nb_point_dim[0])\n",
    "cdf_x = np.zeros(p_m.shape[0])\n",
    "for i in range(p_m.shape[0]):\n",
    "    cdf_x[i] = simps(p_m[:(i+1),0],  xxx[:(i+1)])\n",
    "cdf_y = np.zeros((p_m.shape[0], p_m.shape[1]))\n",
    "for i in range(p_m.shape[0]):\n",
    "    for j in range(p_m.shape[1]):\n",
    "        cdf_y[i,j] = simps(p_m[i,:(j+1)], yyy[:(j+1)])\n",
    "cdf = np.expand_dims(cdf_x, 1).repeat(nb_point_dim[1],1) + cdf_y    \n"
   ]
  },
  {
   "cell_type": "code",
   "execution_count": 92,
   "metadata": {},
   "outputs": [
    {
     "data": {
      "text/plain": [
       "<matplotlib.colorbar.Colorbar at 0x7fd7789de3a0>"
      ]
     },
     "execution_count": 92,
     "metadata": {},
     "output_type": "execute_result"
    },
    {
     "data": {
      "image/png": "[encoded data removed]",
      "text/plain": [
       "<Figure size 432x288 with 2 Axes>"
      ]
     },
     "metadata": {
      "needs_background": "light"
     },
     "output_type": "display_data"
    }
   ],
   "source": [
    "plt.imshow(cdf)\n",
    "plt.colorbar()"
   ]
  },
  {
   "cell_type": "code",
   "execution_count": 87,
   "metadata": {},
   "outputs": [],
   "source": [
    "def sample2D(cdf, n_sample):\n",
    "    sample = torch.rand(n_sample)\n",
    "    res = torch.zeros(n_sample,2, dtype = int)\n",
    "    for k in range(n_sample):\n",
    "        for i in range(cdf.shape[0]-1):\n",
    "            for j in range(cdf.shape[1]-1):\n",
    "                if cdf[i+1, j+1]>sample[k]:\n",
    "                    res[k,0] = xxx[i]\n",
    "                    res[k,1] = j\n",
    "                    break\n",
    "    return res\n",
    "    "
   ]
  },
  {
   "cell_type": "code",
   "execution_count": 88,
   "metadata": {},
   "outputs": [],
   "source": [
    "s = sample2D(cdf, 100)\n"
   ]
  },
  {
   "cell_type": "code",
   "execution_count": null,
   "metadata": {},
   "outputs": [],
   "source": [
    "plt.hist(s.cpu().numpy(), bins = 100);\n",
    "plt.plot(p_m)"
   ]
  },
  {
   "cell_type": "code",
   "execution_count": null,
   "metadata": {},
   "outputs": [],
   "source": [
    "plt.plot(p_m)"
   ]
  },
  {
   "cell_type": "code",
   "execution_count": 89,
   "metadata": {},
   "outputs": [
    {
     "data": {
      "text/plain": [
       "<matplotlib.collections.PathCollection at 0x7fd7799ceaf0>"
      ]
     },
     "execution_count": 89,
     "metadata": {},
     "output_type": "execute_result"
    },
    {
     "data": {
      "image/png": "[encoded data removed]",
      "text/plain": [
       "<Figure size 432x288 with 1 Axes>"
      ]
     },
     "metadata": {
      "needs_background": "light"
     },
     "output_type": "display_data"
    }
   ],
   "source": [
    "\n",
    "absc = []\n",
    "ordo = []\n",
    "for i in range(s.shape[0]):\n",
    "    absc.append(xxx[s[i,0]])\n",
    "    ordo.append(xxx[s[i,1]])\n",
    "plt.scatter(absc, ordo)"
   ]
  },
  {
   "cell_type": "code",
   "execution_count": 96,
   "metadata": {},
   "outputs": [
    {
     "data": {
      "image/png": "[encoded data removed]",
      "text/plain": [
       "<Figure size 432x288 with 1 Axes>"
      ]
     },
     "metadata": {
      "needs_background": "light"
     },
     "output_type": "display_data"
    }
   ],
   "source": [
    "plt.hist(proj_data[:,0].cpu().numpy(), bins = 100);"
   ]
  },
  {
   "cell_type": "code",
   "execution_count": null,
   "metadata": {},
   "outputs": [],
   "source": []
  }
 ],
 "metadata": {
  "kernelspec": {
   "display_name": "Python 3",
   "language": "python",
   "name": "python3"
  },
  "language_info": {
   "codemirror_mode": {
    "name": "ipython",
    "version": 3
   },
   "file_extension": ".py",
   "mimetype": "text/x-python",
   "name": "python",
   "nbconvert_exporter": "python",
   "pygments_lexer": "ipython3",
   "version": "3.8.5"
  }
 },
 "nbformat": 4,
 "nbformat_minor": 4
}
