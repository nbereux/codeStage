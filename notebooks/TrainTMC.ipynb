{
 "cells": [
  {
   "cell_type": "code",
   "execution_count": 1,
   "metadata": {},
   "outputs": [],
   "source": [
    "import numpy as np\n",
    "import matplotlib.pyplot as plt\n",
    "import torch\n",
    "import sys\n",
    "sys.path.insert(1, '/home/nicolas/code/src')\n",
    "sys.path.insert(1, '/home/nicolas/code/data')\n",
    "\n",
    "from RBM import RBM\n",
    "from scipy.integrate import simps\n",
    "from scipy import stats\n",
    "\n",
    "\n",
    "device = torch.device(\"cuda\")\n",
    "dtype = torch.float\n",
    "torch.set_num_threads(4)"
   ]
  },
  {
   "cell_type": "code",
   "execution_count": 2,
   "metadata": {},
   "outputs": [],
   "source": [
    "data = np.genfromtxt('../data/data_1d2c_bal_seed14.dat')\n",
    "data = torch.tensor((data+1)/2, device = device, dtype = dtype)\n"
   ]
  },
  {
   "cell_type": "code",
   "execution_count": 3,
   "metadata": {},
   "outputs": [
    {
     "data": {
      "text/plain": [
       "torch.Size([6000, 1000])"
      ]
     },
     "execution_count": 3,
     "metadata": {},
     "output_type": "execute_result"
    }
   ],
   "source": [
    "data.shape"
   ]
  },
  {
   "cell_type": "code",
   "execution_count": 18,
   "metadata": {},
   "outputs": [],
   "source": [
    "\n",
    "lr = 0.01\n",
    "NGibbs = 100\n",
    "annSteps = 0\n",
    "mb_s = 600\n",
    "num_pcd = 100\n",
    "Nh = 20\n",
    "Nv = data.shape[1]\n",
    "ep_max = 10\n",
    "w_hat = torch.linspace(0,1,steps=100)\n",
    "_, S_d, V = torch.svd(data)\n",
    "V = V[:,0]\n",
    "N = 20000\n",
    "it_mean = 50"
   ]
  },
  {
   "cell_type": "code",
   "execution_count": 5,
   "metadata": {},
   "outputs": [],
   "source": [
    "myRBM = RBM(num_visible=Nv,\n",
    "            num_hidden=Nh,\n",
    "            device=device,\n",
    "            lr=lr,\n",
    "            gibbs_steps=NGibbs,\n",
    "            UpdCentered=False,\n",
    "            mb_s=mb_s,\n",
    "            num_pcd=num_pcd,\n",
    "            w_hat = w_hat,\n",
    "            N = N,\n",
    "            it_mean = it_mean,\n",
    "            V = V,\n",
    "            TMCLearning = True\n",
    "           )"
   ]
  },
  {
   "cell_type": "code",
   "execution_count": 6,
   "metadata": {},
   "outputs": [
    {
     "name": "stdout",
     "output_type": "stream",
     "text": [
      "IT  0\n",
      "17.283262014389038\n",
      "17.560485363006592\n",
      "17.370328903198242\n",
      "17.07879137992859\n",
      "17.481587648391724\n",
      "17.325709342956543\n",
      "17.923680543899536\n",
      "17.747706413269043\n",
      "17.542551279067993\n",
      "17.23416256904602\n",
      "IT  1\n",
      "17.157101154327393\n",
      "17.145751237869263\n",
      "17.411704540252686\n",
      "17.359182119369507\n",
      "17.057685136795044\n",
      "17.527804136276245\n",
      "17.386096954345703\n",
      "18.48849320411682\n",
      "18.794922351837158\n",
      "17.628356456756592\n",
      "IT  2\n",
      "17.29690647125244\n",
      "17.19657325744629\n",
      "17.192295789718628\n",
      "17.158831357955933\n",
      "17.168167114257812\n",
      "17.36507558822632\n",
      "17.47938847541809\n",
      "16.937674045562744\n",
      "17.184380769729614\n",
      "17.327730178833008\n",
      "IT  3\n",
      "17.340796947479248\n",
      "17.46527338027954\n",
      "17.069515228271484\n",
      "16.963643550872803\n",
      "16.972899436950684\n",
      "16.938735008239746\n",
      "16.924031496047974\n",
      "16.916088342666626\n",
      "17.257610082626343\n",
      "16.953870058059692\n",
      "IT  4\n",
      "17.036271333694458\n",
      "17.05549454689026\n",
      "17.059635877609253\n",
      "16.938708543777466\n",
      "16.939332485198975\n",
      "17.009143829345703\n",
      "16.927168607711792\n",
      "16.875486373901367\n",
      "16.912822008132935\n",
      "16.971892595291138\n",
      "IT  5\n",
      "16.991986751556396\n",
      "17.001980781555176\n",
      "16.91379141807556\n",
      "16.916589736938477\n",
      "16.930451154708862\n",
      "16.8946270942688\n",
      "16.86491823196411\n",
      "16.899977922439575\n",
      "16.948187112808228\n",
      "16.868767976760864\n",
      "IT  6\n",
      "16.922999143600464\n",
      "16.91940188407898\n",
      "17.052998542785645\n",
      "16.88475251197815\n",
      "17.073352098464966\n",
      "16.911640405654907\n",
      "16.88097834587097\n",
      "16.887601852416992\n",
      "16.858465909957886\n",
      "16.849234342575073\n",
      "IT  7\n",
      "16.878350019454956\n",
      "16.955239295959473\n",
      "16.955395698547363\n",
      "16.91109800338745\n",
      "16.88059377670288\n",
      "17.01604413986206\n",
      "17.11397671699524\n",
      "16.886534452438354\n",
      "16.891114950180054\n",
      "16.962876558303833\n",
      "IT  8\n",
      "16.871100902557373\n",
      "16.935588598251343\n",
      "17.02446174621582\n",
      "16.916574239730835\n",
      "16.882261037826538\n",
      "16.87276005744934\n",
      "16.9105167388916\n",
      "16.939228773117065\n",
      "16.926056623458862\n",
      "16.83149814605713\n",
      "IT  9\n",
      "16.87982726097107\n",
      "16.85933017730713\n",
      "16.912185668945312\n",
      "16.86928105354309\n",
      "16.82010316848755\n",
      "16.83947467803955\n",
      "16.884227514266968\n",
      "16.839066982269287\n",
      "16.9309504032135\n",
      "16.91333770751953\n"
     ]
    }
   ],
   "source": [
    "myRBM.fit(data.T, ep_max)"
   ]
  },
  {
   "cell_type": "code",
   "execution_count": 7,
   "metadata": {},
   "outputs": [
    {
     "name": "stderr",
     "output_type": "stream",
     "text": [
      "ERROR:root:No traceback has been produced, nothing to debug.\n"
     ]
    }
   ],
   "source": [
    "%debug"
   ]
  },
  {
   "cell_type": "code",
   "execution_count": 35,
   "metadata": {},
   "outputs": [],
   "source": [
    "vinit = torch.bernoulli(torch.rand(\n",
    "        (myRBM.Nv, 1000), device=myRBM.device, dtype=myRBM.dtype))\n",
    "si, _, _, _ = myRBM.Sampling(vinit.T, it_mcmc=100)\n"
   ]
  },
  {
   "cell_type": "code",
   "execution_count": 36,
   "metadata": {},
   "outputs": [
    {
     "data": {
      "image/png": "[encoded data removed]",
      "text/plain": [
       "<Figure size 432x288 with 1 Axes>"
      ]
     },
     "metadata": {
      "needs_background": "light"
     },
     "output_type": "display_data"
    }
   ],
   "source": [
    "proj_gen = torch.mv(si, V)\n",
    "plt.hist(proj_gen.cpu().numpy(), bins = 100);"
   ]
  },
  {
   "cell_type": "code",
   "execution_count": 32,
   "metadata": {},
   "outputs": [
    {
     "data": {
      "image/png": "[encoded data removed]",
      "text/plain": [
       "<Figure size 432x288 with 1 Axes>"
      ]
     },
     "metadata": {
      "needs_background": "light"
     },
     "output_type": "display_data"
    }
   ],
   "source": [
    "proj_data = torch.mv(data, V)\n",
    "plt.hist(proj_data.cpu().numpy(), bins = 100);"
   ]
  },
  {
   "cell_type": "code",
   "execution_count": 19,
   "metadata": {},
   "outputs": [],
   "source": [
    "_, S, _ = torch.svd(myRBM.W)"
   ]
  },
  {
   "cell_type": "code",
   "execution_count": 21,
   "metadata": {},
   "outputs": [
    {
     "data": {
      "text/plain": [
       "[]"
      ]
     },
     "execution_count": 21,
     "metadata": {},
     "output_type": "execute_result"
    },
    {
     "data": {
      "image/png": "[encoded data removed]",
      "text/plain": [
       "<Figure size 432x288 with 1 Axes>"
      ]
     },
     "metadata": {
      "needs_background": "light"
     },
     "output_type": "display_data"
    }
   ],
   "source": [
    "plt.plot(S.cpu())\n",
    "plt.plot(S_d.cpu())\n",
    "plt.semilogy()"
   ]
  },
  {
   "cell_type": "code",
   "execution_count": null,
   "metadata": {},
   "outputs": [],
   "source": []
  }
 ],
 "metadata": {
  "kernelspec": {
   "display_name": "Python 3",
   "language": "python",
   "name": "python3"
  },
  "language_info": {
   "codemirror_mode": {
    "name": "ipython",
    "version": 3
   },
   "file_extension": ".py",
   "mimetype": "text/x-python",
   "name": "python",
   "nbconvert_exporter": "python",
   "pygments_lexer": "ipython3",
   "version": "3.8.5"
  }
 },
 "nbformat": 4,
 "nbformat_minor": 4
}
