{
 "cells": [
  {
   "cell_type": "code",
   "execution_count": 1,
   "metadata": {},
   "outputs": [],
   "source": [
    "import numpy as np\n",
    "import matplotlib.pyplot as plt\n",
    "import torch\n",
    "import sys\n",
    "sys.path.insert(1, '/home/nicolas/code/src')\n",
    "sys.path.insert(1, '/home/nicolas/code/data')\n",
    "\n",
    "from RBM import RBM\n",
    "from scipy.integrate import simps\n",
    "from scipy import stats\n",
    "import h5py\n",
    "\n",
    "device = torch.device(\"cuda\")\n",
    "dtype = torch.float\n",
    "torch.set_num_threads(4)"
   ]
  },
  {
   "cell_type": "code",
   "execution_count": 2,
   "metadata": {},
   "outputs": [],
   "source": [
    "data = np.genfromtxt('../data/data_1d2c_bal_seed14.dat')\n",
    "data = torch.tensor((data+1)/2, device = device, dtype = dtype)\n"
   ]
  },
  {
   "cell_type": "code",
   "execution_count": 3,
   "metadata": {},
   "outputs": [
    {
     "data": {
      "text/plain": [
       "torch.Size([6000, 1000])"
      ]
     },
     "execution_count": 3,
     "metadata": {},
     "output_type": "execute_result"
    }
   ],
   "source": [
    "data.shape"
   ]
  },
  {
   "cell_type": "code",
   "execution_count": 4,
   "metadata": {},
   "outputs": [],
   "source": [
    "\n",
    "lr = 0.01\n",
    "NGibbs = 100\n",
    "annSteps = 0\n",
    "mb_s = 600\n",
    "num_pcd = 100\n",
    "Nh = 20\n",
    "Nv = data.shape[1]\n",
    "ep_max = 10\n",
    "w_hat = torch.linspace(0,1,steps=100)\n",
    "_, S_d, V = torch.svd(data)\n",
    "V0 = V[:,0]\n",
    "N = 20000\n",
    "it_mean = 50"
   ]
  },
  {
   "cell_type": "code",
   "execution_count": 5,
   "metadata": {},
   "outputs": [],
   "source": [
    "myRBM = RBM(num_visible=Nv,\n",
    "            num_hidden=Nh,\n",
    "            device=device,\n",
    "            lr=lr,\n",
    "            gibbs_steps=NGibbs,\n",
    "            UpdCentered=False,\n",
    "            mb_s=mb_s,\n",
    "            num_pcd=num_pcd,\n",
    "            w_hat = w_hat,\n",
    "            N = N,\n",
    "            it_mean = it_mean,\n",
    "            V = V0,\n",
    "            TMCLearning = True\n",
    "           )"
   ]
  },
  {
   "cell_type": "code",
   "execution_count": 6,
   "metadata": {},
   "outputs": [
    {
     "name": "stdout",
     "output_type": "stream",
     "text": [
      "IT  0\n"
     ]
    },
    {
     "ename": "KeyboardInterrupt",
     "evalue": "",
     "output_type": "error",
     "traceback": [
      "\u001b[0;31m---------------------------------------------------------------------------\u001b[0m",
      "\u001b[0;31mKeyboardInterrupt\u001b[0m                         Traceback (most recent call last)",
      "\u001b[0;32m<ipython-input-6-4ec923ffa4d4>\u001b[0m in \u001b[0;36m<module>\u001b[0;34m\u001b[0m\n\u001b[0;32m----> 1\u001b[0;31m \u001b[0mmyRBM\u001b[0m\u001b[0;34m.\u001b[0m\u001b[0mfit\u001b[0m\u001b[0;34m(\u001b[0m\u001b[0mdata\u001b[0m\u001b[0;34m.\u001b[0m\u001b[0mT\u001b[0m\u001b[0;34m,\u001b[0m \u001b[0mep_max\u001b[0m\u001b[0;34m)\u001b[0m\u001b[0;34m\u001b[0m\u001b[0;34m\u001b[0m\u001b[0m\n\u001b[0m",
      "\u001b[0;32m~/code/src/RBM.py\u001b[0m in \u001b[0;36mfit\u001b[0;34m(self, X, ep_max)\u001b[0m\n\u001b[1;32m    723\u001b[0m \u001b[0;34m\u001b[0m\u001b[0m\n\u001b[1;32m    724\u001b[0m                 \u001b[0mXb\u001b[0m \u001b[0;34m=\u001b[0m \u001b[0mself\u001b[0m\u001b[0;34m.\u001b[0m\u001b[0mgetMiniBatches\u001b[0m\u001b[0;34m(\u001b[0m\u001b[0mXp\u001b[0m\u001b[0;34m,\u001b[0m \u001b[0mm\u001b[0m\u001b[0;34m)\u001b[0m\u001b[0;34m\u001b[0m\u001b[0;34m\u001b[0m\u001b[0m\n\u001b[0;32m--> 725\u001b[0;31m                 \u001b[0mself\u001b[0m\u001b[0;34m.\u001b[0m\u001b[0mfit_batch\u001b[0m\u001b[0;34m(\u001b[0m\u001b[0mXb\u001b[0m\u001b[0;34m)\u001b[0m\u001b[0;34m\u001b[0m\u001b[0;34m\u001b[0m\u001b[0m\n\u001b[0m\u001b[1;32m    726\u001b[0m \u001b[0;34m\u001b[0m\u001b[0m\n\u001b[1;32m    727\u001b[0m                 \u001b[0;32mif\u001b[0m \u001b[0mself\u001b[0m\u001b[0;34m.\u001b[0m\u001b[0mup_tot\u001b[0m \u001b[0;32min\u001b[0m \u001b[0mself\u001b[0m\u001b[0;34m.\u001b[0m\u001b[0mlist_save_time\u001b[0m\u001b[0;34m:\u001b[0m\u001b[0;34m\u001b[0m\u001b[0;34m\u001b[0m\u001b[0m\n",
      "\u001b[0;32m~/code/src/RBM.py\u001b[0m in \u001b[0;36mfit_batch\u001b[0;34m(self, X)\u001b[0m\n\u001b[1;32m    636\u001b[0m                 \u001b[0;32mfor\u001b[0m \u001b[0mj\u001b[0m \u001b[0;32min\u001b[0m \u001b[0mrange\u001b[0m\u001b[0;34m(\u001b[0m\u001b[0mnb_chain\u001b[0m\u001b[0;34m)\u001b[0m\u001b[0;34m:\u001b[0m\u001b[0;34m\u001b[0m\u001b[0;34m\u001b[0m\u001b[0m\n\u001b[1;32m    637\u001b[0m                     \u001b[0mw_hat\u001b[0m\u001b[0;34m[\u001b[0m\u001b[0mi\u001b[0m\u001b[0;34m*\u001b[0m\u001b[0mnb_chain\u001b[0m\u001b[0;34m+\u001b[0m\u001b[0mj\u001b[0m\u001b[0;34m]\u001b[0m \u001b[0;34m=\u001b[0m \u001b[0mw_hat_b\u001b[0m\u001b[0;34m[\u001b[0m\u001b[0mi\u001b[0m\u001b[0;34m]\u001b[0m\u001b[0;34m\u001b[0m\u001b[0;34m\u001b[0m\u001b[0m\n\u001b[0;32m--> 638\u001b[0;31m             tmpv, tmph, vtab = self.TMCSample(\n\u001b[0m\u001b[1;32m    639\u001b[0m                 start, w_hat, N, V0, it_mcmc=it_mcmc, it_mean=it_mean)\n\u001b[1;32m    640\u001b[0m             y = np.array(torch.mm(vtab.T, V0.unsqueeze(1)\n",
      "\u001b[0;32m~/code/src/RBM.py\u001b[0m in \u001b[0;36mTMCSample\u001b[0;34m(self, v, w_hat, N, V, it_mcmc, it_mean, ß)\u001b[0m\n\u001b[1;32m    551\u001b[0m                     \u001b[0;34m(\u001b[0m\u001b[0;34m(\u001b[0m\u001b[0mw_hat\u001b[0m\u001b[0;34m-\u001b[0m\u001b[0mw_next\u001b[0m\u001b[0;34m)\u001b[0m\u001b[0;34m**\u001b[0m\u001b[0;36m2\u001b[0m\u001b[0;34m-\u001b[0m\u001b[0;34m(\u001b[0m\u001b[0mw_hat\u001b[0m\u001b[0;34m-\u001b[0m\u001b[0mw_curr\u001b[0m\u001b[0;34m)\u001b[0m\u001b[0;34m**\u001b[0m\u001b[0;36m2\u001b[0m\u001b[0;34m)\u001b[0m\u001b[0;34m\u001b[0m\u001b[0;34m\u001b[0m\u001b[0m\n\u001b[1;32m    552\u001b[0m \u001b[0;34m\u001b[0m\u001b[0m\n\u001b[0;32m--> 553\u001b[0;31m                 tir = torch.rand(\n\u001b[0m\u001b[1;32m    554\u001b[0m                     v_curr.shape[1], 1, device=self.device).squeeze()\n\u001b[1;32m    555\u001b[0m                 \u001b[0mprob\u001b[0m \u001b[0;34m=\u001b[0m \u001b[0mtorch\u001b[0m\u001b[0;34m.\u001b[0m\u001b[0mexp\u001b[0m\u001b[0;34m(\u001b[0m\u001b[0mΔE\u001b[0m\u001b[0;34m)\u001b[0m\u001b[0;34m.\u001b[0m\u001b[0msqueeze\u001b[0m\u001b[0;34m(\u001b[0m\u001b[0;34m)\u001b[0m\u001b[0;34m\u001b[0m\u001b[0;34m\u001b[0m\u001b[0m\n",
      "\u001b[0;31mKeyboardInterrupt\u001b[0m: "
     ]
    }
   ],
   "source": [
    "myRBM.fit(data.T, ep_max)"
   ]
  },
  {
   "cell_type": "code",
   "execution_count": null,
   "metadata": {},
   "outputs": [],
   "source": [
    "%debug"
   ]
  },
  {
   "cell_type": "code",
   "execution_count": null,
   "metadata": {},
   "outputs": [],
   "source": []
  },
  {
   "cell_type": "code",
   "execution_count": null,
   "metadata": {},
   "outputs": [],
   "source": [
    "f = h5py.File(\"../model/AllParametersTMCRBM_NGibbs_100_Nh20_Ns1000_Nmb600_Nepoch100_lr_0.01.h5\", 'r')\n",
    "myRBM.W = torch.tensor(f['W998'], device = myRBM.device)\n",
    "myRBM.hbias = torch.tensor(f['hbias998'], device = myRBM.device)\n",
    "myRBM.vbias = torch.tensor(f['vbias998'], device = myRBM.device)"
   ]
  },
  {
   "cell_type": "code",
   "execution_count": null,
   "metadata": {},
   "outputs": [],
   "source": [
    "vinit = torch.bernoulli(torch.rand(\n",
    "        (myRBM.Nv, 1000), device=myRBM.device, dtype=myRBM.dtype))\n",
    "si, _, _, _ = myRBM.Sampling(vinit, it_mcmc=100)\n"
   ]
  },
  {
   "cell_type": "code",
   "execution_count": null,
   "metadata": {},
   "outputs": [],
   "source": [
    "proj_gen = torch.mm(si, V)[:,0]\n",
    "plt.figure(dpi = 200)\n",
    "plt.hist(proj_gen.cpu().numpy(), bins = 100);\n",
    "plt.semilogy()"
   ]
  },
  {
   "cell_type": "code",
   "execution_count": null,
   "metadata": {},
   "outputs": [],
   "source": [
    "proj_data = torch.mm(data, V)[:,0]\n",
    "plt.hist(proj_data.cpu().numpy(), bins = 100);"
   ]
  },
  {
   "cell_type": "code",
   "execution_count": null,
   "metadata": {},
   "outputs": [],
   "source": [
    " _, S, _ = torch.svd(myRBM.W)\n",
    "plt.plot(S.cpu())\n",
    "plt.plot(S_d.cpu()[:len(S)])\n",
    "plt.semilogy()"
   ]
  },
  {
   "cell_type": "code",
   "execution_count": null,
   "metadata": {},
   "outputs": [],
   "source": [
    "plt.plot(S.cpu())\n",
    "plt.plot(S_d.cpu())\n",
    "plt.semilogy()"
   ]
  },
  {
   "cell_type": "code",
   "execution_count": null,
   "metadata": {},
   "outputs": [],
   "source": []
  }
 ],
 "metadata": {
  "kernelspec": {
   "display_name": "Python 3",
   "language": "python",
   "name": "python3"
  },
  "language_info": {
   "codemirror_mode": {
    "name": "ipython",
    "version": 3
   },
   "file_extension": ".py",
   "mimetype": "text/x-python",
   "name": "python",
   "nbconvert_exporter": "python",
   "pygments_lexer": "ipython3",
   "version": "3.8.5"
  }
 },
 "nbformat": 4,
 "nbformat_minor": 4
}
