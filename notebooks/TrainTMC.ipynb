{
 "cells": [
  {
   "cell_type": "code",
   "execution_count": 1,
   "metadata": {},
   "outputs": [],
   "source": [
    "import numpy as np\n",
    "import matplotlib.pyplot as plt\n",
    "import matplotlib.pylab\n",
    "import torch\n",
    "import sys\n",
    "sys.path.insert(1, '/home/nicolas/code/src')\n",
    "sys.path.insert(1, '/home/nicolas/code/data')\n",
    "\n",
    "from TMCRBM import TMCRBM\n",
    "from scipy.integrate import simps\n",
    "from scipy import stats\n",
    "import h5py\n",
    "\n",
    "device = torch.device(\"cuda\")\n",
    "dtype = torch.float\n",
    "torch.set_num_threads(4)"
   ]
  },
  {
   "cell_type": "code",
   "execution_count": 2,
   "metadata": {},
   "outputs": [],
   "source": [
    "#data = np.genfromtxt('../dataset/data_1d2c_bal_seed14.dat')\n",
    "#data = torch.tensor((data+1)/2, device = device, dtype = dtype)\n",
    "#data = torch.tensor(np.genfromtxt('../dataset/data_1d3c.dat'), device = device, dtype = dtype)\n",
    "data = torch.tensor(np.genfromtxt('../dataset/C1d5c/data_5.dat'), device = device, dtype = dtype)\n",
    "\n",
    "data = (data+1)/2"
   ]
  },
  {
   "cell_type": "code",
   "execution_count": 3,
   "metadata": {},
   "outputs": [
    {
     "data": {
      "text/plain": [
       "torch.Size([2000, 1000])"
      ]
     },
     "execution_count": 3,
     "metadata": {},
     "output_type": "execute_result"
    }
   ],
   "source": [
    "data.shape"
   ]
  },
  {
   "cell_type": "code",
   "execution_count": 4,
   "metadata": {},
   "outputs": [],
   "source": [
    "#f = h5py.File(\"../model/AllParametersRBM_NGibbs_20_Nh40_Ns1000_Nmb200_Nepoch1000_lr_0.01.h5\", 'r')#TMCRBM\n",
    "#f = h5py.File(\"../model/AllParametersRBM_NGibbs_20_Nh40_Ns1000_Nmb200_Nepoch100_lr_0.01_normal.h5\", 'r')#normal RBM\n",
    "f = h5py.File(\"../model/TMC1D/AllParametersTMCRBM_NGibbs_25_Nh100_Nv1000_Nmb200_Nepoch50_lr_0.1_N20000_Npoint1000_Nchain15.h5\", 'r')\n",
    "#f = h5py.File(\"../model/AllParametersTMCRBM_NGibbs_50_Nh40_Nv1000_Nmb200_Nepoch100_lr_0.01_N20000_Npoint1000_Nchain15_phase3.h5\", 'r')\n",
    "#f = h5py.File(\"../model/AllParametersTMCRBM_NGibbs_25_Nh20_Nv1000_Nmb200_Nepoch100_lr_0.1_N20000_Npoint1000_Nchain15_phase2.h5\", 'r')\n",
    "#f = h5py.File(\"../model/AllParametersTMCRBM_NGibbs_10_Nh20_Nv1000_Nmb200_Nepoch100_lr_0.01_N20000_Npoint1000_Nchain15.h5\", 'r')\n",
    "#f = h5py.File(\"../model/AllParametersTMCRBM_NGibbs_25_Nh20_Nv1000_Nmb200_Nepoch100_lr_0.01_N20000_Npoint1000_Nchain15_phase2.h5\", 'r')\n",
    "#f = h5py.File(\"../model/AllParametersTMCRBM_NGibbs_25_Nh20_Nv1000_Nmb200_Nepoch100_lr_0.001_N20000_Npoint1000_Nchain15_phase2.h5\", 'r')\n",
    "#f = h5py.File(\"../model/AllParametersTMCRBM_NGibbs_50_Nh20_Nv1000_Nmb200_Nepoch10_lr_0.001_N20000_Npoint1000_Nchain15_phase2.h5\", 'r')\n",
    "#f = h5py.File(\"../model/AllParametersRBM_NGibbs_20_Nh100_Ns1000_Nmb200_Nepoch100_lr_0.001.h5\", 'r')\n",
    "\n",
    "#f = h5py.File(\"../model/AllParametersTMCRBM_NGibbs_10_Nh20_Nv1000_Nmb200_Nepoch100_lr_0.001_N20000_Npoint1000_Nchain15.h5\", 'r')"
   ]
  },
  {
   "cell_type": "code",
   "execution_count": 5,
   "metadata": {},
   "outputs": [
    {
     "name": "stdout",
     "output_type": "stream",
     "text": [
      "[0, 1, 2, 3, 4, 5, 6, 8, 9, 10, 12, 14, 15, 16, 18, 22, 24, 25, 26, 28, 32, 38, 41, 42, 43, 45, 48, 49, 55, 65, 69, 70, 71, 73, 77, 82, 83, 93, 110, 118, 119, 120, 122, 126, 132, 138, 142, 159, 187, 201, 202, 203, 205, 209, 215, 225, 236, 242, 270, 319, 342, 343, 344, 346, 350, 356, 366, 383, 402, 411, 460]\n"
     ]
    }
   ],
   "source": [
    "# Get all registered times\n",
    "alltimes = []\n",
    "for t in f['alltime'][:]:\n",
    "    if 'W'+str(t) in f:\n",
    "        alltimes.append(t)\n",
    "print(alltimes)"
   ]
  },
  {
   "cell_type": "code",
   "execution_count": 6,
   "metadata": {},
   "outputs": [],
   "source": [
    "t = alltimes[-1]\n",
    "lr = 0.01\n",
    "NGibbs = 100\n",
    "annSteps = 0\n",
    "mb_s = 600\n",
    "num_pcd = 100\n",
    "Nh = torch.tensor(f['W0']).shape[0]\n",
    "Nv = data.shape[1]\n",
    "ep_max = 10\n",
    "w_hat = torch.linspace(0,1,steps=100)\n",
    "_, S_d, V = torch.svd(data)\n",
    "V0 = V[:,0]\n",
    "N = 20000\n",
    "it_mean = 50"
   ]
  },
  {
   "cell_type": "code",
   "execution_count": 7,
   "metadata": {},
   "outputs": [],
   "source": [
    "myRBM = TMCRBM(num_visible=Nv,\n",
    "            num_hidden=Nh,\n",
    "            device=device,\n",
    "            lr=lr,\n",
    "            gibbs_steps=NGibbs,\n",
    "            UpdCentered=False,\n",
    "            mb_s=mb_s,\n",
    "            num_pcd=num_pcd,\n",
    "            N = N,\n",
    "            it_mean = it_mean,\n",
    "           )"
   ]
  },
  {
   "cell_type": "code",
   "execution_count": 8,
   "metadata": {},
   "outputs": [],
   "source": [
    "myRBM.W = torch.tensor(f['W'+str(t)], device = myRBM.device)\n",
    "myRBM.hbias = torch.tensor(f['hbias'+str(t)], device = myRBM.device)\n",
    "myRBM.vbias = torch.tensor(f['vbias'+str(t)], device = myRBM.device)\n",
    "_, _, V_g = torch.svd(myRBM.W)\n",
    "if torch.mean(V_g[:,0])<0:\n",
    "    V_g = -V_g\n"
   ]
  },
  {
   "cell_type": "code",
   "execution_count": 9,
   "metadata": {},
   "outputs": [],
   "source": [
    "#myRBM.fit(data.T, ep_max)"
   ]
  },
  {
   "cell_type": "code",
   "execution_count": 10,
   "metadata": {},
   "outputs": [],
   "source": [
    "vinit = torch.bernoulli(torch.rand(\n",
    "        (myRBM.Nv, 1000), device=myRBM.device, dtype=myRBM.dtype))\n",
    "#vinit = torch.where(V_g[:,0]>0, 1, 0).repeat(2000).reshape(myRBM.Nv, 2000).float()\n",
    "#vinit = data.T\n",
    "si, _, _, _ = myRBM.Sampling(vinit, it_mcmc=1000)\n"
   ]
  },
  {
   "cell_type": "code",
   "execution_count": 11,
   "metadata": {},
   "outputs": [],
   "source": [
    "nb_chain = 10  # Nb de chaines pour chaque w_hat\n",
    "it_mcmc = 50  # Nb it_mcmc pour chaque chaine\n",
    "it_mean = 20 # Nb it considérée pour la moyenne temporelle de chaque chaine\n",
    "N = 20000  # Contrainte\n",
    "nb_point = 700  # Nb de points de discrétisation pour w_hat\n",
    "start = torch.bernoulli(torch.rand(\n",
    "    Nv, nb_chain*nb_point, device=device))\n",
    "# SVD des poids\n",
    "_, _, V0 = torch.svd(myRBM.W)\n",
    "V0 = V0[:, 0]\n",
    "# proj_data = torch.mv(X.T, V0)\n",
    "# xmin = torch.min(proj_data)\n",
    "if torch.mean(V0) < 0:\n",
    "    V0 = -V0\n",
    "#V0 = V[:,0]\n",
    "proj_data = torch.mv(data, V_g[:,0])/Nv**0.5\n",
    "xmin = torch.min(proj_data) - 0.2\n",
    "xmax = torch.max(proj_data) + 0.2\n",
    "w_hat_b = torch.linspace(\n",
    "    xmin, xmax, steps=nb_point, device=device)\n",
    "w_hat = torch.zeros(nb_chain*nb_point, device=device)\n",
    "for i in range(nb_point):\n",
    "    for j in range(nb_chain):\n",
    "        w_hat[i*nb_chain+j] = w_hat_b[i]\n",
    "tmpv, tmph, vtab = myRBM.TMCSample(\n",
    "    start, w_hat, N, V0, it_mcmc=it_mcmc, it_mean=it_mean)\n",
    "y = np.array(torch.mm(vtab.T, V0.unsqueeze(1)\n",
    "                      ).cpu().squeeze())/Nv**0.5\n",
    "newy = np.array([np.mean(y[i*nb_chain:i*nb_chain+nb_chain])\n",
    "                 for i in range(nb_point)])\n",
    "w_hat = w_hat.cpu().numpy()\n",
    "w_hat_b_np = w_hat_b.cpu().numpy()\n",
    "\n",
    "from scipy.interpolate import UnivariateSpline\n",
    "\n",
    "res = np.zeros(len(w_hat_b)-1)\n",
    "for i in range(4, len(w_hat_b)):\n",
    "#    res[i-1] = simps(newy[:i]-w_hat_b_np[:i], w_hat_b_np[:i])\n",
    "    TMPF = UnivariateSpline( w_hat_b_np[:i], newy[:i]-w_hat_b_np[:i])\n",
    "    res[i-1] = TMPF.integral(w_hat_b_np[0], w_hat_b_np[-1])\n",
    "    \n",
    "#const = simps(np.exp(N*res-np.max(N*res)), w_hat_b_np[:-1])\n",
    "TMPF2 = UnivariateSpline( w_hat_b_np[:-1], np.exp(N*res-np.max(N*res)))\n",
    "const = TMPF2.integral(w_hat_b_np[0], w_hat_b_np[-1])\n",
    "p_m = torch.tensor(np.exp(N*res-np.max(N*res)) /\n",
    "                   const, device=myRBM.device)\n",
    "s_i = torch.stack([torch.mean(\n",
    "    tmpv[:, i*nb_chain:i*nb_chain+nb_chain], dim=1) for i in range(nb_point)], 1)\n",
    "tau_a = torch.stack([torch.mean(\n",
    "    tmph[:, i*nb_chain:i*nb_chain+nb_chain], dim=1) for i in range(nb_point)], 1)\n",
    "s_i = torch.trapz(s_i[:, 1:]*p_m,w_hat_b[1:], dim=1)\n",
    "tau_a = torch.trapz(tau_a[:, 1:]*p_m,w_hat_b[1:], dim=1)\n",
    "prod = torch.zeros(\n",
    "    (Nv, Nh, nb_point*nb_chain), device=device)\n",
    "for i in range(tmpv.shape[1]):\n",
    "    prod[:, :, i] = torch.outer(tmpv[:, i], tmph[:, i])\n",
    "prod = torch.stack([torch.mean(\n",
    "    prod[:, :, i*nb_chain:i*nb_chain+nb_chain], dim=2) for i in range(nb_point)], 2)\n",
    "prod = torch.trapz(prod[:, :, 1:]*p_m, w_hat_b[1:], dim=2)"
   ]
  },
  {
   "cell_type": "code",
   "execution_count": 12,
   "metadata": {},
   "outputs": [
    {
     "data": {
      "text/plain": [
       "[<matplotlib.lines.Line2D at 0x7f86fbf521c0>]"
      ]
     },
     "execution_count": 12,
     "metadata": {},
     "output_type": "execute_result"
    },
    {
     "data": {
      "image/png": "[encoded data removed]",
      "text/plain": [
       "<Figure size 1200x800 with 1 Axes>"
      ]
     },
     "metadata": {
      "needs_background": "light"
     },
     "output_type": "display_data"
    }
   ],
   "source": [
    "## V_g = V\n",
    "p1 = torch.tensor(np.load(\"p1.npy\"))\n",
    "p2 = torch.tensor(np.load(\"p2.npy\"))\n",
    "proj_gen = torch.mm(si.T, V_g)[:,0]/myRBM.Nv**0.5\n",
    "proj_data = torch.mm(data, V_g)[:,0]/myRBM.Nv**0.5\n",
    "\n",
    "plt.figure(dpi = 200)\n",
    "plt.xlim(torch.min(proj_data).item()-0.2, torch.max(proj_data).item()+0.2)\n",
    "\n",
    "#proj_data = (proj_data-min(proj_data))/(max(proj_data)-min(proj_data))\n",
    "plt.hist(proj_data.cpu().numpy(), bins = 100, density = True);\n",
    "plt.hist(proj_gen.cpu().numpy(), bins = 100, density = True);\n",
    "plt.plot(w_hat_b.cpu().numpy()[1:],(p_m).cpu().numpy(), '-' , zorder = 10)\n",
    "#plt.plot(w_hat_b.cpu().numpy()[1:], p1.cpu().numpy(), '-')\n",
    "#plt.plot(w_hat_b.cpu().numpy()[1:], p2.cpu().numpy(), '-')\n",
    "\n",
    "#plt.semilogy()"
   ]
  },
  {
   "cell_type": "code",
   "execution_count": 13,
   "metadata": {},
   "outputs": [
    {
     "data": {
      "text/plain": [
       "[<matplotlib.lines.Line2D at 0x7f86fbf08dc0>]"
      ]
     },
     "execution_count": 13,
     "metadata": {},
     "output_type": "execute_result"
    },
    {
     "data": {
      "image/png": "[encoded data removed]",
      "text/plain": [
       "<Figure size 432x288 with 1 Axes>"
      ]
     },
     "metadata": {
      "needs_background": "light"
     },
     "output_type": "display_data"
    }
   ],
   "source": [
    "plt.plot(p_m.cpu())"
   ]
  },
  {
   "cell_type": "code",
   "execution_count": 14,
   "metadata": {},
   "outputs": [],
   "source": [
    "#simps(w_hat_b_np,p_m.cpu().numpy())"
   ]
  },
  {
   "cell_type": "code",
   "execution_count": 15,
   "metadata": {},
   "outputs": [],
   "source": [
    "p2 = p_m"
   ]
  },
  {
   "cell_type": "code",
   "execution_count": 16,
   "metadata": {},
   "outputs": [],
   "source": [
    "p1 = p_m"
   ]
  },
  {
   "cell_type": "code",
   "execution_count": 17,
   "metadata": {},
   "outputs": [
    {
     "data": {
      "text/plain": [
       "<matplotlib.legend.Legend at 0x7f86fc421970>"
      ]
     },
     "execution_count": 17,
     "metadata": {},
     "output_type": "execute_result"
    },
    {
     "data": {
      "image/png": "[encoded data removed]",
      "text/plain": [
       "<Figure size 432x288 with 1 Axes>"
      ]
     },
     "metadata": {
      "needs_background": "light"
     },
     "output_type": "display_data"
    }
   ],
   "source": [
    "_, _, newV = torch.svd(data)\n",
    "proj_gen = torch.mm(si, V_g).cpu()/myRBM.Nv**0.5\n",
    "proj_data = torch.mm(data, V_g).cpu()/myRBM.Nv**0.5\n",
    "plt.scatter(proj_data[:,0], proj_data[:,1], label = 'data')\n",
    "plt.scatter(proj_gen[:,0], proj_gen[:,1], label = 'gen data')\n",
    "plt.legend()"
   ]
  },
  {
   "cell_type": "code",
   "execution_count": 18,
   "metadata": {},
   "outputs": [
    {
     "data": {
      "text/plain": [
       "<matplotlib.collections.LineCollection at 0x7f86fc34d1c0>"
      ]
     },
     "execution_count": 18,
     "metadata": {},
     "output_type": "execute_result"
    },
    {
     "data": {
      "image/png": "[encoded data removed]",
      "text/plain": [
       "<Figure size 1200x800 with 1 Axes>"
      ]
     },
     "metadata": {
      "needs_background": "light"
     },
     "output_type": "display_data"
    }
   ],
   "source": [
    "#tmpgrad = np.load(\"tmpgrad.pt.npy\")\n",
    "plt.figure(dpi = 200)\n",
    "plt.plot(w_hat_b.cpu().numpy(),newy-w_hat_b.cpu().numpy())\n",
    "#plt.plot(w_hat_b.cpu().numpy(), x1)\n",
    "#plt.plot(w_hat_b.cpu().numpy(), tmpgrad)\n",
    "plt.hlines(0,0,1)"
   ]
  },
  {
   "cell_type": "code",
   "execution_count": 19,
   "metadata": {},
   "outputs": [],
   "source": [
    "x1 = newy-w_hat_b.cpu().numpy()"
   ]
  },
  {
   "cell_type": "code",
   "execution_count": 20,
   "metadata": {},
   "outputs": [
    {
     "data": {
      "text/plain": [
       "[<matplotlib.lines.Line2D at 0x7f86fc234880>]"
      ]
     },
     "execution_count": 20,
     "metadata": {},
     "output_type": "execute_result"
    },
    {
     "data": {
      "image/png": "[encoded data removed]",
      "text/plain": [
       "<Figure size 432x288 with 1 Axes>"
      ]
     },
     "metadata": {
      "needs_background": "light"
     },
     "output_type": "display_data"
    }
   ],
   "source": [
    "\n",
    "plt.plot(torch.log(p_m).cpu())"
   ]
  },
  {
   "cell_type": "code",
   "execution_count": 21,
   "metadata": {},
   "outputs": [],
   "source": [
    "i = -1"
   ]
  },
  {
   "cell_type": "code",
   "execution_count": 96,
   "metadata": {},
   "outputs": [
    {
     "ename": "IndexError",
     "evalue": "list index out of range",
     "output_type": "error",
     "traceback": [
      "\u001b[0;31m---------------------------------------------------------------------------\u001b[0m",
      "\u001b[0;31mIndexError\u001b[0m                                Traceback (most recent call last)",
      "\u001b[0;32m<ipython-input-96-a690ae2f8b04>\u001b[0m in \u001b[0;36m<module>\u001b[0;34m\u001b[0m\n\u001b[0;32m----> 1\u001b[0;31m \u001b[0mp\u001b[0m \u001b[0;34m=\u001b[0m \u001b[0mf\u001b[0m\u001b[0;34m[\u001b[0m\u001b[0;34m'p_m'\u001b[0m\u001b[0;34m+\u001b[0m\u001b[0mstr\u001b[0m\u001b[0;34m(\u001b[0m\u001b[0malltimes\u001b[0m\u001b[0;34m[\u001b[0m\u001b[0mi\u001b[0m\u001b[0;34m]\u001b[0m\u001b[0;34m)\u001b[0m\u001b[0;34m]\u001b[0m\u001b[0;34m\u001b[0m\u001b[0;34m\u001b[0m\u001b[0m\n\u001b[0m\u001b[1;32m      2\u001b[0m \u001b[0mprint\u001b[0m\u001b[0;34m(\u001b[0m\u001b[0malltimes\u001b[0m\u001b[0;34m[\u001b[0m\u001b[0mi\u001b[0m\u001b[0;34m]\u001b[0m\u001b[0;34m)\u001b[0m\u001b[0;34m\u001b[0m\u001b[0;34m\u001b[0m\u001b[0m\n\u001b[1;32m      3\u001b[0m \u001b[0mfig\u001b[0m\u001b[0;34m,\u001b[0m \u001b[0max\u001b[0m \u001b[0;34m=\u001b[0m \u001b[0mplt\u001b[0m\u001b[0;34m.\u001b[0m\u001b[0msubplots\u001b[0m\u001b[0;34m(\u001b[0m\u001b[0;36m1\u001b[0m\u001b[0;34m,\u001b[0m\u001b[0;36m2\u001b[0m\u001b[0;34m)\u001b[0m\u001b[0;34m\u001b[0m\u001b[0;34m\u001b[0m\u001b[0m\n\u001b[1;32m      4\u001b[0m \u001b[0mfig\u001b[0m\u001b[0;34m.\u001b[0m\u001b[0mset_figwidth\u001b[0m\u001b[0;34m(\u001b[0m\u001b[0;36m25\u001b[0m\u001b[0;34m)\u001b[0m\u001b[0;34m\u001b[0m\u001b[0;34m\u001b[0m\u001b[0m\n\u001b[1;32m      5\u001b[0m \u001b[0mfig\u001b[0m\u001b[0;34m.\u001b[0m\u001b[0mset_figheight\u001b[0m\u001b[0;34m(\u001b[0m\u001b[0;36m7\u001b[0m\u001b[0;34m)\u001b[0m\u001b[0;34m\u001b[0m\u001b[0;34m\u001b[0m\u001b[0m\n",
      "\u001b[0;31mIndexError\u001b[0m: list index out of range"
     ]
    }
   ],
   "source": [
    "p = f['p_m'+str(alltimes[i])]\n",
    "print(alltimes[i])\n",
    "fig, ax = plt.subplots(1,2)\n",
    "fig.set_figwidth(25)\n",
    "fig.set_figheight(7)\n",
    "ax[0].plot(np.log(p))\n",
    "ax[1].plot(p)\n",
    "i+=1"
   ]
  },
  {
   "cell_type": "code",
   "execution_count": 23,
   "metadata": {},
   "outputs": [
    {
     "data": {
      "image/png": "[encoded data removed]",
      "text/plain": [
       "<Figure size 432x288 with 1 Axes>"
      ]
     },
     "metadata": {
      "needs_background": "light"
     },
     "output_type": "display_data"
    }
   ],
   "source": [
    "mb = data[:600,:]\n",
    "a = myRBM.SampleHiddens01(mb)\n",
    "plt.hist(torch.sum(mb, 1).cpu().numpy()/600, bins = 100);"
   ]
  },
  {
   "cell_type": "code",
   "execution_count": 24,
   "metadata": {},
   "outputs": [
    {
     "ename": "ValueError",
     "evalue": "cannot reshape array of size 100000 into shape (20000,)",
     "output_type": "error",
     "traceback": [
      "\u001b[0;31m---------------------------------------------------------------------------\u001b[0m",
      "\u001b[0;31mValueError\u001b[0m                                Traceback (most recent call last)",
      "\u001b[0;32m<ipython-input-24-e3cd150997e4>\u001b[0m in \u001b[0;36m<module>\u001b[0;34m\u001b[0m\n\u001b[0;32m----> 1\u001b[0;31m \u001b[0mplt\u001b[0m\u001b[0;34m.\u001b[0m\u001b[0mhist\u001b[0m\u001b[0;34m(\u001b[0m\u001b[0mprod\u001b[0m\u001b[0;34m.\u001b[0m\u001b[0mcpu\u001b[0m\u001b[0;34m(\u001b[0m\u001b[0;34m)\u001b[0m\u001b[0;34m.\u001b[0m\u001b[0mnumpy\u001b[0m\u001b[0;34m(\u001b[0m\u001b[0;34m)\u001b[0m\u001b[0;34m.\u001b[0m\u001b[0mreshape\u001b[0m\u001b[0;34m(\u001b[0m\u001b[0;36m20000\u001b[0m\u001b[0;34m)\u001b[0m\u001b[0;34m,\u001b[0m\u001b[0mbins\u001b[0m \u001b[0;34m=\u001b[0m \u001b[0;36m100\u001b[0m\u001b[0;34m)\u001b[0m\u001b[0;34m;\u001b[0m\u001b[0;34m\u001b[0m\u001b[0;34m\u001b[0m\u001b[0m\n\u001b[0m",
      "\u001b[0;31mValueError\u001b[0m: cannot reshape array of size 100000 into shape (20000,)"
     ]
    }
   ],
   "source": [
    "plt.hist(prod.cpu().numpy().reshape(20000),bins = 100);"
   ]
  },
  {
   "cell_type": "code",
   "execution_count": null,
   "metadata": {},
   "outputs": [],
   "source": [
    "X_pc, _, h_neg_v, h_neg_m = myRBM.GetAv()\n",
    "neggradW = h_neg_v.mm(X_pc.t())/100\n",
    "#proj_grad_W = torch.mm(neggradW, V_g)[:,0]\n",
    "plt.hist(neggradW.cpu().numpy().reshape(20000), bins = 100);"
   ]
  },
  {
   "cell_type": "code",
   "execution_count": null,
   "metadata": {},
   "outputs": [],
   "source": [
    "plt.xlim(0.1,0.2)\n",
    "plt.plot(w_hat_b.cpu().numpy(),newy-w_hat_b.cpu().numpy())\n",
    "plt.hlines(0,xmin,xmax)"
   ]
  },
  {
   "cell_type": "code",
   "execution_count": null,
   "metadata": {},
   "outputs": [],
   "source": [
    " _, S, _ = torch.svd(myRBM.W)\n",
    "plt.plot(S.cpu())\n",
    "plt.plot(S_d.cpu()[:len(S)])\n",
    "plt.semilogy()"
   ]
  },
  {
   "cell_type": "code",
   "execution_count": null,
   "metadata": {},
   "outputs": [],
   "source": [
    "plt.plot(S.cpu())\n",
    "plt.plot(S_d.cpu())\n",
    "plt.semilogy()"
   ]
  },
  {
   "cell_type": "code",
   "execution_count": null,
   "metadata": {},
   "outputs": [],
   "source": [
    "S = torch.zeros(10, len(alltimes), device = device)\n",
    "for i in range(len(alltimes)):\n",
    "    t = alltimes[i]\n",
    "    _, tmpS, tmpV = torch.svd(torch.tensor(f['W'+str(t)], device = device))\n",
    "    if torch.mean(tmpV[:,0])<0:\n",
    "        tmpV = -tmpV\n",
    "    plt.plot(tmpV[:,0].cpu(), zorder=0)\n",
    "    S[:,i] = tmpS[:10]\n",
    "plt.hlines(1/np.sqrt(1000), 0, 1000, color = 'black', zorder=10)\n"
   ]
  },
  {
   "cell_type": "code",
   "execution_count": null,
   "metadata": {},
   "outputs": [],
   "source": [
    "plt.plot(alltimes,S.T.cpu())\n",
    "plt.xlabel(\"nb_upd\");"
   ]
  },
  {
   "cell_type": "code",
   "execution_count": null,
   "metadata": {},
   "outputs": [],
   "source": [
    "nb_chain = 15 # Nb de chaines pour chaque w_hat\n",
    "it_mcmc = 100 # Nb it_mcmc pour chaque chaine\n",
    "it_mean = 70 # Nb it considérée pour la moyenne temporelle de chaque chaine\n",
    "N = 20000 # Contrainte\n",
    "nb_point = 10000 # Nb de points de discrétisation pour w_hat\n",
    "xmin = -0.0 \n",
    "xmax = 1.0"
   ]
  },
  {
   "cell_type": "code",
   "execution_count": null,
   "metadata": {},
   "outputs": [],
   "source": [
    "def TMCSample(v, w_hat, N, V,it_mcmc=100,it_mean=50, ß=1):\n",
    "    #print(\"Initialisation\")\n",
    "    #s = time.time()\n",
    "    vtab = torch.zeros(v.shape, device = device)\n",
    "    v_curr = v\n",
    "    V = V\n",
    "    norm = 1/(v_curr.shape[0]**0.5)\n",
    "    w_curr = (torch.mv(v_curr.T, V)*norm)\n",
    "    \n",
    "    index = torch.randperm(v_curr.shape[0])\n",
    "    #print(time.time()-s)\n",
    "    #print(\"IT MCMC\")\n",
    "    #s = time.time()\n",
    "\n",
    "    for t in range(it_mcmc):\n",
    "        #print('init it')\n",
    "        print(t)\n",
    "        h_curr, _ = myRBM.SampleHiddens01(v_curr)\n",
    "        h_i = (torch.mm(myRBM.W.T, h_curr)+myRBM.vbias.reshape(v.shape[0],1)) # Nv x Ns\n",
    "        w_next = w_curr.clone()\n",
    "        \n",
    "        v_next = torch.clone(v_curr)\n",
    "        index = torch.randperm(v_curr.shape[0])\n",
    "        for idx in range(v_curr.shape[0]):\n",
    "            #print('upd comp')\n",
    "            #s = time.time()\n",
    "            i = idx\n",
    "            v_next[i,:] = 1-v_curr[i,:]\n",
    "            w_next += ((2*v_next[i,:]-1)*V[i]*norm)\n",
    "\n",
    "            # On calcul -DeltaE\n",
    "            ΔE = ß*((2*v_next[i,:]-1)*h_i[i,:])-(N/2)*((w_hat-w_next)**2-(w_hat-w_curr)**2)\n",
    "\n",
    "            tir = torch.rand(v_curr.shape[1],1, device = torch.device(\"cuda\")).squeeze()\n",
    "            prob = torch.exp(ΔE).squeeze()\n",
    "            v_curr[i,:] = torch.where(tir<prob, v_next[i,:], v_curr[i,:])\n",
    "            v_next[i,:] = torch.where(tir<prob, v_next[i,:], 1-v_next[i,:])\n",
    "            w_curr = torch.where(tir<prob, w_next, w_curr)\n",
    "            w_next = torch.where(tir<prob, w_next, w_curr)\n",
    "            #print(time.time()-s)\n",
    "        if (t>= (it_mcmc-it_mean)):\n",
    "            vtab += v_curr\n",
    "    #print(time.time()-s)\n",
    "\n",
    "    vtab = vtab*(1/it_mean)    \n",
    "    return v_curr, h_curr, vtab"
   ]
  },
  {
   "cell_type": "code",
   "execution_count": null,
   "metadata": {
    "scrolled": true
   },
   "outputs": [],
   "source": [
    "start = torch.bernoulli(torch.rand(myRBM.Nv, nb_chain*nb_point, device = device))\n",
    "V0 = V[:,0]\n",
    "# w_hat = torch.dot(start.T, V)[0:,]\n",
    "w_hat_b = torch.linspace(xmin, xmax, steps =nb_point, device = device)\n",
    "w_hat = torch.zeros(nb_chain*nb_point, device = device)\n",
    "for i in range(nb_point):\n",
    "    for j in range(nb_chain):\n",
    "        w_hat[i*nb_chain+j] = w_hat_b[i]\n",
    "tmpv, tmph, vtab = TMCSample(start, w_hat, N, V_g[:,0], it_mcmc = it_mcmc, it_mean=it_mean)\n",
    "\n"
   ]
  },
  {
   "cell_type": "code",
   "execution_count": null,
   "metadata": {},
   "outputs": [],
   "source": [
    "y = np.array(torch.mm(vtab.T, V_g).cpu().squeeze())/myRBM.Nv**0.5\n",
    "newy = np.array([np.mean(y[i*nb_chain:i*nb_chain+nb_chain]) for i in range(nb_point)])\n",
    "w_hat = w_hat.cpu().numpy()\n",
    "w_hat_b = w_hat_b.cpu().numpy()\n"
   ]
  },
  {
   "cell_type": "code",
   "execution_count": null,
   "metadata": {},
   "outputs": [],
   "source": [
    "res=np.zeros(len(w_hat_b)-1)\n",
    "for i in range(1,len(w_hat_b)):\n",
    "    res[i-1] = simps(newy[:i]-w_hat_b[:i], w_hat_b[:i])\n"
   ]
  },
  {
   "cell_type": "code",
   "execution_count": null,
   "metadata": {},
   "outputs": [],
   "source": [
    "const = simps(np.exp(N*res-np.max(N*res)), w_hat_b[:-1])\n",
    "p_m = np.exp(N*res-np.max(N*res))/const"
   ]
  },
  {
   "cell_type": "code",
   "execution_count": null,
   "metadata": {},
   "outputs": [],
   "source": [
    "print(simps(p_m, w_hat_b[:-1]))\n",
    "potential = res + (1/N)*np.log(const)"
   ]
  },
  {
   "cell_type": "code",
   "execution_count": null,
   "metadata": {},
   "outputs": [],
   "source": [
    "print(np.exp((N*res-np.max(N*res))))\n",
    "print(const)\n",
    "print(res)"
   ]
  },
  {
   "cell_type": "code",
   "execution_count": null,
   "metadata": {},
   "outputs": [],
   "source": [
    "proj_data =torch.mm(torch.tensor(data, device = device, dtype = dtype), V_g).cpu()/myRBM.Nv**0.5\n",
    "fig, ax1 = plt.subplots(dpi = 200)\n",
    "\n",
    "color = 'tab:red'\n",
    "ax1.set_xlabel(\"w_hat\")\n",
    "ax1.plot(w_hat_b,newy-w_hat_b,color='red', label = \"grad potential\")\n",
    "ax1.plot(w_hat_b[1:], potential, label = 'potential')\n",
    "ax1.hlines(0,0,1, color = 'black')\n",
    "#ax1.scatter(proj_gen[:,0], proj_gen[:,1],alpha=0.2, label = 'data_gen')\n",
    "ax1.tick_params(axis='y', labelcolor=color)\n",
    "\n",
    "ax2 = ax1.twinx()  # instantiate a second axes that shares the same x-axis\n",
    "\n",
    "color = 'tab:blue'\n",
    "rdm_y = torch.randn(proj_data[:,0].shape)/20\n",
    "ax2.hist(proj_data[:,0].numpy(), label = 'data', density=True, bins=200)\n",
    "ax2.plot(w_hat_b[1:], p_m, color = \"green\", label = \"prob\")\n",
    "\n",
    "ax2.tick_params(axis='y', labelcolor=color)\n",
    "\n",
    "fig.tight_layout()  # otherwise the right y-label is slightly clipped\n",
    "ax1.legend()\n",
    "ax2.legend()\n",
    "plt.show()"
   ]
  },
  {
   "cell_type": "code",
   "execution_count": null,
   "metadata": {},
   "outputs": [],
   "source": [
    "plt.plot( w_hat_b, w_hat_b-newy)"
   ]
  },
  {
   "cell_type": "code",
   "execution_count": null,
   "metadata": {},
   "outputs": [],
   "source": [
    "plt.plot(w_hat_b[1:], p_m, color = \"green\", label = \"prob\")\n"
   ]
  },
  {
   "cell_type": "code",
   "execution_count": null,
   "metadata": {},
   "outputs": [],
   "source": [
    "p_m"
   ]
  },
  {
   "cell_type": "code",
   "execution_count": null,
   "metadata": {},
   "outputs": [],
   "source": [
    "proj_gen"
   ]
  },
  {
   "cell_type": "code",
   "execution_count": null,
   "metadata": {},
   "outputs": [],
   "source": []
  }
 ],
 "metadata": {
  "kernelspec": {
   "display_name": "Python 3",
   "language": "python",
   "name": "python3"
  },
  "language_info": {
   "codemirror_mode": {
    "name": "ipython",
    "version": 3
   },
   "file_extension": ".py",
   "mimetype": "text/x-python",
   "name": "python",
   "nbconvert_exporter": "python",
   "pygments_lexer": "ipython3",
   "version": "3.8.5"
  }
 },
 "nbformat": 4,
 "nbformat_minor": 4
}
