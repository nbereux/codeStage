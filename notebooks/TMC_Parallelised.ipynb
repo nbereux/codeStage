{
 "cells": [
  {
   "cell_type": "code",
   "execution_count": 1,
   "metadata": {},
   "outputs": [],
   "source": [
    "import numpy as np\n",
    "import matplotlib.pyplot as plt\n",
    "import torch\n",
    "import sys\n",
    "import time\n",
    "sys.path.insert(1, '/home/nicolas/code/src')\n",
    "sys.path.insert(1, '/home/nicolas/code/data')\n",
    "\n",
    "from RBM import RBM\n",
    "from scipy.integrate import simps\n",
    "\n",
    "\n",
    "device = torch.device(\"cuda\")\n",
    "dtype = torch.float\n",
    "torch.set_num_threads(4)"
   ]
  },
  {
   "cell_type": "code",
   "execution_count": 95,
   "metadata": {},
   "outputs": [],
   "source": [
    "def TMCSample(v, w_hat, N, V,it_mcmc=100, ß=1):\n",
    "    vtab = torch.zeros((v.shape[0], v.shape[1],it_mcmc+1))\n",
    "    vtab[:,:,0] = v[:,:]\n",
    "    v_curr = v\n",
    "    V = V\n",
    "    norm = 1/(v_curr.shape[0]**0.5)\n",
    "    w_curr = (torch.mv(v_curr.T, V)*norm)\n",
    "    \n",
    "    index = torch.randperm(v_curr.shape[0])\n",
    "    for t in range(it_mcmc):\n",
    "        print(t)\n",
    "        #start = time.time()\n",
    "        h_curr, _ = myRBM.SampleHiddens01(v_curr.cuda())\n",
    "        h_i = (torch.mm(myRBM.W.T, h_curr)+myRBM.vbias.reshape(v.shape[0],1))\n",
    "        w_next = w_curr.clone()\n",
    "        \n",
    "        v_next = torch.clone(v_curr)\n",
    "        index = torch.randperm(v_curr.shape[0])\n",
    "    \n",
    "        for idx in range(v_curr.shape[0]):\n",
    "            i = idx\n",
    "            v_next[i,:] = 1-v_curr[i,:]\n",
    "            w_next += ((2*v_next[i,:]-1)*V[i]*norm)\n",
    "\n",
    "            # On calcul -DeltaE\n",
    "            ΔE = ß*((2*v_next[i,:]-1)*h_i[i,:])-(N/2)*((w_hat-w_next)**2-(w_hat-w_curr)**2)\n",
    "            # tmp = torch.exp(ß*((2*v_next[i]-1)*h_i[i])-N*((w_hat-w_next)**2-(w_hat-w_curr)**2))\n",
    "            #x = torch.where(ΔE>=0, v_next[i,:], v_curr[i,:])\n",
    "            #if ΔE >= 0:      \n",
    "                #print(\"t1\")\n",
    "                #v_curr[i,:] = v_next[i,:]\n",
    "                #w_curr = w_next.clone()\n",
    "            tir = torch.rand(v_curr.shape[1],1, device = torch.device(\"cuda\")).squeeze()\n",
    "            prob = torch.exp(ΔE).squeeze()\n",
    "            v_next[i,:] = torch.where(tir<prob, v_next[i,:], v_curr[i,:])\n",
    "            w_next = torch.where(tir<prob, w_next, w_curr)\n",
    "            #print(\"t1\")\n",
    "            #    v_curr[i,:] = v_next[i,:]\n",
    "            #    w_curr = w_next.clone()\n",
    "            #else:\n",
    "            #    w_next = w_curr.clone()\n",
    "            #    v_next[i,:] = 1-v_curr[i,:]\n",
    "                            \n",
    "            #print(\"upd 1 var exec time = \", start_2-time.time())\n",
    "        vtab[:,:,t+1] = v_curr[:,:]\n",
    "        #print(\"it_mcmc exec time = \", time.time()-start)\n",
    "    return v_curr, h_curr, vtab"
   ]
  },
  {
   "cell_type": "code",
   "execution_count": 3,
   "metadata": {},
   "outputs": [],
   "source": [
    "W = np.genfromtxt('../data/C1d5c/rbm_W.dat').T\n",
    "vbias = np.genfromtxt('../data/C1d5c/rbm_vis.dat')\n",
    "hbias = -np.genfromtxt('../data/C1d5c/rbm_hid.dat')\n",
    "data = np.genfromtxt('../data/C1d5c/data_5.dat')\n",
    "data = (data+1)/2\n",
    "\n",
    "lr = 0.01\n",
    "l2 = 0\n",
    "NGibbs = 10\n",
    "annSteps = 0\n",
    "mb_s = 500\n",
    "num_pcd = 500\n",
    "Nh = W.shape[0]\n",
    "Nv = W.shape[1]\n",
    "\n",
    "ep_max = 100"
   ]
  },
  {
   "cell_type": "code",
   "execution_count": 4,
   "metadata": {},
   "outputs": [],
   "source": [
    "myRBM = RBM(num_visible=Nv,\n",
    "\t\t\t\tnum_hidden=Nh,\n",
    "\t\t\t\tdevice=device,\n",
    "\t\t\t\tlr=lr,\n",
    "\t\t\t\t#regL2=l2,\n",
    "\t\t\t\tgibbs_steps=NGibbs,\n",
    "\t\t\t\t#anneal_steps=annSteps,\n",
    "\t\t\t\tUpdCentered=True,\n",
    "\t\t\t\tmb_s=mb_s,\n",
    "\t\t\t\tnum_pcd=num_pcd)\n",
    "\n",
    "myRBM.W = torch.tensor(4*W).float().cuda()\n",
    "myRBM.vbias = torch.tensor(2*vbias - 2*W.sum(0)).float().to(device)\n",
    "myRBM.hbias = torch.tensor(2*hbias - 2*W.sum(1)).float().to(device)\n",
    "U, S, V = torch.svd(torch.tensor(4*W).float().cuda())\n"
   ]
  },
  {
   "cell_type": "code",
   "execution_count": 5,
   "metadata": {},
   "outputs": [],
   "source": [
    "start_points = torch.bernoulli(torch.rand(myRBM.Nv, 1000, device = device))\n",
    "arrival,_,_,_ = myRBM.Sampling(start_points, it_mcmc = 1000)\n",
    "proj_gen = torch.mm(arrival.T, V).cpu()/myRBM.Nv**0.5"
   ]
  },
  {
   "cell_type": "code",
   "execution_count": 97,
   "metadata": {
    "scrolled": true
   },
   "outputs": [
    {
     "name": "stdout",
     "output_type": "stream",
     "text": [
      "0\n",
      "1\n",
      "2\n",
      "3\n",
      "4\n",
      "5\n",
      "6\n",
      "7\n",
      "8\n",
      "9\n"
     ]
    }
   ],
   "source": [
    "start = torch.bernoulli(torch.rand(myRBM.Nv, 100, device = device))\n",
    "V0 = V[:,0]\n",
    "# w_hat = torch.dot(start.T, V)[0:,]\n",
    "w_hat = torch.linspace(0,1,steps =100, device = device)\n",
    "y = []\n",
    "N = 20000\n",
    "tmpv, tmph, vtab = TMCSample(start, w_hat, N, V0, it_mcmc = 10)\n",
    "#for i in range(len(w_hat)):\n",
    "#    print(i)\n",
    "#    tmpv, tmph, vtab= TMCSample(start, w_hat[i], N,V0, it_mcmc = 100)\n",
    "#    y.append(torch.mean(torch.dot(vtab[:,-60].T.cpu(), V0.cpu())))\n",
    "#y = np.array(y)/myRBM.Nv**0.5"
   ]
  },
  {
   "cell_type": "code",
   "execution_count": 101,
   "metadata": {},
   "outputs": [
    {
     "name": "stdout",
     "output_type": "stream",
     "text": [
      "\n"
     ]
    }
   ],
   "source": [
    "vtab.shape\n",
    "print()\n",
    "y = torch.mean(torch.mm(vtab[:,:,-5].T.cuda(), V0.unsqueeze(1)), dim = 1)\n",
    "y = np.array(y.cpu())/myRBM.Nv**0.5"
   ]
  },
  {
   "cell_type": "code",
   "execution_count": 102,
   "metadata": {},
   "outputs": [
    {
     "data": {
      "text/plain": [
       "(100,)"
      ]
     },
     "execution_count": 102,
     "metadata": {},
     "output_type": "execute_result"
    }
   ],
   "source": [
    "y.shape"
   ]
  },
  {
   "cell_type": "code",
   "execution_count": 103,
   "metadata": {},
   "outputs": [
    {
     "data": {
      "text/plain": [
       "[<matplotlib.lines.Line2D at 0x7f6705f39400>]"
      ]
     },
     "execution_count": 103,
     "metadata": {},
     "output_type": "execute_result"
    },
    {
     "data": {
      "image/png": "[encoded data removed]",
      "text/plain": [
       "<Figure size 432x288 with 1 Axes>"
      ]
     },
     "metadata": {
      "needs_background": "light"
     },
     "output_type": "display_data"
    }
   ],
   "source": [
    "plt.plot(w_hat.cpu(), y)"
   ]
  },
  {
   "cell_type": "code",
   "execution_count": null,
   "metadata": {},
   "outputs": [],
   "source": [
    "res=np.zeros(len(w_hat)-1)\n",
    "for i in range(1,len(w_hat)):\n",
    "    res[i-1] = simps(y[:i]-w_hat[:i].numpy(), w_hat[:i].numpy())\n",
    "const = 1/res[-1]\n",
    "p_m = np.exp(N*res)*const\n",
    "potential = res + (1/N)*np.log(res[-1])\n",
    "#plt.plot(w_hat[1:], potential)\n",
    "plt.plot(w_hat[1:], res)\n",
    "p_m;"
   ]
  }
 ],
 "metadata": {
  "kernelspec": {
   "display_name": "Python 3",
   "language": "python",
   "name": "python3"
  },
  "language_info": {
   "codemirror_mode": {
    "name": "ipython",
    "version": 3
   },
   "file_extension": ".py",
   "mimetype": "text/x-python",
   "name": "python",
   "nbconvert_exporter": "python",
   "pygments_lexer": "ipython3",
   "version": "3.8.5"
  }
 },
 "nbformat": 4,
 "nbformat_minor": 4
}
