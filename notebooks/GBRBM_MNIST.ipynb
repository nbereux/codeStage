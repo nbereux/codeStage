{
 "cells": [
  {
   "cell_type": "code",
   "execution_count": 2,
   "metadata": {},
   "outputs": [],
   "source": [
    "import sys\n",
    "sys.path.insert(1, '/home/nicolas/code/src')\n",
    "sys.path.insert(1, '/home/nicolas/code/data')\n",
    "\n",
    "from RBM import GBRBM\n",
    "\n",
    "import gzip\n",
    "import pickle\n",
    "import torch\n",
    "import numpy as np\n",
    "import matplotlib.pyplot as plt\n",
    "device = torch.device(\"cuda\")\n",
    "dtype = torch.float"
   ]
  },
  {
   "cell_type": "code",
   "execution_count": 3,
   "metadata": {},
   "outputs": [],
   "source": [
    "f = gzip.open('../dataset/mnist.pkl.gz', 'rb')\n",
    "u = pickle._Unpickler(f)\n",
    "u.encoding = 'latin1'\n",
    "p = u.load()\n",
    "train_set, _, _ = p\n",
    "\n",
    "X = torch.as_tensor(train_set[0][:10000,:].T, device = device, dtype = dtype)"
   ]
  },
  {
   "cell_type": "code",
   "execution_count": 4,
   "metadata": {},
   "outputs": [],
   "source": [
    "Nv = X.shape[0] # numbder of visible nodes\n",
    "Nh = 500 # number of hidden nodes\n",
    "lr_W1 = 0.01 # learning rate\n",
    "lr_W2 = 1e-4\n",
    "NGibbs=100  # number of gibbs steps\n",
    "n_mb = 500 # size of minibatches\n",
    "n_pcd = n_mb # size of the negative chain"
   ]
  },
  {
   "cell_type": "code",
   "execution_count": 6,
   "metadata": {},
   "outputs": [],
   "source": [
    "myRBM = GBRBM(num_visible=Nv,\n",
    "\t\t\t\tnum_hidden=Nh,\n",
    "\t\t\t\tdevice=device,\n",
    "\t\t\t\tlr_W1=lr_W1,\n",
    "                lr_W2=lr_W2,\n",
    "\t\t\t\tgibbs_steps=NGibbs,\n",
    "\t\t\t\tUpdCentered=True,\n",
    "\t\t\t\tmb_s=n_mb,\n",
    "\t\t\t\tnum_pcd=n_pcd)\n"
   ]
  },
  {
   "cell_type": "code",
   "execution_count": 7,
   "metadata": {
    "scrolled": true
   },
   "outputs": [
    {
     "name": "stdout",
     "output_type": "stream",
     "text": [
      "IT  0\n",
      "Saving nb_upd=0\n",
      "Saving nb_upd=1\n",
      "Saving nb_upd=2\n",
      "Saving nb_upd=3\n",
      "Saving nb_upd=4\n",
      "Saving nb_upd=5\n",
      "Saving nb_upd=6\n",
      "Saving nb_upd=8\n",
      "Saving nb_upd=9\n",
      "Saving nb_upd=10\n",
      "Saving nb_upd=12\n",
      "Saving nb_upd=14\n",
      "Saving nb_upd=15\n",
      "Saving nb_upd=16\n",
      "Saving nb_upd=18\n",
      "IT  1\n",
      "Saving nb_upd=22\n",
      "Saving nb_upd=24\n",
      "Saving nb_upd=25\n",
      "Saving nb_upd=26\n",
      "Saving nb_upd=28\n",
      "Saving nb_upd=32\n",
      "Saving nb_upd=38\n",
      "IT  2\n",
      "Saving nb_upd=41\n",
      "Saving nb_upd=42\n",
      "Saving nb_upd=43\n",
      "Saving nb_upd=45\n",
      "Saving nb_upd=48\n",
      "Saving nb_upd=49\n",
      "Saving nb_upd=55\n",
      "IT  3\n",
      "Saving nb_upd=65\n",
      "Saving nb_upd=69\n",
      "Saving nb_upd=70\n",
      "Saving nb_upd=71\n",
      "Saving nb_upd=73\n",
      "Saving nb_upd=77\n",
      "IT  4\n",
      "Saving nb_upd=82\n",
      "Saving nb_upd=83\n",
      "Saving nb_upd=93\n",
      "IT  5\n",
      "Saving nb_upd=110\n",
      "Saving nb_upd=118\n",
      "Saving nb_upd=119\n",
      "IT  6\n",
      "Saving nb_upd=120\n",
      "Saving nb_upd=122\n",
      "Saving nb_upd=126\n",
      "Saving nb_upd=132\n",
      "Saving nb_upd=138\n",
      "IT  7\n",
      "Saving nb_upd=142\n"
     ]
    },
    {
     "ename": "KeyboardInterrupt",
     "evalue": "",
     "output_type": "error",
     "traceback": [
      "\u001b[0;31m---------------------------------------------------------------------------\u001b[0m",
      "\u001b[0;31mKeyboardInterrupt\u001b[0m                         Traceback (most recent call last)",
      "\u001b[0;32m<ipython-input-7-155d37143ac0>\u001b[0m in \u001b[0;36m<module>\u001b[0;34m\u001b[0m\n\u001b[1;32m     17\u001b[0m \u001b[0mfq_msr_RBM\u001b[0m \u001b[0;34m=\u001b[0m \u001b[0;36m1000\u001b[0m\u001b[0;34m\u001b[0m\u001b[0;34m\u001b[0m\u001b[0m\n\u001b[1;32m     18\u001b[0m \u001b[0mmyRBM\u001b[0m\u001b[0;34m.\u001b[0m\u001b[0mlist_save_rbm\u001b[0m \u001b[0;34m=\u001b[0m \u001b[0mnp\u001b[0m\u001b[0;34m.\u001b[0m\u001b[0marange\u001b[0m\u001b[0;34m(\u001b[0m\u001b[0;36m1\u001b[0m\u001b[0;34m,\u001b[0m\u001b[0mep_max\u001b[0m\u001b[0;34m,\u001b[0m\u001b[0mfq_msr_RBM\u001b[0m\u001b[0;34m)\u001b[0m\u001b[0;34m\u001b[0m\u001b[0;34m\u001b[0m\u001b[0m\n\u001b[0;32m---> 19\u001b[0;31m \u001b[0mmyRBM\u001b[0m\u001b[0;34m.\u001b[0m\u001b[0mfit\u001b[0m\u001b[0;34m(\u001b[0m\u001b[0mX\u001b[0m\u001b[0;34m,\u001b[0m\u001b[0mep_max\u001b[0m\u001b[0;34m=\u001b[0m\u001b[0mep_max\u001b[0m\u001b[0;34m)\u001b[0m\u001b[0;34m\u001b[0m\u001b[0;34m\u001b[0m\u001b[0m\n\u001b[0m",
      "\u001b[0;32m~/code/src/RBM.py\u001b[0m in \u001b[0;36mfit\u001b[0;34m(self, X, ep_max)\u001b[0m\n\u001b[1;32m    237\u001b[0m                     \u001b[0mself\u001b[0m\u001b[0;34m.\u001b[0m\u001b[0mX_pc\u001b[0m \u001b[0;34m=\u001b[0m \u001b[0mself\u001b[0m\u001b[0;34m.\u001b[0m\u001b[0mX_pc\u001b[0m\u001b[0;34m.\u001b[0m\u001b[0mto\u001b[0m\u001b[0;34m(\u001b[0m\u001b[0mself\u001b[0m\u001b[0;34m.\u001b[0m\u001b[0mdevice\u001b[0m\u001b[0;34m)\u001b[0m\u001b[0;34m\u001b[0m\u001b[0;34m\u001b[0m\u001b[0m\n\u001b[1;32m    238\u001b[0m                 \u001b[0mXb\u001b[0m \u001b[0;34m=\u001b[0m \u001b[0mself\u001b[0m\u001b[0;34m.\u001b[0m\u001b[0mgetMiniBatches\u001b[0m\u001b[0;34m(\u001b[0m\u001b[0mXp\u001b[0m\u001b[0;34m,\u001b[0m \u001b[0mm\u001b[0m\u001b[0;34m)\u001b[0m\u001b[0;34m\u001b[0m\u001b[0;34m\u001b[0m\u001b[0m\n\u001b[0;32m--> 239\u001b[0;31m                 \u001b[0mself\u001b[0m\u001b[0;34m.\u001b[0m\u001b[0mfit_batch\u001b[0m\u001b[0;34m(\u001b[0m\u001b[0mXb\u001b[0m\u001b[0;34m)\u001b[0m\u001b[0;34m\u001b[0m\u001b[0;34m\u001b[0m\u001b[0m\n\u001b[0m\u001b[1;32m    240\u001b[0m \u001b[0;34m\u001b[0m\u001b[0m\n\u001b[1;32m    241\u001b[0m                 \u001b[0;32mif\u001b[0m \u001b[0mself\u001b[0m\u001b[0;34m.\u001b[0m\u001b[0mup_tot\u001b[0m \u001b[0;32min\u001b[0m \u001b[0mself\u001b[0m\u001b[0;34m.\u001b[0m\u001b[0mlist_save_time\u001b[0m\u001b[0;34m:\u001b[0m\u001b[0;34m\u001b[0m\u001b[0;34m\u001b[0m\u001b[0m\n",
      "\u001b[0;32m~/code/src/RBM.py\u001b[0m in \u001b[0;36mfit_batch\u001b[0;34m(self, X)\u001b[0m\n\u001b[1;32m    169\u001b[0m             \u001b[0mself\u001b[0m\u001b[0;34m.\u001b[0m\u001b[0mX_pc\u001b[0m\u001b[0;34m,\u001b[0m \u001b[0m_\u001b[0m\u001b[0;34m,\u001b[0m \u001b[0mh_neg_v\u001b[0m\u001b[0;34m,\u001b[0m \u001b[0mh_neg_m\u001b[0m \u001b[0;34m=\u001b[0m \u001b[0mself\u001b[0m\u001b[0;34m.\u001b[0m\u001b[0mGetAv\u001b[0m\u001b[0;34m(\u001b[0m\u001b[0;34m)\u001b[0m\u001b[0;34m\u001b[0m\u001b[0;34m\u001b[0m\u001b[0m\n\u001b[1;32m    170\u001b[0m         \u001b[0;32melse\u001b[0m\u001b[0;34m:\u001b[0m\u001b[0;34m\u001b[0m\u001b[0;34m\u001b[0m\u001b[0m\n\u001b[0;32m--> 171\u001b[0;31m             \u001b[0mself\u001b[0m\u001b[0;34m.\u001b[0m\u001b[0mX_pc\u001b[0m\u001b[0;34m,\u001b[0m \u001b[0m_\u001b[0m\u001b[0;34m,\u001b[0m \u001b[0mh_neg_v\u001b[0m\u001b[0;34m,\u001b[0m \u001b[0mh_neg_m\u001b[0m \u001b[0;34m=\u001b[0m \u001b[0mself\u001b[0m\u001b[0;34m.\u001b[0m\u001b[0mGetAv\u001b[0m\u001b[0;34m(\u001b[0m\u001b[0;34m)\u001b[0m\u001b[0;34m\u001b[0m\u001b[0;34m\u001b[0m\u001b[0m\n\u001b[0m\u001b[1;32m    172\u001b[0m \u001b[0;34m\u001b[0m\u001b[0m\n\u001b[1;32m    173\u001b[0m         \u001b[0mself\u001b[0m\u001b[0;34m.\u001b[0m\u001b[0mupdateWeights\u001b[0m\u001b[0;34m(\u001b[0m\u001b[0mX\u001b[0m\u001b[0;34m,\u001b[0m \u001b[0mh_pos_m\u001b[0m\u001b[0;34m,\u001b[0m \u001b[0mself\u001b[0m\u001b[0;34m.\u001b[0m\u001b[0mX_pc\u001b[0m\u001b[0;34m,\u001b[0m \u001b[0mh_neg_v\u001b[0m\u001b[0;34m,\u001b[0m \u001b[0mh_neg_m\u001b[0m\u001b[0;34m)\u001b[0m\u001b[0;34m\u001b[0m\u001b[0;34m\u001b[0m\u001b[0m\n",
      "\u001b[0;32m~/code/src/RBM.py\u001b[0m in \u001b[0;36mGetAv\u001b[0;34m(self, it_mcmc)\u001b[0m\n\u001b[1;32m    120\u001b[0m         \u001b[0;32mfor\u001b[0m \u001b[0mt\u001b[0m \u001b[0;32min\u001b[0m \u001b[0mrange\u001b[0m\u001b[0;34m(\u001b[0m\u001b[0;36m1\u001b[0m\u001b[0;34m,\u001b[0m \u001b[0mit_mcmc\u001b[0m\u001b[0;34m)\u001b[0m\u001b[0;34m:\u001b[0m\u001b[0;34m\u001b[0m\u001b[0;34m\u001b[0m\u001b[0m\n\u001b[1;32m    121\u001b[0m             \u001b[0mh\u001b[0m\u001b[0;34m,\u001b[0m \u001b[0mmh\u001b[0m \u001b[0;34m=\u001b[0m \u001b[0mself\u001b[0m\u001b[0;34m.\u001b[0m\u001b[0mSampleHiddens01\u001b[0m\u001b[0;34m(\u001b[0m\u001b[0mv\u001b[0m\u001b[0;34m,\u001b[0m \u001b[0mβ\u001b[0m\u001b[0;34m=\u001b[0m\u001b[0mβ\u001b[0m\u001b[0;34m)\u001b[0m\u001b[0;34m\u001b[0m\u001b[0;34m\u001b[0m\u001b[0m\n\u001b[0;32m--> 122\u001b[0;31m             \u001b[0mv\u001b[0m\u001b[0;34m,\u001b[0m \u001b[0mmu\u001b[0m \u001b[0;34m=\u001b[0m \u001b[0mself\u001b[0m\u001b[0;34m.\u001b[0m\u001b[0mSampleVisiblesGaus\u001b[0m\u001b[0;34m(\u001b[0m\u001b[0mh\u001b[0m\u001b[0;34m)\u001b[0m\u001b[0;34m\u001b[0m\u001b[0;34m\u001b[0m\u001b[0m\n\u001b[0m\u001b[1;32m    123\u001b[0m         \u001b[0;32mreturn\u001b[0m \u001b[0mv\u001b[0m\u001b[0;34m,\u001b[0m \u001b[0mmu\u001b[0m\u001b[0;34m,\u001b[0m \u001b[0mh\u001b[0m\u001b[0;34m,\u001b[0m \u001b[0mmh\u001b[0m\u001b[0;34m\u001b[0m\u001b[0;34m\u001b[0m\u001b[0m\n\u001b[1;32m    124\u001b[0m \u001b[0;34m\u001b[0m\u001b[0m\n",
      "\u001b[0;32m~/code/src/RBM.py\u001b[0m in \u001b[0;36mSampleVisiblesGaus\u001b[0;34m(self, H, eps)\u001b[0m\n\u001b[1;32m    105\u001b[0m             var.shape, device=self.device)*eps).to(self.device)\n\u001b[1;32m    106\u001b[0m         \u001b[0;31m# var = torch.abs(var)\u001b[0m\u001b[0;34m\u001b[0m\u001b[0;34m\u001b[0m\u001b[0;34m\u001b[0m\u001b[0m\n\u001b[0;32m--> 107\u001b[0;31m         \u001b[0msample\u001b[0m \u001b[0;34m=\u001b[0m \u001b[0mtorch\u001b[0m\u001b[0;34m.\u001b[0m\u001b[0mnormal\u001b[0m\u001b[0;34m(\u001b[0m\u001b[0mmean\u001b[0m\u001b[0;34m=\u001b[0m\u001b[0mmu\u001b[0m\u001b[0;34m,\u001b[0m \u001b[0mstd\u001b[0m\u001b[0;34m=\u001b[0m\u001b[0mvar\u001b[0m\u001b[0;34m)\u001b[0m\u001b[0;34m\u001b[0m\u001b[0;34m\u001b[0m\u001b[0m\n\u001b[0m\u001b[1;32m    108\u001b[0m         \u001b[0;32mreturn\u001b[0m \u001b[0msample\u001b[0m\u001b[0;34m,\u001b[0m \u001b[0mmu\u001b[0m\u001b[0;34m\u001b[0m\u001b[0;34m\u001b[0m\u001b[0m\n\u001b[1;32m    109\u001b[0m \u001b[0;34m\u001b[0m\u001b[0m\n",
      "\u001b[0;31mKeyboardInterrupt\u001b[0m: "
     ]
    }
   ],
   "source": [
    "myRBM.SetVisBias(X)\n",
    "myRBM.ResetPermChainBatch = True\n",
    "stamp = 'testGaussianMNIST'\n",
    "myRBM.file_stamp = stamp\t\n",
    "base = 1.7\n",
    "v = np.array([0,1],dtype=int)\n",
    "allm = np.append(np.array(0),base**np.array(list(range(30))))\n",
    "for k in range(30):\n",
    "\tfor m in allm:\n",
    "\t\tv = np.append(v,int(base**k)+int(m))\n",
    "\n",
    "v = np.array(list(set(v)))\n",
    "v = np.sort(v)\n",
    "myRBM.list_save_time = v\n",
    "\n",
    "ep_max = 1000\n",
    "fq_msr_RBM = 1000\n",
    "myRBM.list_save_rbm = np.arange(1,ep_max,fq_msr_RBM)\t\n",
    "myRBM.fit(X,ep_max=ep_max)"
   ]
  },
  {
   "cell_type": "code",
   "execution_count": 8,
   "metadata": {},
   "outputs": [],
   "source": [
    "vinit = torch.normal(torch.zeros((myRBM.Nv,1000), device=myRBM.device, dtype=myRBM.dtype))\n",
    "si,_ ,_,_ = myRBM.Sampling(vinit,it_mcmc=100)\n",
    "i=0"
   ]
  },
  {
   "cell_type": "code",
   "execution_count": 9,
   "metadata": {},
   "outputs": [
    {
     "data": {
      "image/png": "[encoded data removed]",
      "text/plain": [
       "<Figure size 432x288 with 2 Axes>"
      ]
     },
     "metadata": {
      "needs_background": "light"
     },
     "output_type": "display_data"
    }
   ],
   "source": [
    "plt.imshow(si[:,i].view(28,28).cpu())\n",
    "plt.colorbar()\n",
    "i+=1"
   ]
  },
  {
   "cell_type": "code",
   "execution_count": null,
   "metadata": {},
   "outputs": [],
   "source": [
    "X[:,0].view(28,28).cpu()"
   ]
  },
  {
   "cell_type": "code",
   "execution_count": null,
   "metadata": {},
   "outputs": [],
   "source": []
  }
 ],
 "metadata": {
  "kernelspec": {
   "display_name": "Python 3",
   "language": "python",
   "name": "python3"
  },
  "language_info": {
   "codemirror_mode": {
    "name": "ipython",
    "version": 3
   },
   "file_extension": ".py",
   "mimetype": "text/x-python",
   "name": "python",
   "nbconvert_exporter": "python",
   "pygments_lexer": "ipython3",
   "version": "3.8.5"
  }
 },
 "nbformat": 4,
 "nbformat_minor": 4
}
