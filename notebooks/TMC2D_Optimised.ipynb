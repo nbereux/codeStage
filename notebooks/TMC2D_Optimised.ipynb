{
 "cells": [
  {
   "cell_type": "code",
   "execution_count": 6,
   "metadata": {},
   "outputs": [],
   "source": [
    "import numpy as np\n",
    "import matplotlib.pyplot as plt\n",
    "import torch\n",
    "import sys\n",
    "import time\n",
    "import h5py\n",
    "sys.path.insert(1, '/home/nicolas/code/src')\n",
    "sys.path.insert(1, '/home/nicolas/code/data')\n",
    "\n",
    "from TMCRBM import TMCRBM\n",
    "from scipy.integrate import simps\n",
    "from scipy import stats\n",
    "\n",
    "\n",
    "device = torch.device(\"cuda\")\n",
    "dtype = torch.float\n",
    "torch.set_num_threads(4)\n",
    "data = torch.tensor(np.genfromtxt('../dataset/data_2d.dat'), device = device, dtype = dtype)\n",
    "\n",
    "data = (data+1)/2"
   ]
  },
  {
   "cell_type": "code",
   "execution_count": 7,
   "metadata": {},
   "outputs": [],
   "source": [
    "f = h5py.File(\"../model/AllParametersRBM_NGibbs_50_Nh100_Ns1000_Nmb600_Nepoch1000_lr_0.01_TMCTEST2D_updCentered_TRUE.h5\", 'r')\n",
    "alltimes = np.array(f['alltime'])\n",
    "alltimes = []\n",
    "for t in f['alltime'][:]:\n",
    "    if 'W'+str(t) in f:\n",
    "        alltimes.append(t)"
   ]
  },
  {
   "cell_type": "code",
   "execution_count": 3,
   "metadata": {},
   "outputs": [],
   "source": [
    "t = 4868\n",
    "lr = 0.01\n",
    "NGibbs = 100\n",
    "annSteps = 0\n",
    "mb_s = 600\n",
    "num_pcd = 100\n",
    "Nh = torch.tensor(f['W0']).shape[0]\n",
    "Nv = data.shape[1]\n",
    "ep_max = 10\n",
    "w_hat = torch.linspace(0,1,steps=100)\n",
    "_, S_d, V = torch.svd(data)\n",
    "V0 = V[:,0]\n",
    "N = 20000\n",
    "it_mean = 50\n",
    "myRBM = TMCRBM(num_visible=Nv,\n",
    "            num_hidden=Nh,\n",
    "            device=device,\n",
    "            lr=lr,\n",
    "            gibbs_steps=NGibbs,\n",
    "            UpdCentered=False,\n",
    "            mb_s=mb_s,\n",
    "            num_pcd=num_pcd,\n",
    "            N = N,\n",
    "            it_mean = it_mean,\n",
    "           )\n",
    "\n",
    "myRBM.W = torch.tensor(f['W'+str(t)], device = myRBM.device)\n",
    "myRBM.hbias = torch.tensor(f['hbias'+str(t)], device = myRBM.device)\n",
    "myRBM.vbias = torch.tensor(f['vbias'+str(t)], device = myRBM.device)\n",
    "_, _, V = torch.svd(myRBM.W)\n",
    "if torch.mean(V[:,0])<0:\n",
    "    V = -V\n",
    "f.close()"
   ]
  },
  {
   "cell_type": "code",
   "execution_count": 4,
   "metadata": {},
   "outputs": [],
   "source": [
    "# w_hat : nDim x nb_point\n",
    "# V : matrice de projection\n",
    "def TMCSampleND(v, w_hat, N, V, it_mcmc=100, it_mean=50, ß=1):\n",
    "    #print(\"Initialisation\")\n",
    "    vtab = torch.zeros(v.shape, device=device)\n",
    "    v_curr = v\n",
    "    norm = 1/(v_curr.shape[0]**0.5)\n",
    "    w_curr = (torch.mm(v_curr.T, V)*norm)[:,:w_hat.shape[0]]\n",
    "    index = torch.randperm(v_curr.shape[0])\n",
    "    for t in range(it_mcmc):\n",
    "        #print('init it')\n",
    "        print(t)\n",
    "        h_curr, _ = myRBM.SampleHiddens01(v_curr)\n",
    "        h_i = (torch.mm(myRBM.W.T, h_curr)+myRBM.vbias.reshape(v.shape[0],1)) # Nv x Ns\n",
    "        w_next = w_curr.clone()\n",
    "        \n",
    "        v_next = torch.clone(v_curr)\n",
    "        index = torch.randperm(v_curr.shape[0])\n",
    "        for idx in range(v_curr.shape[0]):\n",
    "            s = time.time()\n",
    "            i = idx\n",
    "            v_next[i,:] = 1-v_curr[i,:]\n",
    "            for j in range(w_next.shape[1]):\n",
    "                w_next[:,j] += ((2*v_next[i,:]-1)*V[i,j]*norm)\n",
    "                \n",
    "            # On calcul -DeltaE\n",
    "            ΔE = ß*((2*v_next[i,:]-1)*h_i[i,:])-(N/2)*(torch.sum((w_hat.T-w_next)**2, dim=1)-torch.sum((w_hat.T-w_curr)**2, dim=1))\n",
    "\n",
    "            tir = torch.rand(v_curr.shape[1],1, device = torch.device(\"cuda\")).squeeze()\n",
    "            prob = torch.exp(ΔE).squeeze()\n",
    "            v_curr[i,:] = torch.where(tir<prob, v_next[i,:], v_curr[i,:])\n",
    "            v_next[i,:] = torch.where(tir<prob, v_next[i,:], 1-v_next[i,:])\n",
    "            neg_index = torch.ones(w_curr.shape[0], dtype = bool)\n",
    "            index = torch.where(tir<prob)[0]\n",
    "            neg_index[index] = False\n",
    "            w_curr[index,:]=  w_next[index, :]\n",
    "            w_next[neg_index,:] =  w_curr[neg_index,:]\n",
    "            #print(time.time()-s)\n",
    "        if (t>= (it_mcmc-it_mean)):\n",
    "            vtab += v_curr\n",
    "    vtab = vtab*(1/it_mean)\n",
    "    vtab = vtab.reshape(Nv, nb_point, nb_chain)\n",
    "    v_curr = v_curr.reshape(Nv, nb_point, nb_chain)\n",
    "    h_curr = h_curr.reshape(Nh, nb_point, nb_chain)\n",
    "    return v_curr, h_curr, vtab"
   ]
  },
  {
   "cell_type": "code",
   "execution_count": 5,
   "metadata": {},
   "outputs": [],
   "source": [
    "_, _, V_g = torch.svd(myRBM.W)\n",
    "if torch.mean(V_g[:,0])<0:\n",
    "    V_g = -V_g\n",
    "proj_data =torch.mm(data, V_g).cpu()/myRBM.Nv**0.5\n"
   ]
  },
  {
   "cell_type": "code",
   "execution_count": 6,
   "metadata": {},
   "outputs": [],
   "source": [
    "nb_chain = 10 # Nb de chaines pour chaque w_hat\n",
    "it_mcmc = 100 # Nb it_mcmc pour chaque chaine\n",
    "it_mean = 90 # Nb it considérée pour la moyenne temporelle de chaque chaine\n",
    "nDim = 2\n",
    "nb_point_dim = torch.tensor([125, 125]) # -> doit avoir autant de terme que la valeur de nDim\n",
    "N = 20000 # Contrainte\n",
    "#nb_point_x = 125 # Nb de points de discrétisation pour w_hat\n",
    "#nb_point_y = 125\n",
    "width_plus = 0.2\n",
    "limits = torch.zeros((2, nDim))\n",
    "for i in range(nDim):\n",
    "    limits[0, i] = proj_data[:,i].min()-width_plus\n",
    "    limits[1, i] = proj_data[:,i].max()+width_plus\n",
    "\n",
    "xmin = proj_data[:,0].min()-width_plus\n",
    "xmax = proj_data[:,0].max()+width_plus\n",
    "ymin = proj_data[:,1].min()-width_plus\n",
    "ymax = proj_data[:,1].max()+width_plus\n",
    "nb_point = nb_point_dim.prod()"
   ]
  },
  {
   "cell_type": "code",
   "execution_count": 7,
   "metadata": {},
   "outputs": [
    {
     "data": {
      "text/plain": [
       "torch.Size([2, 15625])"
      ]
     },
     "execution_count": 7,
     "metadata": {},
     "output_type": "execute_result"
    }
   ],
   "source": [
    "x_grid = np.linspace(limits[0,0], limits[1,0], nb_point_dim[0])\n",
    "x_grid = np.array([x_grid for i in range(nb_point_dim[1])])\n",
    "x_grid = x_grid.reshape(nb_point)\n",
    "y_grid = []\n",
    "y_d = np.linspace(limits[0,1], limits[1,1], nb_point_dim[1])\n",
    "for i in range(nb_point_dim[0]):\n",
    "    for j in range(nb_point_dim[1]):\n",
    "        y_grid.append(y_d[i])\n",
    "grid = torch.tensor([x_grid, y_grid], device = device, dtype = dtype)\n",
    "grid.shape"
   ]
  },
  {
   "cell_type": "code",
   "execution_count": 8,
   "metadata": {
    "scrolled": true
   },
   "outputs": [
    {
     "name": "stdout",
     "output_type": "stream",
     "text": [
      "0\n",
      "1\n",
      "2\n",
      "3\n",
      "4\n",
      "5\n",
      "6\n",
      "7\n",
      "8\n",
      "9\n",
      "10\n",
      "11\n",
      "12\n",
      "13\n",
      "14\n",
      "15\n",
      "16\n",
      "17\n",
      "18\n",
      "19\n",
      "20\n",
      "21\n",
      "22\n",
      "23\n",
      "24\n",
      "25\n",
      "26\n",
      "27\n",
      "28\n",
      "29\n",
      "30\n",
      "31\n",
      "32\n",
      "33\n",
      "34\n",
      "35\n",
      "36\n",
      "37\n",
      "38\n",
      "39\n",
      "40\n",
      "41\n",
      "42\n",
      "43\n",
      "44\n",
      "45\n",
      "46\n",
      "47\n",
      "48\n",
      "49\n",
      "50\n",
      "51\n",
      "52\n",
      "53\n",
      "54\n",
      "55\n",
      "56\n",
      "57\n",
      "58\n",
      "59\n",
      "60\n",
      "61\n",
      "62\n",
      "63\n",
      "64\n",
      "65\n",
      "66\n",
      "67\n",
      "68\n",
      "69\n",
      "70\n",
      "71\n",
      "72\n",
      "73\n",
      "74\n",
      "75\n",
      "76\n",
      "77\n",
      "78\n",
      "79\n",
      "80\n",
      "81\n",
      "82\n",
      "83\n",
      "84\n",
      "85\n",
      "86\n",
      "87\n",
      "88\n",
      "89\n",
      "90\n",
      "91\n",
      "92\n",
      "93\n",
      "94\n",
      "95\n",
      "96\n",
      "97\n",
      "98\n",
      "99\n"
     ]
    }
   ],
   "source": [
    "start = torch.bernoulli(torch.rand(myRBM.Nv, nb_chain*nb_point, device = device))\n",
    "# w_hat = torch.dot(start.T, V)[0:,]\n",
    "w_hat_b = grid\n",
    "w_hat = torch.zeros((2, nb_chain*nb_point), device = device)\n",
    "for i in range(nb_point):\n",
    "    for j in range(nb_chain):\n",
    "        w_hat[:,i*nb_chain+j] = w_hat_b[:,i]\n",
    "tmpv, tmph, vtab = TMCSampleND(start, w_hat, N, V_g, it_mcmc = it_mcmc, it_mean=it_mean)\n",
    "\n"
   ]
  },
  {
   "cell_type": "code",
   "execution_count": 12,
   "metadata": {},
   "outputs": [],
   "source": [
    "newy = torch.mm(torch.mean(vtab, dim = 2).T, V_g)[:,:nDim]/Nv**0.5\n",
    "#y = torch.mm(vtab.T, V_g)[:,:nDim]/myRBM.Nv**0.5\n",
    "#newy = torch.tensor([torch.mean(y[i*nb_chain:i*nb_chain+nb_chain,:], dim = 0).cpu().numpy() for i in range(nb_point)])\n",
    "#w_hat = w_hat.cpu().numpy()\n",
    "#w_hat_b = w_hat_b.cpu().numpy()"
   ]
  },
  {
   "cell_type": "code",
   "execution_count": 14,
   "metadata": {},
   "outputs": [],
   "source": [
    "grad_pot = newy.T-w_hat_b\n",
    "square = torch.zeros(2, nb_point_dim[0], nb_point_dim[1])\n",
    "w_hat_tmp = np.zeros((2, nb_point_dim[0], nb_point_dim[1]))\n",
    "for i in range(0,grad_pot.shape[1], nb_point_dim[0]):\n",
    "        #print(\"I : \", i/nb_point_x)\n",
    "        #print(\"s : \", (i*nb_point_x))\n",
    "        #print(\"e : \", (i*nb_point_x+nb_point_x))\n",
    "        w_hat_tmp[:,:,int(i/nb_point_dim[0])] = w_hat_b[:, i:(i+nb_point_dim[0])].cpu().numpy()\n",
    "        square[:,:, int(i/nb_point_dim[0])] = grad_pot[:,i:(i+nb_point_dim[0])]\n",
    "#square = grad_pot.reshape(2,nb_point_x, nb_point_y)\n",
    "w_hat_dim = []\n",
    "for i in range(nDim):\n",
    "    w_hat_dim.append(np.linspace(limits[0,i], limits[1,i], nb_point_dim[i]))\n",
    "\n",
    "#calcul de l'intégrale sur w_1\n",
    "res_x = np.zeros((nb_point_dim[0],nb_point_dim[1]))\n",
    "for j in range(1,nb_point_dim[1]):\n",
    "    for i in range(1, nb_point_dim[0]):\n",
    "        res_x[i,j] = simps(square[0,:i,j].cpu().numpy(), w_hat_dim[0][:i])\n",
    "\n",
    "res_x = res_x\n",
    "\n",
    "\n",
    "#calcul de l'intégrale sur w_2\n",
    "res_y = np.zeros((nb_point_dim[0], nb_point_dim[1]))\n",
    "for i in range(1, nb_point_dim[0]):\n",
    "    for j in range(1, nb_point_dim[1]):\n",
    "        res_y[i,j] = simps(square[1,i,:j].cpu().numpy(), w_hat_dim[1][:j])\n",
    "res_y = res_y\n",
    "pot = res_x + res_y\n",
    "pot = pot.T\n",
    "res = np.exp(N*(pot-np.max(pot)))"
   ]
  },
  {
   "cell_type": "code",
   "execution_count": 15,
   "metadata": {},
   "outputs": [],
   "source": [
    "#LE CALCUL DE LA CONSTANTE EST CORRECT\n",
    "const = np.zeros(res.shape[0]-1)\n",
    "for i in range(1, res.shape[0]):\n",
    "    const[i-1] = simps(res[:,i], w_hat_dim[1])\n",
    "const = simps(const, w_hat_dim[1][:-1])\n",
    "p_m = res/const"
   ]
  },
  {
   "cell_type": "code",
   "execution_count": 16,
   "metadata": {},
   "outputs": [
    {
     "name": "stdout",
     "output_type": "stream",
     "text": [
      "Integrale de la proba sur l'espace :  0.9999999999996536\n"
     ]
    }
   ],
   "source": [
    "tmp = np.zeros(p_m.shape[0]-1)\n",
    "for i in range(1, p_m.shape[0]-1):\n",
    "    tmp[i-1] = simps(p_m[:,i], w_hat_dim[1])\n",
    "tmp = simps(tmp, w_hat_dim[1][:-1])\n",
    "print(\"Integrale de la proba sur l'espace : \", tmp)"
   ]
  },
  {
   "cell_type": "code",
   "execution_count": 17,
   "metadata": {},
   "outputs": [
    {
     "data": {
      "text/plain": [
       "<matplotlib.colorbar.Colorbar at 0x7fb3f9adffa0>"
      ]
     },
     "execution_count": 17,
     "metadata": {},
     "output_type": "execute_result"
    },
    {
     "data": {
      "image/png": "[encoded data removed]",
      "text/plain": [
       "<Figure size 432x288 with 2 Axes>"
      ]
     },
     "metadata": {
      "needs_background": "light"
     },
     "output_type": "display_data"
    }
   ],
   "source": [
    "plt.imshow(p_m, vmax = 1, extent = [limits[0,0], limits[1,0], limits[0,1], limits[1,1]])\n",
    "plt.colorbar()"
   ]
  },
  {
   "cell_type": "code",
   "execution_count": 48,
   "metadata": {},
   "outputs": [],
   "source": [
    "s_i = torch.stack([torch.mean(\n",
    "            tmpv[:, i*nb_chain:i*nb_chain+nb_chain], dim=1) for i in range(nb_point)], 1)\n",
    "tau_a = torch.stack([torch.mean(\n",
    "    tmph[:, i*nb_chain:i*nb_chain+nb_chain], dim=1) for i in range(nb_point)], 1)\n",
    "\n",
    "s_i_square = torch.zeros([s_i.shape[0], nb_point_dim[0], nb_point_dim[1]])\n",
    "tau_a_square = torch.zeros([tau_a.shape[0], nb_point_dim[0], nb_point_dim[1]])\n",
    "\n",
    "for i in range(0,grad_pot.shape[1], nb_point_dim[0]):\n",
    "    s_i_square[:,:,int(i/nb_point_dim[0])] = s_i[:, i:(i+nb_point_dim[0])]\n",
    "    tau_a_square[:,:,int(i/nb_point_dim[0])] = tau_a[:, i:(i+nb_point_dim[0])]\n",
    "    "
   ]
  },
  {
   "cell_type": "code",
   "execution_count": 49,
   "metadata": {},
   "outputs": [
    {
     "data": {
      "text/plain": [
       "torch.Size([1000, 125, 125])"
      ]
     },
     "execution_count": 49,
     "metadata": {},
     "output_type": "execute_result"
    }
   ],
   "source": [
    "s_i_square.shape"
   ]
  },
  {
   "cell_type": "code",
   "execution_count": 51,
   "metadata": {},
   "outputs": [],
   "source": [
    "p_m = torch.tensor(p_m)"
   ]
  },
  {
   "cell_type": "code",
   "execution_count": 71,
   "metadata": {},
   "outputs": [],
   "source": [
    "tmpres = torch.zeros(1000,125)\n",
    "tmps_i_square = p_m*s_i_square\n",
    "s_i_fin = torch.zeros(1000)\n",
    "for i in range(nb_point_dim[0]):\n",
    "    tmpres[:,i] = torch.trapz(tmps_i_square[:,i,:-1], torch.tensor(w_hat_dim[1][:-1]))\n",
    "s_i_fin = torch.trapz(tmpres[:,:-1], torch.tensor(w_hat_dim[0][:-1]))\n"
   ]
  },
  {
   "cell_type": "code",
   "execution_count": 73,
   "metadata": {},
   "outputs": [
    {
     "data": {
      "text/plain": [
       "torch.Size([100, 15625])"
      ]
     },
     "execution_count": 73,
     "metadata": {},
     "output_type": "execute_result"
    }
   ],
   "source": [
    "tau_a.shape"
   ]
  },
  {
   "cell_type": "code",
   "execution_count": null,
   "metadata": {},
   "outputs": [],
   "source": []
  }
 ],
 "metadata": {
  "kernelspec": {
   "display_name": "Python 3",
   "language": "python",
   "name": "python3"
  },
  "language_info": {
   "codemirror_mode": {
    "name": "ipython",
    "version": 3
   },
   "file_extension": ".py",
   "mimetype": "text/x-python",
   "name": "python",
   "nbconvert_exporter": "python",
   "pygments_lexer": "ipython3",
   "version": "3.8.5"
  }
 },
 "nbformat": 4,
 "nbformat_minor": 4
}
