{
 "cells": [
  {
   "cell_type": "code",
   "execution_count": 3,
   "metadata": {},
   "outputs": [],
   "source": [
    "import numpy as np\n",
    "import matplotlib.pyplot as plt\n",
    "import torch\n",
    "\n",
    "from scipy.integrate import simps\n"
   ]
  },
  {
   "cell_type": "code",
   "execution_count": 9,
   "metadata": {},
   "outputs": [],
   "source": [
    "xmin = -.7\n",
    "xmax = .8\n",
    "n_x = 100\n",
    "ymin, ymax, n_y = (-1.5, .1, 100)\n",
    "x = torch.linspace(xmin, xmax, n_x)\n",
    "y = torch.linspace(ymin, ymax, n_y)\n",
    "mat = torch.zeros(n_x, n_y)\n",
    "for i in range(n_x):\n",
    "    for j in range(n_y):\n",
    "        mat[i,j] = x[i]**2 + y[i]**2"
   ]
  },
  {
   "cell_type": "code",
   "execution_count": 10,
   "metadata": {},
   "outputs": [],
   "source": [
    "res_1 = torch.zeros(n_x)\n",
    "for i in range(n_x):\n",
    "    res_1[i] = simps(mat[i,:], y)"
   ]
  },
  {
   "cell_type": "code",
   "execution_count": 11,
   "metadata": {},
   "outputs": [
    {
     "name": "stdout",
     "output_type": "stream",
     "text": [
      "2.1440020693284225\n"
     ]
    }
   ],
   "source": [
    "print(simps(res_1, x))"
   ]
  },
  {
   "cell_type": "code",
   "execution_count": 36,
   "metadata": {},
   "outputs": [],
   "source": [
    "tmp = torch.zeros(10,3,3)\n",
    "for i in range(1,10):\n",
    "    tmp[i,:,:] = tmp[i-1,:,:]+1"
   ]
  },
  {
   "cell_type": "code",
   "execution_count": 38,
   "metadata": {},
   "outputs": [],
   "source": [
    "n = torch.ones(3,3)*2"
   ]
  },
  {
   "cell_type": "code",
   "execution_count": 39,
   "metadata": {},
   "outputs": [
    {
     "data": {
      "text/plain": [
       "tensor([[[ 0.,  0.,  0.],\n",
       "         [ 0.,  0.,  0.],\n",
       "         [ 0.,  0.,  0.]],\n",
       "\n",
       "        [[ 2.,  2.,  2.],\n",
       "         [ 2.,  2.,  2.],\n",
       "         [ 2.,  2.,  2.]],\n",
       "\n",
       "        [[ 4.,  4.,  4.],\n",
       "         [ 4.,  4.,  4.],\n",
       "         [ 4.,  4.,  4.]],\n",
       "\n",
       "        [[ 6.,  6.,  6.],\n",
       "         [ 6.,  6.,  6.],\n",
       "         [ 6.,  6.,  6.]],\n",
       "\n",
       "        [[ 8.,  8.,  8.],\n",
       "         [ 8.,  8.,  8.],\n",
       "         [ 8.,  8.,  8.]],\n",
       "\n",
       "        [[10., 10., 10.],\n",
       "         [10., 10., 10.],\n",
       "         [10., 10., 10.]],\n",
       "\n",
       "        [[12., 12., 12.],\n",
       "         [12., 12., 12.],\n",
       "         [12., 12., 12.]],\n",
       "\n",
       "        [[14., 14., 14.],\n",
       "         [14., 14., 14.],\n",
       "         [14., 14., 14.]],\n",
       "\n",
       "        [[16., 16., 16.],\n",
       "         [16., 16., 16.],\n",
       "         [16., 16., 16.]],\n",
       "\n",
       "        [[18., 18., 18.],\n",
       "         [18., 18., 18.],\n",
       "         [18., 18., 18.]]])"
      ]
     },
     "execution_count": 39,
     "metadata": {},
     "output_type": "execute_result"
    }
   ],
   "source": [
    "tmp*n"
   ]
  },
  {
   "cell_type": "code",
   "execution_count": null,
   "metadata": {},
   "outputs": [],
   "source": []
  }
 ],
 "metadata": {
  "kernelspec": {
   "display_name": "Python 3",
   "language": "python",
   "name": "python3"
  },
  "language_info": {
   "codemirror_mode": {
    "name": "ipython",
    "version": 3
   },
   "file_extension": ".py",
   "mimetype": "text/x-python",
   "name": "python",
   "nbconvert_exporter": "python",
   "pygments_lexer": "ipython3",
   "version": "3.8.5"
  }
 },
 "nbformat": 4,
 "nbformat_minor": 4
}
