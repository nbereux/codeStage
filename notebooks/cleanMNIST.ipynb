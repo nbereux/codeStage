{
 "cells": [
  {
   "cell_type": "code",
   "execution_count": 53,
   "metadata": {},
   "outputs": [],
   "source": [
    "import numpy as np\n",
    "import gzip\n",
    "import pickle\n",
    "import torch\n",
    "import matplotlib.pyplot as plt\n",
    "import h5py\n",
    "\n",
    "device = torch.device(\"cuda\")\n",
    "dtype = torch.float\n",
    "f = gzip.open('../data/mnist.pkl.gz', 'rb')\n",
    "u = pickle._Unpickler(f)\n",
    "u.encoding = 'latin1'\n",
    "p = u.load()\n",
    "train_set, _, _ = p\n",
    "\n",
    "data_mnist = torch.as_tensor(\n",
    "    train_set[0][:10000, :].T, device=device, dtype=dtype)\n",
    "labels_mnist = torch.tensor(np.zeros(len(data_mnist[0])), device=device)\n"
   ]
  },
  {
   "cell_type": "code",
   "execution_count": 13,
   "metadata": {},
   "outputs": [
    {
     "data": {
      "text/plain": [
       "<matplotlib.colorbar.Colorbar at 0x7f7cab04a0d0>"
      ]
     },
     "execution_count": 13,
     "metadata": {},
     "output_type": "execute_result"
    },
    {
     "data": {
      "image/png": "[encoded data removed]",
      "text/plain": [
       "<Figure size 432x288 with 2 Axes>"
      ]
     },
     "metadata": {
      "needs_background": "light"
     },
     "output_type": "display_data"
    }
   ],
   "source": [
    "plt.imshow(torch.std(data_mnist, 1).view(28,28).cpu())\n",
    "plt.colorbar()"
   ]
  },
  {
   "cell_type": "code",
   "execution_count": 36,
   "metadata": {
    "scrolled": true
   },
   "outputs": [],
   "source": [
    "STD_MNIST = torch.std(data_mnist, 1)"
   ]
  },
  {
   "cell_type": "code",
   "execution_count": 41,
   "metadata": {},
   "outputs": [],
   "source": [
    "var_rm = []\n",
    "for i in range(STD_MNIST.shape[0]):\n",
    "    if STD_MNIST[i] == 0:\n",
    "        var_rm.append(i)\n",
    "var_rm = np.array(var_rm)\n",
    "newMNIST = torch.zeros(data_mnist.shape[0]-len(var_rm), 10000)\n",
    "passed=0\n",
    "for i in range(data_mnist.shape[0]):\n",
    "    if np.isin(i, var_rm):\n",
    "        passed+=1\n",
    "    else:\n",
    "        newMNIST[i-passed, :] = data_mnist[i,:]"
   ]
  },
  {
   "cell_type": "code",
   "execution_count": 35,
   "metadata": {
    "scrolled": true
   },
   "outputs": [
    {
     "name": "stdout",
     "output_type": "stream",
     "text": [
      "> \u001b[0;32m<ipython-input-34-c4b434f0b9b3>\u001b[0m(3)\u001b[0;36m<module>\u001b[0;34m()\u001b[0m\n",
      "\u001b[0;32m      1 \u001b[0;31m\u001b[0mvar_rm\u001b[0m \u001b[0;34m=\u001b[0m \u001b[0;34m[\u001b[0m\u001b[0;34m]\u001b[0m\u001b[0;34m\u001b[0m\u001b[0;34m\u001b[0m\u001b[0m\n",
      "\u001b[0m\u001b[0;32m      2 \u001b[0;31m\u001b[0;32mfor\u001b[0m \u001b[0mi\u001b[0m \u001b[0;32min\u001b[0m \u001b[0mrange\u001b[0m\u001b[0;34m(\u001b[0m\u001b[0mSTD_MNIST\u001b[0m\u001b[0;34m.\u001b[0m\u001b[0mshape\u001b[0m\u001b[0;34m[\u001b[0m\u001b[0;36m0\u001b[0m\u001b[0;34m]\u001b[0m\u001b[0;34m)\u001b[0m\u001b[0;34m:\u001b[0m\u001b[0;34m\u001b[0m\u001b[0;34m\u001b[0m\u001b[0m\n",
      "\u001b[0m\u001b[0;32m----> 3 \u001b[0;31m    \u001b[0;32mif\u001b[0m \u001b[0mSTD_MNIST\u001b[0m\u001b[0;34m[\u001b[0m\u001b[0mi\u001b[0m\u001b[0;34m]\u001b[0m \u001b[0;34m==\u001b[0m \u001b[0;36m0\u001b[0m\u001b[0;34m:\u001b[0m\u001b[0;34m\u001b[0m\u001b[0;34m\u001b[0m\u001b[0m\n",
      "\u001b[0m\u001b[0;32m      4 \u001b[0;31m        \u001b[0mvar_rm\u001b[0m\u001b[0;34m.\u001b[0m\u001b[0mappend\u001b[0m\u001b[0;34m[\u001b[0m\u001b[0mi\u001b[0m\u001b[0;34m]\u001b[0m\u001b[0;34m\u001b[0m\u001b[0;34m\u001b[0m\u001b[0m\n",
      "\u001b[0m\u001b[0;32m      5 \u001b[0;31m\u001b[0mvar_rm\u001b[0m \u001b[0;34m=\u001b[0m \u001b[0mnp\u001b[0m\u001b[0;34m.\u001b[0m\u001b[0marray\u001b[0m\u001b[0;34m(\u001b[0m\u001b[0mvar_rm\u001b[0m\u001b[0;34m)\u001b[0m\u001b[0;34m\u001b[0m\u001b[0;34m\u001b[0m\u001b[0m\n",
      "\u001b[0m\n"
     ]
    },
    {
     "name": "stdin",
     "output_type": "stream",
     "text": [
      "ipdb>  STD_MNIST\n"
     ]
    },
    {
     "name": "stdout",
     "output_type": "stream",
     "text": [
      "tensor([[0.0000e+00, 0.0000e+00, 0.0000e+00, 0.0000e+00, 0.0000e+00, 0.0000e+00,\n",
      "         0.0000e+00, 0.0000e+00, 0.0000e+00, 0.0000e+00, 0.0000e+00, 0.0000e+00,\n",
      "         0.0000e+00, 0.0000e+00, 0.0000e+00, 0.0000e+00, 0.0000e+00, 0.0000e+00,\n",
      "         0.0000e+00, 0.0000e+00, 0.0000e+00, 0.0000e+00, 0.0000e+00, 0.0000e+00,\n",
      "         0.0000e+00, 0.0000e+00, 0.0000e+00, 0.0000e+00],\n",
      "        [0.0000e+00, 0.0000e+00, 0.0000e+00, 0.0000e+00, 0.0000e+00, 0.0000e+00,\n",
      "         0.0000e+00, 3.9844e-03, 1.0566e-02, 1.3451e-02, 1.0370e-02, 1.9139e-02,\n",
      "         1.6701e-02, 1.8321e-02, 1.7908e-02, 1.8253e-02, 2.2852e-02, 1.7468e-02,\n",
      "         1.7922e-02, 1.4001e-02, 1.5649e-02, 9.1707e-03, 7.8165e-03, 7.6953e-03,\n",
      "         0.0000e+00, 0.0000e+00, 0.0000e+00, 0.0000e+00],\n",
      "        [0.0000e+00, 0.0000e+00, 0.0000e+00, 0.0000e+00, 2.2656e-03, 4.8943e-04,\n",
      "         1.9922e-03, 4.6006e-03, 2.3193e-02, 3.4172e-02, 4.2449e-02, 5.2788e-02,\n",
      "         6.8900e-02, 8.0607e-02, 8.9696e-02, 1.0218e-01, 1.1640e-01, 1.1325e-01,\n",
      "         9.8516e-02, 8.2234e-02, 5.8081e-02, 4.1581e-02, 2.5053e-02, 1.3628e-02,\n",
      "         4.0797e-03, 0.0000e+00, 0.0000e+00, 0.0000e+00],\n",
      "        [0.0000e+00, 0.0000e+00, 0.0000e+00, 0.0000e+00, 3.8156e-03, 1.7105e-02,\n",
      "         2.6824e-02, 3.4566e-02, 5.3023e-02, 6.8898e-02, 9.4399e-02, 1.1861e-01,\n",
      "         1.4106e-01, 1.6663e-01, 1.8547e-01, 2.0260e-01, 2.0709e-01, 1.9783e-01,\n",
      "         1.7385e-01, 1.4416e-01, 1.0503e-01, 7.8514e-02, 5.0982e-02, 2.4872e-02,\n",
      "         1.3240e-02, 0.0000e+00, 0.0000e+00, 0.0000e+00],\n",
      "        [0.0000e+00, 0.0000e+00, 0.0000e+00, 3.2326e-03, 1.4736e-02, 3.1620e-02,\n",
      "         4.6349e-02, 7.5536e-02, 1.0582e-01, 1.4209e-01, 1.8665e-01, 2.2784e-01,\n",
      "         2.6601e-01, 3.0014e-01, 3.2629e-01, 3.4216e-01, 3.4291e-01, 3.2819e-01,\n",
      "         3.0287e-01, 2.5937e-01, 2.0506e-01, 1.5468e-01, 1.1302e-01, 7.5486e-02,\n",
      "         4.1956e-02, 1.3364e-02, 3.5156e-04, 0.0000e+00],\n",
      "        [0.0000e+00, 0.0000e+00, 2.9688e-03, 1.5263e-02, 3.3264e-02, 6.6323e-02,\n",
      "         9.6743e-02, 1.3584e-01, 1.8248e-01, 2.3190e-01, 2.8330e-01, 3.2947e-01,\n",
      "         3.6752e-01, 3.9968e-01, 4.1817e-01, 4.2449e-01, 4.2664e-01, 4.1759e-01,\n",
      "         3.9398e-01, 3.5455e-01, 3.0226e-01, 2.4303e-01, 1.8291e-01, 1.3264e-01,\n",
      "         8.7497e-02, 4.3452e-02, 1.3489e-02, 7.0312e-04],\n",
      "        [0.0000e+00, 0.0000e+00, 7.8383e-03, 2.7952e-02, 5.7286e-02, 9.1931e-02,\n",
      "         1.3530e-01, 1.9120e-01, 2.4728e-01, 3.0258e-01, 3.5419e-01, 3.9326e-01,\n",
      "         4.1709e-01, 4.3145e-01, 4.3753e-01, 4.4160e-01, 4.3959e-01, 4.3939e-01,\n",
      "         4.3046e-01, 4.0713e-01, 3.6076e-01, 3.0561e-01, 2.4024e-01, 1.7741e-01,\n",
      "         1.2341e-01, 7.1804e-02, 3.0517e-02, 1.1987e-02],\n",
      "        [1.8359e-03, 9.4250e-03, 1.8271e-02, 4.3937e-02, 7.7411e-02, 1.2397e-01,\n",
      "         1.7421e-01, 2.3313e-01, 2.9461e-01, 3.5120e-01, 3.9392e-01, 4.1591e-01,\n",
      "         4.2518e-01, 4.2953e-01, 4.3036e-01, 4.2996e-01, 4.3134e-01, 4.3290e-01,\n",
      "         4.3171e-01, 4.2423e-01, 3.9621e-01, 3.4711e-01, 2.8196e-01, 2.1256e-01,\n",
      "         1.4748e-01, 9.1124e-02, 4.1261e-02, 1.1183e-02],\n",
      "        [7.4609e-03, 1.7120e-02, 2.9957e-02, 5.8020e-02, 1.0590e-01, 1.5137e-01,\n",
      "         2.0620e-01, 2.7052e-01, 3.3316e-01, 3.8581e-01, 4.1601e-01, 4.2987e-01,\n",
      "         4.3416e-01, 4.3579e-01, 4.3571e-01, 4.3217e-01, 4.3268e-01, 4.3555e-01,\n",
      "         4.3648e-01, 4.3139e-01, 4.1519e-01, 3.6940e-01, 3.0200e-01, 2.2240e-01,\n",
      "         1.4944e-01, 9.1463e-02, 3.1301e-02, 8.9101e-03],\n",
      "        [1.2109e-03, 1.9287e-02, 3.5699e-02, 6.8657e-02, 1.1455e-01, 1.6833e-01,\n",
      "         2.2893e-01, 2.9745e-01, 3.6074e-01, 4.0486e-01, 4.2800e-01, 4.3526e-01,\n",
      "         4.3642e-01, 4.3123e-01, 4.2665e-01, 4.2228e-01, 4.2796e-01, 4.3387e-01,\n",
      "         4.3507e-01, 4.3197e-01, 4.1632e-01, 3.7342e-01, 3.0107e-01, 2.0805e-01,\n",
      "         1.2900e-01, 6.4413e-02, 2.2111e-02, 5.7889e-03],\n",
      "        [0.0000e+00, 2.0355e-02, 3.9819e-02, 6.9656e-02, 1.1440e-01, 1.7089e-01,\n",
      "         2.3616e-01, 3.0583e-01, 3.7298e-01, 4.1321e-01, 4.3123e-01, 4.3363e-01,\n",
      "         4.2358e-01, 4.0942e-01, 4.0427e-01, 4.1160e-01, 4.2204e-01, 4.2974e-01,\n",
      "         4.3052e-01, 4.3054e-01, 4.0816e-01, 3.6022e-01, 2.8518e-01, 1.9190e-01,\n",
      "         1.1059e-01, 4.6909e-02, 1.6038e-02, 2.0703e-03],\n",
      "        [0.0000e+00, 1.0590e-02, 3.8397e-02, 6.8441e-02, 1.0898e-01, 1.7145e-01,\n",
      "         2.4052e-01, 3.1715e-01, 3.8336e-01, 4.2010e-01, 4.3169e-01, 4.2724e-01,\n",
      "         4.0889e-01, 3.9409e-01, 4.0196e-01, 4.1479e-01, 4.2167e-01, 4.2814e-01,\n",
      "         4.2962e-01, 4.2605e-01, 3.9252e-01, 3.3666e-01, 2.6886e-01, 1.8802e-01,\n",
      "         1.0470e-01, 4.0625e-02, 2.1466e-02, 1.0937e-03],\n",
      "        [0.0000e+00, 1.0111e-02, 2.8553e-02, 5.4261e-02, 9.9584e-02, 1.7078e-01,\n",
      "         2.5077e-01, 3.3428e-01, 3.9503e-01, 4.2504e-01, 4.3171e-01, 4.2581e-01,\n",
      "         4.0801e-01, 4.0194e-01, 4.2177e-01, 4.3102e-01, 4.2950e-01, 4.3294e-01,\n",
      "         4.3578e-01, 4.1935e-01, 3.7814e-01, 3.2221e-01, 2.6191e-01, 1.9434e-01,\n",
      "         1.1289e-01, 3.9369e-02, 2.0137e-02, 3.7500e-03],\n",
      "        [0.0000e+00, 9.9614e-03, 1.8331e-02, 3.9651e-02, 9.4032e-02, 1.7614e-01,\n",
      "         2.6920e-01, 3.5106e-01, 4.0339e-01, 4.2761e-01, 4.3300e-01, 4.2383e-01,\n",
      "         4.1588e-01, 4.2359e-01, 4.4406e-01, 4.3732e-01, 4.3002e-01, 4.3632e-01,\n",
      "         4.3590e-01, 4.1251e-01, 3.7010e-01, 3.2000e-01, 2.6537e-01, 2.0230e-01,\n",
      "         1.2120e-01, 4.0812e-02, 7.5755e-03, 0.0000e+00],\n",
      "        [0.0000e+00, 4.7266e-03, 1.0065e-02, 3.4764e-02, 9.4804e-02, 1.9072e-01,\n",
      "         2.8443e-01, 3.6177e-01, 4.0790e-01, 4.2762e-01, 4.2982e-01, 4.2410e-01,\n",
      "         4.2274e-01, 4.3621e-01, 4.4391e-01, 4.2724e-01, 4.2662e-01, 4.3885e-01,\n",
      "         4.3482e-01, 4.1094e-01, 3.7489e-01, 3.2561e-01, 2.6876e-01, 2.0552e-01,\n",
      "         1.2289e-01, 4.5466e-02, 7.6973e-03, 0.0000e+00],\n",
      "        [0.0000e+00, 2.3437e-04, 9.2978e-03, 3.7859e-02, 1.0059e-01, 2.0843e-01,\n",
      "         2.9861e-01, 3.6389e-01, 4.0623e-01, 4.2635e-01, 4.2618e-01, 4.2310e-01,\n",
      "         4.2825e-01, 4.3902e-01, 4.3868e-01, 4.2472e-01, 4.3385e-01, 4.4102e-01,\n",
      "         4.3109e-01, 4.0859e-01, 3.7767e-01, 3.2896e-01, 2.7211e-01, 2.0479e-01,\n",
      "         1.2373e-01, 4.7989e-02, 1.8891e-02, 2.3437e-04],\n",
      "        [0.0000e+00, 3.5938e-03, 1.4758e-02, 4.3290e-02, 1.1636e-01, 2.2316e-01,\n",
      "         3.0604e-01, 3.6421e-01, 3.9879e-01, 4.1461e-01, 4.1549e-01, 4.1870e-01,\n",
      "         4.3129e-01, 4.4222e-01, 4.4005e-01, 4.3338e-01, 4.3799e-01, 4.3495e-01,\n",
      "         4.2636e-01, 4.1007e-01, 3.8047e-01, 3.2971e-01, 2.6755e-01, 1.9734e-01,\n",
      "         1.2215e-01, 5.3131e-02, 2.3887e-02, 4.2969e-04],\n",
      "        [0.0000e+00, 2.7803e-03, 2.2211e-02, 5.5603e-02, 1.3503e-01, 2.3806e-01,\n",
      "         3.0865e-01, 3.5935e-01, 3.8778e-01, 4.0016e-01, 4.0362e-01, 4.1289e-01,\n",
      "         4.2481e-01, 4.3300e-01, 4.3719e-01, 4.3746e-01, 4.3563e-01, 4.3005e-01,\n",
      "         4.2405e-01, 4.0936e-01, 3.7850e-01, 3.2690e-01, 2.5921e-01, 1.8750e-01,\n",
      "         1.2134e-01, 6.5068e-02, 2.7807e-02, 3.6714e-03],\n",
      "        [0.0000e+00, 7.0313e-04, 2.5188e-02, 7.2651e-02, 1.5761e-01, 2.5084e-01,\n",
      "         3.1744e-01, 3.6005e-01, 3.7972e-01, 3.9128e-01, 4.0086e-01, 4.0898e-01,\n",
      "         4.1411e-01, 4.2659e-01, 4.3488e-01, 4.3384e-01, 4.3129e-01, 4.3169e-01,\n",
      "         4.2853e-01, 4.0939e-01, 3.6956e-01, 3.1535e-01, 2.4461e-01, 1.7209e-01,\n",
      "         1.1080e-01, 5.6447e-02, 1.5310e-02, 6.8376e-03],\n",
      "        [0.0000e+00, 0.0000e+00, 3.0859e-02, 8.8021e-02, 1.7157e-01, 2.6150e-01,\n",
      "         3.3013e-01, 3.6934e-01, 3.8877e-01, 4.0078e-01, 4.1291e-01, 4.2010e-01,\n",
      "         4.2299e-01, 4.3211e-01, 4.3527e-01, 4.3366e-01, 4.3127e-01, 4.3432e-01,\n",
      "         4.2677e-01, 3.9843e-01, 3.5256e-01, 2.8925e-01, 2.1841e-01, 1.5006e-01,\n",
      "         9.4209e-02, 4.5317e-02, 1.2478e-02, 4.3328e-03],\n",
      "        [0.0000e+00, 1.5234e-03, 3.4268e-02, 9.0944e-02, 1.7006e-01, 2.5615e-01,\n",
      "         3.3116e-01, 3.7826e-01, 4.0291e-01, 4.1679e-01, 4.2636e-01, 4.3142e-01,\n",
      "         4.3352e-01, 4.3598e-01, 4.3519e-01, 4.3556e-01, 4.3496e-01, 4.3154e-01,\n",
      "         4.1462e-01, 3.7927e-01, 3.2124e-01, 2.5246e-01, 1.8519e-01, 1.2500e-01,\n",
      "         7.7826e-02, 3.3906e-02, 1.4075e-02, 1.9531e-03],\n",
      "        [0.0000e+00, 2.8125e-03, 3.0961e-02, 7.8458e-02, 1.4390e-01, 2.3054e-01,\n",
      "         3.1350e-01, 3.7437e-01, 4.0806e-01, 4.2739e-01, 4.3569e-01, 4.3321e-01,\n",
      "         4.3451e-01, 4.3217e-01, 4.3412e-01, 4.3561e-01, 4.2831e-01, 4.1467e-01,\n",
      "         3.8480e-01, 3.3322e-01, 2.7075e-01, 2.0735e-01, 1.4925e-01, 9.6896e-02,\n",
      "         6.1793e-02, 2.9237e-02, 1.1587e-02, 0.0000e+00],\n",
      "        [0.0000e+00, 0.0000e+00, 2.1682e-02, 5.3976e-02, 1.0287e-01, 1.7410e-01,\n",
      "         2.5746e-01, 3.3276e-01, 3.8874e-01, 4.2206e-01, 4.3818e-01, 4.4226e-01,\n",
      "         4.3857e-01, 4.3784e-01, 4.3848e-01, 4.3239e-01, 4.1106e-01, 3.7902e-01,\n",
      "         3.3175e-01, 2.7285e-01, 2.1225e-01, 1.6020e-01, 1.1430e-01, 7.2366e-02,\n",
      "         4.4399e-02, 2.1288e-02, 6.1647e-03, 0.0000e+00],\n",
      "        [0.0000e+00, 0.0000e+00, 5.8350e-03, 2.5402e-02, 6.0695e-02, 1.0891e-01,\n",
      "         1.7455e-01, 2.4862e-01, 3.2266e-01, 3.7676e-01, 4.1082e-01, 4.2828e-01,\n",
      "         4.3037e-01, 4.2624e-01, 4.1902e-01, 3.9344e-01, 3.5586e-01, 3.0620e-01,\n",
      "         2.5318e-01, 2.0410e-01, 1.5811e-01, 1.1618e-01, 7.9959e-02, 5.0055e-02,\n",
      "         1.5528e-02, 3.6878e-03, 3.2812e-03, 0.0000e+00],\n",
      "        [0.0000e+00, 0.0000e+00, 0.0000e+00, 1.6493e-02, 4.0300e-02, 6.7536e-02,\n",
      "         1.0841e-01, 1.5909e-01, 2.1506e-01, 2.7483e-01, 3.1932e-01, 3.4359e-01,\n",
      "         3.4914e-01, 3.4787e-01, 3.3079e-01, 2.9451e-01, 2.5868e-01, 2.1794e-01,\n",
      "         1.8058e-01, 1.4580e-01, 1.1752e-01, 8.4972e-02, 5.5693e-02, 3.4948e-02,\n",
      "         1.3169e-02, 1.3672e-03, 0.0000e+00, 0.0000e+00],\n",
      "        [0.0000e+00, 0.0000e+00, 0.0000e+00, 2.4843e-03, 1.7181e-02, 4.1502e-02,\n",
      "         6.9327e-02, 1.0229e-01, 1.4598e-01, 1.8387e-01, 2.1213e-01, 2.1807e-01,\n",
      "         2.2263e-01, 2.2217e-01, 2.0868e-01, 1.8660e-01, 1.6997e-01, 1.4672e-01,\n",
      "         1.2204e-01, 1.0081e-01, 8.0134e-02, 5.7148e-02, 3.3932e-02, 2.2043e-02,\n",
      "         5.5358e-03, 0.0000e+00, 0.0000e+00, 0.0000e+00],\n",
      "        [0.0000e+00, 0.0000e+00, 0.0000e+00, 1.4844e-03, 1.0637e-02, 2.1625e-02,\n",
      "         4.4432e-02, 6.6564e-02, 9.4368e-02, 1.1573e-01, 1.2610e-01, 1.2934e-01,\n",
      "         1.2749e-01, 1.2676e-01, 1.2589e-01, 1.0616e-01, 9.6781e-02, 8.4136e-02,\n",
      "         7.1638e-02, 5.9997e-02, 4.7255e-02, 3.1965e-02, 1.8951e-02, 7.7880e-03,\n",
      "         0.0000e+00, 0.0000e+00, 0.0000e+00, 0.0000e+00],\n",
      "        [0.0000e+00, 0.0000e+00, 0.0000e+00, 0.0000e+00, 0.0000e+00, 6.9141e-03,\n",
      "         1.0125e-02, 1.7653e-02, 2.2150e-02, 2.1862e-02, 2.8167e-02, 3.6461e-02,\n",
      "         4.4464e-02, 4.4426e-02, 4.4923e-02, 3.8964e-02, 3.2570e-02, 2.4110e-02,\n",
      "         2.3178e-02, 1.4494e-02, 1.2965e-02, 8.1534e-03, 8.0022e-03, 0.0000e+00,\n",
      "         0.0000e+00, 0.0000e+00, 0.0000e+00, 0.0000e+00]], device='cuda:0')\n"
     ]
    },
    {
     "name": "stdin",
     "output_type": "stream",
     "text": [
      "ipdb>  STD_MNIST[i]\n"
     ]
    },
    {
     "name": "stdout",
     "output_type": "stream",
     "text": [
      "tensor([0., 0., 0., 0., 0., 0., 0., 0., 0., 0., 0., 0., 0., 0., 0., 0., 0., 0., 0., 0., 0., 0., 0., 0.,\n",
      "        0., 0., 0., 0.], device='cuda:0')\n"
     ]
    },
    {
     "name": "stdin",
     "output_type": "stream",
     "text": [
      "ipdb>  exit\n"
     ]
    }
   ],
   "source": [
    "%debug"
   ]
  },
  {
   "cell_type": "code",
   "execution_count": 43,
   "metadata": {},
   "outputs": [
    {
     "data": {
      "text/plain": [
       "torch.Size([673, 10000])"
      ]
     },
     "execution_count": 43,
     "metadata": {},
     "output_type": "execute_result"
    }
   ],
   "source": [
    "newMNIST.shape"
   ]
  },
  {
   "cell_type": "code",
   "execution_count": 50,
   "metadata": {},
   "outputs": [],
   "source": [
    "rebuiltMNIST = torch.zeros(data_mnist.shape, device = device)\n",
    "passed = 0\n",
    "for i in range(data_mnist.shape[0]):\n",
    "    if np.isin(i, var_rm):\n",
    "        rebuiltMNIST[i, :] = torch.zeros(rebuiltMNIST[i, :].shape)\n",
    "        passed +=1\n",
    "    else :\n",
    "        rebuiltMNIST[i, :] = newMNIST[i-passed, :]"
   ]
  },
  {
   "cell_type": "code",
   "execution_count": 51,
   "metadata": {
    "scrolled": true
   },
   "outputs": [
    {
     "data": {
      "text/plain": [
       "tensor([ 0.0000e+00,  0.0000e+00,  0.0000e+00,  0.0000e+00,  0.0000e+00,\n",
       "         0.0000e+00,  0.0000e+00,  0.0000e+00,  0.0000e+00,  0.0000e+00,\n",
       "         0.0000e+00,  0.0000e+00,  0.0000e+00,  0.0000e+00,  0.0000e+00,\n",
       "         0.0000e+00,  0.0000e+00,  0.0000e+00,  0.0000e+00,  0.0000e+00,\n",
       "         0.0000e+00,  0.0000e+00,  0.0000e+00,  0.0000e+00,  0.0000e+00,\n",
       "         0.0000e+00,  0.0000e+00,  0.0000e+00,  0.0000e+00,  0.0000e+00,\n",
       "         0.0000e+00,  0.0000e+00,  0.0000e+00,  0.0000e+00,  0.0000e+00,\n",
       "         4.6566e-10,  9.3132e-10, -1.8626e-09,  0.0000e+00,  0.0000e+00,\n",
       "         1.8626e-09,  1.8626e-09,  1.8626e-09,  0.0000e+00,  1.8626e-09,\n",
       "         0.0000e+00,  0.0000e+00,  0.0000e+00,  0.0000e+00,  9.3132e-10,\n",
       "         0.0000e+00,  0.0000e+00,  0.0000e+00,  0.0000e+00,  0.0000e+00,\n",
       "         0.0000e+00,  0.0000e+00,  0.0000e+00,  0.0000e+00,  0.0000e+00,\n",
       "        -2.3283e-10,  0.0000e+00,  2.3283e-10,  0.0000e+00,  0.0000e+00,\n",
       "        -3.7253e-09,  3.7253e-09,  0.0000e+00,  0.0000e+00,  0.0000e+00,\n",
       "        -7.4506e-09,  0.0000e+00, -7.4506e-09,  1.4901e-08,  0.0000e+00,\n",
       "         0.0000e+00,  0.0000e+00,  0.0000e+00, -1.8626e-09,  9.3132e-10,\n",
       "        -4.6566e-10,  0.0000e+00,  0.0000e+00,  0.0000e+00,  0.0000e+00,\n",
       "         0.0000e+00,  0.0000e+00,  0.0000e+00,  6.9849e-10,  0.0000e+00,\n",
       "         0.0000e+00,  0.0000e+00,  0.0000e+00,  0.0000e+00,  0.0000e+00,\n",
       "         0.0000e+00,  0.0000e+00,  1.4901e-08,  0.0000e+00,  0.0000e+00,\n",
       "         0.0000e+00,  0.0000e+00,  0.0000e+00,  0.0000e+00,  0.0000e+00,\n",
       "         0.0000e+00,  3.7253e-09,  0.0000e+00,  9.3132e-10,  0.0000e+00,\n",
       "         0.0000e+00,  0.0000e+00,  0.0000e+00,  0.0000e+00,  0.0000e+00,\n",
       "        -2.3283e-10,  1.8626e-09,  3.7253e-09,  0.0000e+00,  0.0000e+00,\n",
       "         7.4506e-09,  0.0000e+00,  0.0000e+00,  0.0000e+00,  0.0000e+00,\n",
       "         0.0000e+00,  0.0000e+00,  0.0000e+00,  0.0000e+00,  2.9802e-08,\n",
       "         0.0000e+00,  0.0000e+00,  0.0000e+00,  0.0000e+00,  0.0000e+00,\n",
       "         0.0000e+00,  0.0000e+00,  0.0000e+00,  0.0000e+00,  0.0000e+00,\n",
       "         0.0000e+00,  0.0000e+00, -2.3283e-10,  0.0000e+00,  0.0000e+00,\n",
       "        -7.4506e-09,  0.0000e+00,  0.0000e+00,  0.0000e+00, -1.4901e-08,\n",
       "        -2.9802e-08,  0.0000e+00, -2.9802e-08,  0.0000e+00,  0.0000e+00,\n",
       "         0.0000e+00,  0.0000e+00,  0.0000e+00, -2.9802e-08, -2.9802e-08,\n",
       "         2.9802e-08,  0.0000e+00, -1.4901e-08,  0.0000e+00,  0.0000e+00,\n",
       "         0.0000e+00,  9.3132e-10,  5.8208e-11,  0.0000e+00,  0.0000e+00,\n",
       "         0.0000e+00,  0.0000e+00,  3.7253e-09,  7.4506e-09,  0.0000e+00,\n",
       "        -1.4901e-08,  0.0000e+00,  0.0000e+00,  2.9802e-08,  0.0000e+00,\n",
       "        -2.9802e-08,  2.9802e-08,  0.0000e+00,  0.0000e+00,  0.0000e+00,\n",
       "         2.9802e-08,  2.9802e-08,  0.0000e+00, -2.9802e-08,  0.0000e+00,\n",
       "         0.0000e+00,  0.0000e+00,  0.0000e+00,  0.0000e+00,  1.8626e-09,\n",
       "         0.0000e+00,  0.0000e+00, -1.8626e-09,  0.0000e+00, -3.7253e-09,\n",
       "         0.0000e+00,  0.0000e+00,  0.0000e+00, -1.4901e-08,  0.0000e+00,\n",
       "         2.9802e-08,  0.0000e+00,  0.0000e+00,  0.0000e+00,  0.0000e+00,\n",
       "         0.0000e+00,  2.9802e-08,  0.0000e+00,  0.0000e+00,  0.0000e+00,\n",
       "         2.9802e-08,  0.0000e+00,  2.9802e-08,  0.0000e+00,  0.0000e+00,\n",
       "        -1.4901e-08,  0.0000e+00,  0.0000e+00, -9.3132e-10, -4.6566e-10,\n",
       "         0.0000e+00,  0.0000e+00, -3.7253e-09,  0.0000e+00,  1.4901e-08,\n",
       "         0.0000e+00,  0.0000e+00,  0.0000e+00,  0.0000e+00,  2.9802e-08,\n",
       "        -2.9802e-08,  0.0000e+00,  0.0000e+00,  0.0000e+00, -2.9802e-08,\n",
       "         0.0000e+00, -2.9802e-08,  2.9802e-08,  0.0000e+00,  2.9802e-08,\n",
       "        -2.9802e-08,  2.9802e-08,  0.0000e+00,  0.0000e+00, -7.4506e-09,\n",
       "        -3.7253e-09, -9.3132e-10,  0.0000e+00,  0.0000e+00,  3.7253e-09,\n",
       "         0.0000e+00,  0.0000e+00,  0.0000e+00,  1.4901e-08,  0.0000e+00,\n",
       "         0.0000e+00,  2.9802e-08,  0.0000e+00, -2.9802e-08,  0.0000e+00,\n",
       "         0.0000e+00,  2.9802e-08,  0.0000e+00,  0.0000e+00, -2.9802e-08,\n",
       "         0.0000e+00,  0.0000e+00,  0.0000e+00,  0.0000e+00,  0.0000e+00,\n",
       "         0.0000e+00,  1.4901e-08,  0.0000e+00,  0.0000e+00, -9.3132e-10,\n",
       "         0.0000e+00,  0.0000e+00,  0.0000e+00,  7.4506e-09,  0.0000e+00,\n",
       "        -1.4901e-08,  1.4901e-08,  0.0000e+00,  0.0000e+00,  0.0000e+00,\n",
       "         2.9802e-08,  0.0000e+00, -2.9802e-08,  0.0000e+00,  0.0000e+00,\n",
       "         2.9802e-08,  0.0000e+00,  2.9802e-08,  5.9605e-08,  0.0000e+00,\n",
       "         2.9802e-08,  0.0000e+00,  0.0000e+00,  0.0000e+00,  7.4506e-09,\n",
       "         3.7253e-09,  0.0000e+00,  0.0000e+00,  0.0000e+00, -9.3132e-10,\n",
       "         3.7253e-09,  7.4506e-09,  0.0000e+00,  0.0000e+00, -1.4901e-08,\n",
       "         0.0000e+00,  0.0000e+00,  0.0000e+00,  0.0000e+00,  0.0000e+00,\n",
       "         2.9802e-08,  2.9802e-08,  0.0000e+00,  0.0000e+00,  2.9802e-08,\n",
       "         0.0000e+00,  2.9802e-08, -2.9802e-08,  0.0000e+00,  2.9802e-08,\n",
       "         0.0000e+00,  0.0000e+00,  0.0000e+00,  0.0000e+00,  0.0000e+00,\n",
       "         1.1642e-10,  0.0000e+00, -9.3132e-10,  0.0000e+00,  3.7253e-09,\n",
       "        -1.4901e-08,  0.0000e+00,  0.0000e+00,  0.0000e+00,  0.0000e+00,\n",
       "         0.0000e+00,  2.9802e-08,  0.0000e+00,  2.9802e-08,  0.0000e+00,\n",
       "         2.9802e-08,  0.0000e+00, -2.9802e-08,  2.9802e-08,  2.9802e-08,\n",
       "         2.9802e-08,  0.0000e+00,  0.0000e+00, -2.9802e-08,  0.0000e+00,\n",
       "         0.0000e+00,  0.0000e+00,  1.8626e-09,  9.3132e-10,  0.0000e+00,\n",
       "         0.0000e+00,  0.0000e+00,  0.0000e+00,  0.0000e+00,  0.0000e+00,\n",
       "         2.9802e-08,  0.0000e+00,  0.0000e+00,  0.0000e+00,  0.0000e+00,\n",
       "         2.9802e-08,  0.0000e+00,  0.0000e+00,  0.0000e+00,  0.0000e+00,\n",
       "         0.0000e+00,  0.0000e+00,  0.0000e+00,  0.0000e+00,  2.9802e-08,\n",
       "        -2.9802e-08,  2.9802e-08, -1.4901e-08,  0.0000e+00, -3.7253e-09,\n",
       "        -9.3132e-10,  0.0000e+00,  0.0000e+00,  4.6566e-10, -9.3132e-10,\n",
       "         3.7253e-09,  7.4506e-09, -1.4901e-08,  2.9802e-08,  0.0000e+00,\n",
       "         0.0000e+00,  0.0000e+00,  0.0000e+00,  0.0000e+00,  2.9802e-08,\n",
       "         0.0000e+00,  0.0000e+00,  0.0000e+00,  2.9802e-08,  2.9802e-08,\n",
       "         0.0000e+00,  0.0000e+00,  0.0000e+00,  0.0000e+00,  0.0000e+00,\n",
       "         0.0000e+00,  0.0000e+00,  0.0000e+00,  4.6566e-10,  0.0000e+00,\n",
       "         0.0000e+00,  4.3656e-11,  1.8626e-09,  0.0000e+00,  0.0000e+00,\n",
       "         0.0000e+00,  0.0000e+00,  0.0000e+00, -2.9802e-08, -2.9802e-08,\n",
       "         0.0000e+00,  0.0000e+00,  0.0000e+00,  0.0000e+00,  0.0000e+00,\n",
       "         0.0000e+00,  0.0000e+00,  2.9802e-08,  2.9802e-08,  0.0000e+00,\n",
       "         0.0000e+00,  0.0000e+00,  0.0000e+00,  1.4901e-08,  0.0000e+00,\n",
       "         0.0000e+00,  0.0000e+00,  1.4552e-11,  0.0000e+00, -2.3283e-10,\n",
       "        -9.3132e-10,  3.7253e-09,  0.0000e+00,  1.4901e-08,  0.0000e+00,\n",
       "        -5.9605e-08, -2.9802e-08,  0.0000e+00,  0.0000e+00,  0.0000e+00,\n",
       "         0.0000e+00,  0.0000e+00,  2.9802e-08,  0.0000e+00,  0.0000e+00,\n",
       "         0.0000e+00,  0.0000e+00,  0.0000e+00,  2.9802e-08,  2.9802e-08,\n",
       "         0.0000e+00,  0.0000e+00,  0.0000e+00,  0.0000e+00,  1.8626e-09,\n",
       "         2.9104e-11,  0.0000e+00, -2.3283e-10,  0.0000e+00, -3.7253e-09,\n",
       "         0.0000e+00,  0.0000e+00, -2.9802e-08,  0.0000e+00,  0.0000e+00,\n",
       "         0.0000e+00,  0.0000e+00,  2.9802e-08,  0.0000e+00,  0.0000e+00,\n",
       "         0.0000e+00,  2.9802e-08,  0.0000e+00,  0.0000e+00,  0.0000e+00,\n",
       "         0.0000e+00,  0.0000e+00,  0.0000e+00, -2.9802e-08,  0.0000e+00,\n",
       "         0.0000e+00, -7.4506e-09,  0.0000e+00, -2.3283e-10,  0.0000e+00,\n",
       "         0.0000e+00,  1.8626e-09,  0.0000e+00,  0.0000e+00,  0.0000e+00,\n",
       "         0.0000e+00,  0.0000e+00,  2.9802e-08,  0.0000e+00,  0.0000e+00,\n",
       "         0.0000e+00,  2.9802e-08,  0.0000e+00,  0.0000e+00,  0.0000e+00,\n",
       "         0.0000e+00,  0.0000e+00,  0.0000e+00, -5.9605e-08, -2.9802e-08,\n",
       "         0.0000e+00, -1.4901e-08,  0.0000e+00,  0.0000e+00, -3.7253e-09,\n",
       "         9.3132e-10,  4.6566e-10,  0.0000e+00,  0.0000e+00,  0.0000e+00,\n",
       "        -7.4506e-09,  0.0000e+00,  0.0000e+00, -2.9802e-08,  0.0000e+00,\n",
       "        -2.9802e-08,  0.0000e+00,  0.0000e+00,  0.0000e+00,  0.0000e+00,\n",
       "        -2.9802e-08,  2.9802e-08,  0.0000e+00,  0.0000e+00,  0.0000e+00,\n",
       "         0.0000e+00,  0.0000e+00,  0.0000e+00,  0.0000e+00,  1.4901e-08,\n",
       "         0.0000e+00,  0.0000e+00,  0.0000e+00, -9.3132e-10, -9.3132e-10,\n",
       "         0.0000e+00,  0.0000e+00,  3.7253e-09,  0.0000e+00,  0.0000e+00,\n",
       "         0.0000e+00,  0.0000e+00,  0.0000e+00,  0.0000e+00,  0.0000e+00,\n",
       "         0.0000e+00,  0.0000e+00,  0.0000e+00,  0.0000e+00, -2.9802e-08,\n",
       "         0.0000e+00,  0.0000e+00,  0.0000e+00,  0.0000e+00,  2.9802e-08,\n",
       "         0.0000e+00,  0.0000e+00,  0.0000e+00,  0.0000e+00,  0.0000e+00,\n",
       "        -3.7253e-09,  0.0000e+00,  0.0000e+00,  0.0000e+00,  0.0000e+00,\n",
       "         0.0000e+00,  7.4506e-09,  0.0000e+00,  0.0000e+00,  0.0000e+00,\n",
       "         0.0000e+00,  0.0000e+00,  2.9802e-08, -2.9802e-08,  0.0000e+00,\n",
       "         0.0000e+00,  0.0000e+00,  2.9802e-08, -2.9802e-08,  0.0000e+00,\n",
       "         2.9802e-08,  0.0000e+00,  0.0000e+00,  0.0000e+00,  0.0000e+00,\n",
       "         0.0000e+00,  0.0000e+00, -3.7253e-09,  0.0000e+00,  0.0000e+00,\n",
       "         0.0000e+00,  0.0000e+00,  0.0000e+00,  0.0000e+00,  0.0000e+00,\n",
       "         0.0000e+00,  0.0000e+00,  0.0000e+00,  0.0000e+00,  0.0000e+00,\n",
       "         0.0000e+00,  0.0000e+00,  0.0000e+00,  0.0000e+00,  0.0000e+00,\n",
       "         0.0000e+00,  0.0000e+00, -5.9605e-08,  2.9802e-08,  0.0000e+00,\n",
       "         0.0000e+00,  1.4901e-08,  0.0000e+00,  7.4506e-09,  0.0000e+00,\n",
       "         0.0000e+00,  0.0000e+00,  0.0000e+00,  0.0000e+00,  0.0000e+00,\n",
       "         0.0000e+00,  0.0000e+00,  0.0000e+00, -3.7253e-09,  7.4506e-09,\n",
       "         1.4901e-08,  1.4901e-08,  0.0000e+00,  0.0000e+00,  2.9802e-08,\n",
       "         2.9802e-08,  0.0000e+00,  0.0000e+00,  0.0000e+00,  0.0000e+00,\n",
       "         0.0000e+00,  0.0000e+00,  0.0000e+00,  0.0000e+00,  0.0000e+00,\n",
       "         0.0000e+00,  0.0000e+00,  0.0000e+00,  9.3132e-10,  0.0000e+00,\n",
       "         2.3283e-10,  0.0000e+00,  0.0000e+00,  0.0000e+00,  0.0000e+00,\n",
       "         0.0000e+00,  0.0000e+00,  0.0000e+00,  0.0000e+00,  0.0000e+00,\n",
       "         0.0000e+00,  0.0000e+00,  0.0000e+00,  0.0000e+00,  0.0000e+00,\n",
       "         0.0000e+00,  0.0000e+00,  0.0000e+00, -2.9802e-08, -1.4901e-08,\n",
       "         0.0000e+00,  0.0000e+00,  1.4901e-08,  0.0000e+00,  0.0000e+00,\n",
       "        -3.7253e-09,  0.0000e+00,  0.0000e+00,  0.0000e+00,  0.0000e+00,\n",
       "         0.0000e+00,  0.0000e+00,  0.0000e+00,  0.0000e+00,  0.0000e+00,\n",
       "         0.0000e+00, -7.4506e-09,  0.0000e+00,  0.0000e+00, -1.4901e-08,\n",
       "         0.0000e+00,  0.0000e+00,  0.0000e+00,  0.0000e+00,  1.4901e-08,\n",
       "         1.4901e-08,  0.0000e+00,  0.0000e+00, -1.4901e-08,  0.0000e+00,\n",
       "         7.4506e-09, -7.4506e-09,  0.0000e+00,  1.8626e-09, -4.6566e-10,\n",
       "         0.0000e+00,  0.0000e+00,  0.0000e+00,  0.0000e+00,  0.0000e+00,\n",
       "         0.0000e+00, -1.1642e-10,  0.0000e+00,  0.0000e+00,  3.7253e-09,\n",
       "         0.0000e+00,  7.4506e-09,  7.4506e-09,  0.0000e+00,  1.4901e-08,\n",
       "        -1.4901e-08,  0.0000e+00,  0.0000e+00,  0.0000e+00,  0.0000e+00,\n",
       "         7.4506e-09,  0.0000e+00,  3.7253e-09,  3.7253e-09,  0.0000e+00,\n",
       "         0.0000e+00, -4.6566e-10,  0.0000e+00,  0.0000e+00,  0.0000e+00,\n",
       "         0.0000e+00,  0.0000e+00,  0.0000e+00,  0.0000e+00,  0.0000e+00,\n",
       "         0.0000e+00, -4.6566e-10, -1.8626e-09, -1.8626e-09,  0.0000e+00,\n",
       "         1.8626e-09,  1.8626e-09,  3.7253e-09,  0.0000e+00,  0.0000e+00,\n",
       "         0.0000e+00,  0.0000e+00,  0.0000e+00,  0.0000e+00,  1.8626e-09,\n",
       "        -9.3132e-10,  0.0000e+00, -9.3132e-10,  0.0000e+00,  0.0000e+00,\n",
       "         0.0000e+00,  0.0000e+00,  0.0000e+00,  0.0000e+00], device='cuda:0')"
      ]
     },
     "execution_count": 51,
     "metadata": {},
     "output_type": "execute_result"
    }
   ],
   "source": [
    "torch.std(rebuiltMNIST, 1) - torch.std(data_mnist, 1)"
   ]
  },
  {
   "cell_type": "code",
   "execution_count": 54,
   "metadata": {},
   "outputs": [],
   "source": [
    "fname = \"../data/cleanMNIST10000.h5\"\n",
    "f = h5py.File(fname, \"w\")\n",
    "f.create_dataset('original', data=data_mnist.cpu())\n",
    "f.create_dataset('clean', data=newMNIST.cpu())\n",
    "f.create_dataset('id_col', data=var_rm)\n",
    "f.close()"
   ]
  },
  {
   "cell_type": "code",
   "execution_count": null,
   "metadata": {},
   "outputs": [],
   "source": []
  }
 ],
 "metadata": {
  "kernelspec": {
   "display_name": "Python 3",
   "language": "python",
   "name": "python3"
  },
  "language_info": {
   "codemirror_mode": {
    "name": "ipython",
    "version": 3
   },
   "file_extension": ".py",
   "mimetype": "text/x-python",
   "name": "python",
   "nbconvert_exporter": "python",
   "pygments_lexer": "ipython3",
   "version": "3.8.5"
  }
 },
 "nbformat": 4,
 "nbformat_minor": 4
}
