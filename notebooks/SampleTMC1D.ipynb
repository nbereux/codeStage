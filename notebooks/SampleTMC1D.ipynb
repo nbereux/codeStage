{
 "cells": [
  {
   "cell_type": "code",
   "execution_count": 1,
   "metadata": {},
   "outputs": [],
   "source": [
    "import numpy as np\n",
    "import matplotlib.pyplot as plt\n",
    "import matplotlib.pylab\n",
    "import torch\n",
    "import sys\n",
    "import time\n",
    "sys.path.insert(1, '/home/nicolas/code/src')\n",
    "sys.path.insert(1, '/home/nicolas/code/data')\n",
    "\n",
    "from RBM import RBM\n",
    "from scipy.integrate import simps\n",
    "from scipy import stats\n",
    "import h5py\n",
    "\n",
    "device = torch.device(\"cuda\")\n",
    "dtype = torch.float\n",
    "torch.set_num_threads(4)"
   ]
  },
  {
   "cell_type": "code",
   "execution_count": 2,
   "metadata": {},
   "outputs": [],
   "source": [
    "def TMCSample(v, w_hat, N, V, it_mcmc=100, it_mean=50, ß=1):\n",
    "    #print(\"Initialisation\")\n",
    "    #s = time.time()\n",
    "    vtab = torch.zeros(v.shape, device = device)\n",
    "    v_curr = v\n",
    "    #V = V\n",
    "    norm = 1/(v_curr.shape[0]**0.5)\n",
    "    w_curr = (torch.mv(v_curr.T, V)*norm)\n",
    "    \n",
    "    index = torch.randperm(v_curr.shape[0])\n",
    "    #print(time.time()-s)\n",
    "    #print(\"IT MCMC\")\n",
    "    s = time.time()\n",
    "\n",
    "    for t in range(it_mcmc):\n",
    "        #print('init it')\n",
    "        print(t)\n",
    "        h_curr, _ = myRBM.SampleHiddens01(v_curr)\n",
    "        h_i = (torch.mm(myRBM.W.T, h_curr)+myRBM.vbias.reshape(v.shape[0],1)) # Nv x Ns\n",
    "        w_next = w_curr.clone()\n",
    "        \n",
    "        v_next = torch.clone(v_curr)\n",
    "        index = torch.randperm(v_curr.shape[0])\n",
    "        for idx in range(v_curr.shape[0]):\n",
    "            #print('upd comp')\n",
    "            s = time.time()\n",
    "            i = idx\n",
    "            v_next[i,:] = 1-v_curr[i,:]\n",
    "            w_next += ((2*v_next[i,:]-1)*V[i]*norm)\n",
    "\n",
    "            # On calcul -DeltaE\n",
    "            ΔE = ß*((2*v_next[i,:]-1)*h_i[i,:])-(N/2)*((w_hat-w_next)**2-(w_hat-w_curr)**2)\n",
    "\n",
    "            tir = torch.rand(v_curr.shape[1],1, device = torch.device(\"cuda\")).squeeze()\n",
    "            prob = torch.exp(ΔE).squeeze()\n",
    "            v_curr[i,:] = torch.where(tir<prob, v_next[i,:], v_curr[i,:])\n",
    "            v_next[i,:] = torch.where(tir<prob, v_next[i,:], 1-v_next[i,:])\n",
    "            w_curr = torch.where(tir<prob, w_next, w_curr)\n",
    "            w_next = torch.where(tir<prob, w_next, w_curr)\n",
    "            #print(time.time()-s)\n",
    "        if (t>= (it_mcmc-it_mean)):\n",
    "            vtab += v_curr\n",
    "    print(time.time()-s)\n",
    "\n",
    "    vtab = vtab*(1/it_mean)    \n",
    "    return v_curr, h_curr, vtab"
   ]
  },
  {
   "cell_type": "code",
   "execution_count": 3,
   "metadata": {},
   "outputs": [],
   "source": [
    "data = torch.tensor(np.genfromtxt('../dataset/C1d5c/data_5.dat'), device = device, dtype = dtype)\n",
    "\n",
    "data = (data+1)/2"
   ]
  },
  {
   "cell_type": "code",
   "execution_count": 4,
   "metadata": {},
   "outputs": [
    {
     "name": "stdout",
     "output_type": "stream",
     "text": [
      "20\n"
     ]
    }
   ],
   "source": [
    "W = np.genfromtxt('../dataset/C1d5c/rbm_W.dat').T\n",
    "vbias = np.genfromtxt('../dataset/C1d5c/rbm_vis.dat')\n",
    "hbias = -np.genfromtxt('../dataset/C1d5c/rbm_hid.dat')\n",
    "data = np.genfromtxt('../dataset/C1d5c/data_5.dat')\n",
    "data = (data+1)/2\n",
    "\n",
    "lr = 0.01\n",
    "l2 = 0\n",
    "NGibbs = 10\n",
    "annSteps = 0\n",
    "mb_s = 500\n",
    "num_pcd = 500\n",
    "Nh = W.shape[0]\n",
    "Nv = W.shape[1]\n",
    "print(Nh)\n",
    "ep_max = 100\n",
    "myRBM = RBM(num_visible=Nv,\n",
    "\t\t\t\tnum_hidden=Nh,\n",
    "\t\t\t\tdevice=device,\n",
    "\t\t\t\tlr=lr,\n",
    "\t\t\t\t#regL2=l2,\n",
    "\t\t\t\tgibbs_steps=NGibbs,\n",
    "\t\t\t\t#anneal_steps=annSteps,\n",
    "\t\t\t\tUpdCentered=True,\n",
    "\t\t\t\tmb_s=mb_s,\n",
    "\t\t\t\tnum_pcd=num_pcd)\n",
    "\n",
    "myRBM.W = torch.tensor(4*W).float().cuda()\n",
    "myRBM.vbias = torch.tensor(2*vbias - 2*W.sum(0)).float().to(device)\n",
    "myRBM.hbias = torch.tensor(2*hbias - 2*W.sum(1)).float().to(device)\n",
    "_, _, V = torch.svd(torch.tensor(4*W).float().cuda())\n"
   ]
  },
  {
   "cell_type": "code",
   "execution_count": 5,
   "metadata": {},
   "outputs": [],
   "source": [
    "nb_chain = 10 # Nb de chaines pour chaque w_hat\n",
    "it_mcmc = 150 # Nb it_mcmc pour chaque chaine\n",
    "it_mean = 100 # Nb it considérée pour la moyenne temporelle de chaque chaine\n",
    "N = 20000 # Contrainte\n",
    "nb_point = 15000 # Nb de points de discrétisation pour w_hat\n",
    "xmin = -0.0 \n",
    "xmax = 1.0"
   ]
  },
  {
   "cell_type": "code",
   "execution_count": 6,
   "metadata": {
    "scrolled": true
   },
   "outputs": [
    {
     "name": "stdout",
     "output_type": "stream",
     "text": [
      "0\n",
      "1\n",
      "2\n",
      "3\n",
      "4\n",
      "5\n",
      "6\n",
      "7\n",
      "8\n",
      "9\n",
      "10\n",
      "11\n",
      "12\n",
      "13\n",
      "14\n",
      "15\n",
      "16\n",
      "17\n",
      "18\n",
      "19\n",
      "20\n",
      "21\n",
      "22\n",
      "23\n",
      "24\n",
      "25\n",
      "26\n",
      "27\n",
      "28\n",
      "29\n",
      "30\n",
      "31\n",
      "32\n",
      "33\n",
      "34\n",
      "35\n",
      "36\n",
      "37\n",
      "38\n",
      "39\n",
      "40\n",
      "41\n",
      "42\n",
      "43\n",
      "44\n",
      "45\n",
      "46\n",
      "47\n",
      "48\n",
      "49\n",
      "50\n",
      "51\n",
      "52\n",
      "53\n",
      "54\n",
      "55\n",
      "56\n",
      "57\n",
      "58\n",
      "59\n",
      "60\n",
      "61\n",
      "62\n",
      "63\n",
      "64\n",
      "65\n",
      "66\n",
      "67\n",
      "68\n",
      "69\n",
      "70\n",
      "71\n",
      "72\n",
      "73\n",
      "74\n",
      "75\n",
      "76\n",
      "77\n",
      "78\n",
      "79\n",
      "80\n",
      "81\n",
      "82\n",
      "83\n",
      "84\n",
      "85\n",
      "86\n",
      "87\n",
      "88\n",
      "89\n",
      "90\n",
      "91\n",
      "92\n",
      "93\n",
      "94\n",
      "95\n",
      "96\n",
      "97\n",
      "98\n",
      "99\n",
      "100\n",
      "101\n",
      "102\n",
      "103\n",
      "104\n",
      "105\n",
      "106\n",
      "107\n",
      "108\n",
      "109\n",
      "110\n",
      "111\n",
      "112\n",
      "113\n",
      "114\n",
      "115\n",
      "116\n",
      "117\n",
      "118\n",
      "119\n",
      "120\n",
      "121\n",
      "122\n",
      "123\n",
      "124\n",
      "125\n",
      "126\n",
      "127\n",
      "128\n",
      "129\n",
      "130\n",
      "131\n",
      "132\n",
      "133\n",
      "134\n",
      "135\n",
      "136\n",
      "137\n",
      "138\n",
      "139\n",
      "140\n",
      "141\n",
      "142\n",
      "143\n",
      "144\n",
      "145\n",
      "146\n",
      "147\n",
      "148\n",
      "149\n",
      "0.00035262107849121094\n",
      "1.0\n"
     ]
    }
   ],
   "source": [
    "start = torch.bernoulli(torch.rand(myRBM.Nv, nb_chain*nb_point, device = device))\n",
    "V0 = V[:,0]\n",
    "# w_hat = torch.dot(start.T, V)[0:,]\n",
    "w_hat_b = torch.linspace(xmin, xmax, steps =nb_point, device = device)\n",
    "w_hat = torch.zeros(nb_chain*nb_point, device = device)\n",
    "for i in range(nb_point):\n",
    "    for j in range(nb_chain):\n",
    "        w_hat[i*nb_chain+j] = w_hat_b[i]\n",
    "tmpv, tmph, vtab = TMCSample(start, w_hat, N, V0, it_mcmc = it_mcmc, it_mean=it_mean)\n",
    "\n",
    "y = np.array(torch.mm(vtab.T, V0.unsqueeze(1)).cpu().squeeze())/myRBM.Nv**0.5\n",
    "newy = np.array([np.mean(y[i*nb_chain:i*nb_chain+nb_chain]) for i in range(nb_point)])\n",
    "w_hat = w_hat.cpu().numpy()\n",
    "w_hat_b = w_hat_b.cpu().numpy()\n",
    "res=np.zeros(len(w_hat_b)-1)\n",
    "for i in range(1,len(w_hat_b)):\n",
    "    res[i-1] = simps(newy[:i]-w_hat_b[:i], w_hat_b[:i])\n",
    "const = simps(np.exp(N*res), w_hat_b[:-1])\n",
    "p_m = np.exp(N*res)/const\n",
    "print(simps(p_m, w_hat_b[:-1]))\n",
    "potential = res + (1/N)*np.log(const)"
   ]
  },
  {
   "cell_type": "code",
   "execution_count": 8,
   "metadata": {},
   "outputs": [
    {
     "data": {
      "text/plain": [
       "[<matplotlib.lines.Line2D at 0x7f35786f49d0>]"
      ]
     },
     "execution_count": 8,
     "metadata": {},
     "output_type": "execute_result"
    },
    {
     "data": {
      "image/png": "[encoded data removed]",
      "text/plain": [
       "<Figure size 432x288 with 1 Axes>"
      ]
     },
     "metadata": {
      "needs_background": "light"
     },
     "output_type": "display_data"
    }
   ],
   "source": [
    "cdf = np.zeros(len(p_m)-1)\n",
    "for i in range(1,len(p_m)):\n",
    "    cdf[i-1] = simps(p_m[:i], w_hat_b[:i])\n",
    "plt.plot(cdf)\n"
   ]
  },
  {
   "cell_type": "code",
   "execution_count": 9,
   "metadata": {},
   "outputs": [],
   "source": [
    "def sample(cdf, n_sample):\n",
    "    sample = torch.rand(n_sample)\n",
    "    for i in range(n_sample):\n",
    "        for k in range(len(cdf)-1):\n",
    "            if cdf[k+1]>sample[i]:\n",
    "                sample[i] = k\n",
    "                break\n",
    "    return sample\n",
    "    "
   ]
  },
  {
   "cell_type": "code",
   "execution_count": 14,
   "metadata": {},
   "outputs": [
    {
     "name": "stdout",
     "output_type": "stream",
     "text": [
      "tensor([ 6520.,  7030.,  9372., 14000.,  9744.,  6836.,  2912., 14074.,  6100.,\n",
      "         6384., 13962.,  7084., 14194.,  9178.,  3056.,  6469.,  9314., 13882.,\n",
      "         6514., 14002.,  2715., 13966., 13857.,  9856., 13887.,  6782.,  2833.,\n",
      "         6244.,  2552., 13722.,  6390., 14016., 13869., 13771.,  6564., 13910.,\n",
      "        13954.,  6914., 14026.,  9552.,  9614.,  2836.,  6290., 13890.,  3062.,\n",
      "         6185., 14006.,  3176.,  9270., 10196.,  9948., 13866., 14020.,  7048.,\n",
      "        13954., 14194.,  3109., 13784., 13884.,  6770.,  3171., 13993.,  6312.,\n",
      "         7004., 14182., 14074.,  6434., 13924., 13964.,  9740.,  6334.,  6760.,\n",
      "         6994.,  6504.,  9706.,  6235., 13910.,  9832., 13657.,  9670., 13987.,\n",
      "         6285., 13985.,  3112.,  6820., 13728., 13896.,  6570., 13769., 13914.,\n",
      "         9300.,  7340., 14056., 14144., 13954., 14096.,  6379., 13904., 14132.,\n",
      "         9553.,  6771., 14128.,  6631., 14012., 13766., 13915., 13954., 13965.,\n",
      "        13996., 14262., 14116., 13942.,  6317.,  2983.,  6490.,  6361.,  3045.,\n",
      "         6308., 13696.,  6438.,  6692., 13970.,  9754.,  6371.,  3000., 12998.,\n",
      "         6584.,  6513.,  9236.,  7104.,  2808.,  6910.,  2844.,  9342.,  6591.,\n",
      "        14040., 14032., 13660.,  6376.,  6302.,  6615.,  6800.,  6022., 13802.,\n",
      "        14122., 13818.,  6928.,  6847.,  9868.,  6568.,  6504.,  6784.,  9762.,\n",
      "        13773.,  6345., 13858., 14050., 14172.,  2572., 13840.,  6667., 14056.,\n",
      "         6490.,  9542.,  6512.,  6344.,  6336.,  6676., 13936.,  9682.,  6495.,\n",
      "        13678.,  6713.,  9524.,  6311.,  9662., 10138.,  6415., 13981.,  9202.,\n",
      "        13072.,  2561., 13889.,  9610., 13560.,  6844., 14010.,  2596.,  3284.,\n",
      "        13932.,  9506.,  6434.,  6666., 13780.,  6568.,  6226., 10156., 14246.,\n",
      "        13799., 14016., 13960.,  6306.,  6243., 13892.,  2819.,  9774., 14042.,\n",
      "        13854., 13648.,  9728., 13902.,  9510.,  6413., 13734., 13805., 13701.,\n",
      "         3267., 13907.,  7008.,  3166., 14082., 13848.,  6120., 14068., 14258.,\n",
      "        13552.,  6304.,  9490.,  6790., 13926., 12974.,  6856.,  9731.,  6490.,\n",
      "        13476.,  6690.,  9204.,  6792.,  6748.,  6526.,  6021.,  2724.,  6326.,\n",
      "        14088.,  9428.,  6652., 13872., 13772.,  6183., 14174., 13771., 13798.,\n",
      "        14010., 13918.,  2837.,  9718., 13776.,  9288., 13804., 13492., 13809.,\n",
      "         8850.,  6852., 13948.,  9242., 13963.,  9962., 13978.,  6622., 13026.,\n",
      "        14152., 13826., 14080.,  6240., 13796.,  7038.,  6174.,  6812.,  6860.,\n",
      "         6608.,  9876.,  2827.,  2730.,  6478.,  3030., 14044.,  6783., 13866.,\n",
      "         6425., 13901.,  9664.,  6692., 13902.,  9658.,  6908., 13996.,  2597.,\n",
      "         6320.,  6496.,  2622.,  9084.,  2953.,  6774.,  6701., 13845.,  9576.,\n",
      "         6661., 13940.,  6672., 13778.,  6468., 14120.,  6429., 13884.,  6862.,\n",
      "        14090., 13884.,  6622.,  9388.,  6558., 13936., 14010.,  6680.,  7452.,\n",
      "         9278.,  6394., 14126.,  6389.,  9258.,  9598.,  9888., 13770.,  6659.,\n",
      "         6771., 14186.,  6364., 12754., 13942., 14094., 13966., 13760.,  2918.,\n",
      "        13996.,  3096., 13882., 13896., 13844.,  9896., 13910., 13877., 13874.,\n",
      "         9764.,  9418., 14006., 13934.,  9700.,  3033., 13698., 14122.,  9866.,\n",
      "         6338., 13828., 13916., 14326.,  6640., 13795., 13972.,  6490.,  6540.,\n",
      "        13888.,  3052., 13972.,  9228.,  6738.,  6673.,  9620., 13676., 14176.,\n",
      "        13923., 13736., 14022.,  6734., 13746.,  6314.,  2931.,  2975.,  5972.,\n",
      "        13845., 13918.,  9577.,  3398.,  6705.,  6631.,  9702.,  6996., 13920.,\n",
      "         6610., 13828.,  6195.,  9560.,  6198., 13756., 13784.,  6647.,  6533.,\n",
      "         9370., 13856., 13022.,  6553., 13753.,  6604.,  6532.,  9450.,  6090.,\n",
      "        13900.,  6500.,  9288., 13807.,  2793.,  9280.,  6971.,  9120.,  6896.,\n",
      "         5858., 13882.,  6770., 14010.,  9508.,  6878., 14036., 13768.,  6784.,\n",
      "         6851., 14100.,  9386., 14122.,  6518.,  6677.,  6498., 13852.,  7040.,\n",
      "         3148., 13935.,  6702.,  6764.,  6718., 13686.,  6914.,  6462., 13962.,\n",
      "        14204.,  6616., 13666.,  6255.,  6651., 13808., 13762., 13938., 13660.,\n",
      "         9464., 13742.,  6850., 14110.,  9682., 13919.,  9484.,  9404.,  6332.,\n",
      "         2642.,  6545.,  9380.,  6861.,  6866., 14018.,  6674., 13698., 13706.,\n",
      "        13640., 13530.,  6574.,  6628.,  7020., 14160.,  9461., 13866., 13964.,\n",
      "         6043., 13924., 13721.,  6978., 13921., 13898., 13771.,  6950.,  6298.,\n",
      "        13751.,  6504.,  6521.,  2988.,  9476.,  6271.,  9988.,  2936., 13894.,\n",
      "         9444.,  9460., 13864.,  6774., 13775., 13846.,  3280., 13956., 14108.,\n",
      "        13736., 14006., 13880.,  6754., 14038.,  9698., 13811., 13981., 13812.,\n",
      "        13026.,  9704.,  9710., 13958.,  2802., 14074.,  9466., 13746.,  6523.,\n",
      "         3259.,  6833., 14314.,  2712., 13932.,  6260.,  2862.,  9508.,  6533.,\n",
      "        14340., 13847.,  9110.,  6535.,  6875., 14082.,  9621.,  6403.,  6666.,\n",
      "         9596.,  6766.,  6706., 13654.,  9644.,  9608.,  9062., 13564., 13848.,\n",
      "        13786.,  6726., 13789., 13814., 13564., 13682.,  6936., 13822., 13816.,\n",
      "         6994., 10174., 13908., 14154., 13814.,  6503., 13782.,  9904., 13988.,\n",
      "         3231.,  5986.,  9608.,  6472.,  6481., 14060.,  6843., 13698.,  9676.,\n",
      "         3049.,  6968.,  9756., 14140., 13916., 13898., 13862.,  6400.,  6892.,\n",
      "        13801.,  6340., 13986., 13886.,  6316., 13909., 13639., 13795., 14030.,\n",
      "         7166., 10062.,  3384.,  6774.,  6656., 13858.,  6763., 13964.,  6630.,\n",
      "         6426., 13776.,  6902.,  3342.,  9816.,  9542.,  6732., 14158.,  6770.,\n",
      "         6340.,  2810., 14084.,  2689.,  3000., 14102.,  9292., 14132.,  9286.,\n",
      "         6382., 14066.,  6578.,  6118., 13934.,  6686.,  6605.,  6589.,  9532.,\n",
      "        13896., 13894., 13918., 14020., 13634.,  9776., 13602.,  9600., 13686.,\n",
      "         9717.,  6809., 13992.,  9590., 13967.,  9882., 13877., 13396.,  3031.,\n",
      "         9136., 14078.,  6754.,  9698., 13826.,  2950.,  6482., 13538.,  6877.,\n",
      "        13984.,  6150., 13977.,  6430.,  6552.,  6249.,  2887.,  6946.,  6535.,\n",
      "         6347., 14130.,  3218., 13749., 13921., 14094., 13012.,  9748.,  6858.,\n",
      "        14158., 14044., 14216.,  5830.,  6736.,  6948.,  6627.,  6693., 14122.,\n",
      "        14202.,  6753., 13644., 13976.,  6710.,  6146., 13960.,  6158.,  9698.,\n",
      "         3086., 13836.,  9658., 13897.,  6539., 13869.,  9482.,  6800., 13855.,\n",
      "        13860.,  7334.,  2852.,  6532., 14020.,  3046., 13790., 13993.,  6690.,\n",
      "         6723., 13852.,  9826.,  9022., 13702.,  6163.,  6733., 13707.,  6693.,\n",
      "         9418.,  3059.,  7078.,  9344., 14180.,  9791.,  6360.,  3043., 13994.,\n",
      "         3460., 13808., 13800., 14066.,  6296.,  6017., 13969.,  9222.,  6501.,\n",
      "        13758.,  9742.,  7430., 14094.,  9604., 13946.,  6368.,  7084.,  2946.,\n",
      "        14132.,  9950.,  9342., 10206.,  6694.,  6488.,  9615.,  2711., 13918.,\n",
      "         7020.,  6596., 13964.,  9418.,  6506., 12986.,  9518., 13953.,  6714.,\n",
      "         6726., 13692.,  7002.,  2546., 13954., 13903., 13826., 13968., 13992.,\n",
      "         9264., 14102., 13702., 13560., 13968., 13891.,  2873.,  6564.,  6476.,\n",
      "        13882., 13784.,  6718., 13848., 13953., 13668., 13956., 13886.,  6626.,\n",
      "        13932., 13862.,  2604., 14016.,  9708.,  3192.,  6668.,  9446., 13946.,\n",
      "        14072.,  6876., 13500.,  9698.,  6151., 13642.,  6478., 13824., 13843.,\n",
      "         5902.,  6928.,  2669.,  9286.,  9710., 13928.,  9252.,  6474., 13726.,\n",
      "         6343., 13974., 14000., 10066.,  9616.,  6168., 13980.,  6550.,  9936.,\n",
      "         6646., 14086.,  6456.,  6374., 13968., 14076.,  6617.,  7032.,  9688.,\n",
      "         9712.,  6678.,  6772., 13922., 13614.,  6749.,  6346., 14106.,  7064.,\n",
      "        13656.,  6640., 13928., 13822., 14090.,  6649., 14268., 13676., 14062.,\n",
      "         7008.,  2970., 13734.,  6806., 13958.,  6758.,  6492.,  6370.,  6414.,\n",
      "         6403., 13106.,  6252., 13168., 14054., 13807., 13826.,  6773., 13928.,\n",
      "         9438.,  6705., 13860.,  2562.,  9786., 14070.,  6562.,  6411., 13780.,\n",
      "         7058., 13734.,  7012.,  6660., 13669.,  9732., 13941., 14096.,  6564.,\n",
      "        12678.,  3206., 13886.,  2718., 12850.,  6774., 13727., 13766.,  9500.,\n",
      "         6343., 13750., 13236., 13844., 13904., 13968.,  2786.,  6788.,  2810.,\n",
      "         3095., 14158., 13994., 13918.,  6180.,  6700., 13870., 14076.,  6262.,\n",
      "         6777.,  9312.,  6581., 13695.,  6317.,  6928.,  6679.,  9430., 13840.,\n",
      "         6913., 13660., 13931.,  6270., 13944., 13730.,  6241.,  9436.,  3008.,\n",
      "        13978., 13644., 13626., 13946., 13794., 13652., 13788., 13937., 13794.,\n",
      "         6190., 13912.,  6152., 13777., 14128.,  9746.,  6361.,  6699.,  6573.,\n",
      "         9732., 13821.,  9240.,  6944., 14226.,  6589.,  9635.,  2685., 13916.,\n",
      "        13650.,  9836.,  3105.,  6271., 13678.,  6376., 13834., 13968., 13732.,\n",
      "         6734., 13782.,  7074., 14084., 13944., 13902., 13950.,  6515., 13815.,\n",
      "         6573., 13754.,  6674., 14002., 14080.,  9820.,  5920.,  9714.,  7092.,\n",
      "         6419.])\n"
     ]
    }
   ],
   "source": [
    "s = sample(cdf, 1000)\n"
   ]
  },
  {
   "cell_type": "code",
   "execution_count": 23,
   "metadata": {},
   "outputs": [
    {
     "data": {
      "text/plain": [
       "[<matplotlib.lines.Line2D at 0x7f35e0d4e5b0>]"
      ]
     },
     "execution_count": 23,
     "metadata": {},
     "output_type": "execute_result"
    },
    {
     "data": {
      "image/png": "[encoded data removed]",
      "text/plain": [
       "<Figure size 432x288 with 1 Axes>"
      ]
     },
     "metadata": {
      "needs_background": "light"
     },
     "output_type": "display_data"
    }
   ],
   "source": [
    "plt.hist(s.cpu().numpy(), bins = 100);\n",
    "plt.plot(p_m)"
   ]
  },
  {
   "cell_type": "code",
   "execution_count": 7,
   "metadata": {},
   "outputs": [
    {
     "data": {
      "text/plain": [
       "[<matplotlib.lines.Line2D at 0x7f35d853e730>]"
      ]
     },
     "execution_count": 7,
     "metadata": {},
     "output_type": "execute_result"
    },
    {
     "data": {
      "image/png": "[encoded data removed]",
      "text/plain": [
       "<Figure size 432x288 with 1 Axes>"
      ]
     },
     "metadata": {
      "needs_background": "light"
     },
     "output_type": "display_data"
    }
   ],
   "source": [
    "plt.plot(p_m)"
   ]
  },
  {
   "cell_type": "code",
   "execution_count": null,
   "metadata": {},
   "outputs": [],
   "source": []
  }
 ],
 "metadata": {
  "kernelspec": {
   "display_name": "Python 3",
   "language": "python",
   "name": "python3"
  },
  "language_info": {
   "codemirror_mode": {
    "name": "ipython",
    "version": 3
   },
   "file_extension": ".py",
   "mimetype": "text/x-python",
   "name": "python",
   "nbconvert_exporter": "python",
   "pygments_lexer": "ipython3",
   "version": "3.8.5"
  }
 },
 "nbformat": 4,
 "nbformat_minor": 4
}
