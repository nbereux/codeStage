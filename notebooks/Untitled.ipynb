{
 "cells": [
  {
   "cell_type": "code",
   "execution_count": 1,
   "metadata": {},
   "outputs": [],
   "source": [
    "import numpy as np\n",
    "import matplotlib.pyplot as plt\n",
    "import matplotlib.pylab\n",
    "import torch\n",
    "import sys\n",
    "sys.path.insert(1, '/home/nicolas/code/src')\n",
    "sys.path.insert(1, '/home/nicolas/code/data')\n",
    "\n",
    "from TMCRBM import TMCRBM\n",
    "from scipy.integrate import simps\n",
    "from scipy import stats\n",
    "import h5py\n",
    "\n",
    "device = torch.device(\"cuda\")\n",
    "dtype = torch.float\n",
    "torch.set_num_threads(4)"
   ]
  },
  {
   "cell_type": "code",
   "execution_count": 2,
   "metadata": {},
   "outputs": [],
   "source": [
    "data = torch.tensor(np.genfromtxt('../dataset/data_2d.dat'), device = device, dtype = dtype)\n",
    "\n",
    "data = (data+1)/2"
   ]
  },
  {
   "cell_type": "code",
   "execution_count": 3,
   "metadata": {},
   "outputs": [
    {
     "name": "stdout",
     "output_type": "stream",
     "text": [
      "[0, 1, 2, 3, 4, 5, 6, 8, 9, 10, 12, 14, 15, 16, 18, 22, 24, 25, 26, 28, 32, 38, 41, 42, 43, 45, 48, 49, 55, 65, 69, 70, 71, 73, 77, 82, 83, 93, 110, 118, 119, 120, 122, 126, 132, 138, 142, 159, 187, 201, 202, 203, 205, 209, 215, 225, 236, 242, 270, 319, 342, 343, 344, 346, 350, 356, 366, 383, 402, 411, 460, 543, 582, 583, 584, 586, 590, 596, 606, 623, 651, 684, 700, 783, 924, 990, 991, 992, 994, 998, 1004, 1014, 1031, 1059, 1108, 1164, 1191, 1332, 1572, 1683, 1684, 1685, 1687, 1691, 1697, 1707, 1724, 1752, 1801, 1884, 1980, 2025, 2265, 2673, 2862, 2863, 2864, 2866, 2870, 2876, 2886, 2903, 2931, 2980, 3063, 3204, 3366, 3444, 3852, 4545, 4866, 4867, 4868, 4870, 4874, 4880, 4890, 4907, 4935, 4984, 5067, 5208, 5448, 5724, 5856, 6549, 7728, 8272, 8273, 8274, 8276, 8280, 8286, 8296, 8313, 8341, 8390, 8473, 8614, 8854, 9262, 9732, 9955, 11134]\n"
     ]
    }
   ],
   "source": [
    "f = h5py.File(\"../model/AllParametersRBM_NGibbs_50_Nh100_Ns1000_Nmb600_Nepoch1000_lr_0.01_TMCTEST2D_updCentered_TRUE.h5\", 'r')\n",
    "alltimes = np.array(f['alltime'])\n",
    "alltimes = []\n",
    "for t in f['alltime'][:]:\n",
    "    if 'W'+str(t) in f:\n",
    "        alltimes.append(t)\n",
    "\n",
    "print(alltimes)"
   ]
  },
  {
   "cell_type": "code",
   "execution_count": 4,
   "metadata": {},
   "outputs": [],
   "source": [
    "t = 3444\n",
    "lr = 0.01\n",
    "NGibbs = 100\n",
    "annSteps = 0\n",
    "mb_s = 600\n",
    "num_pcd = 100\n",
    "Nh = torch.tensor(f['W0']).shape[0]\n",
    "Nv = data.shape[1]\n",
    "ep_max = 10\n",
    "w_hat = torch.linspace(0,1,steps=100)\n",
    "_, S_d, V = torch.svd(data)\n",
    "V0 = V[:,0]\n",
    "N = 20000\n",
    "it_mean = 50"
   ]
  },
  {
   "cell_type": "code",
   "execution_count": 5,
   "metadata": {},
   "outputs": [],
   "source": [
    "myRBM = TMCRBM(num_visible=Nv,\n",
    "            num_hidden=Nh,\n",
    "            device=device,\n",
    "            lr=lr,\n",
    "            gibbs_steps=NGibbs,\n",
    "            UpdCentered=False,\n",
    "            mb_s=mb_s,\n",
    "            num_pcd=num_pcd,\n",
    "            N = N,\n",
    "            it_mean = it_mean,\n",
    "           )"
   ]
  },
  {
   "cell_type": "code",
   "execution_count": 6,
   "metadata": {},
   "outputs": [],
   "source": [
    "myRBM.W = torch.tensor(f['W'+str(t)], device = myRBM.device)\n",
    "myRBM.hbias = torch.tensor(f['hbias'+str(t)], device = myRBM.device)\n",
    "myRBM.vbias = torch.tensor(f['vbias'+str(t)], device = myRBM.device)\n",
    "_, _, V_g = torch.svd(myRBM.W)\n",
    "if torch.mean(V_g[:,0])<0:\n",
    "    V_g = -V_g\n"
   ]
  },
  {
   "cell_type": "code",
   "execution_count": 7,
   "metadata": {},
   "outputs": [],
   "source": [
    "vinit = torch.bernoulli(torch.rand(\n",
    "        (myRBM.Nv, 1000), device=myRBM.device, dtype=myRBM.dtype))\n",
    "#vinit = torch.where(V_g[:,0]>0, 1, 0).repeat(2000).reshape(myRBM.Nv, 2000).float()\n",
    "#vinit = data.T\n",
    "si, _, _, _ = myRBM.Sampling(vinit, it_mcmc=50)\n"
   ]
  },
  {
   "cell_type": "code",
   "execution_count": 8,
   "metadata": {},
   "outputs": [
    {
     "data": {
      "text/plain": [
       "<matplotlib.collections.PathCollection at 0x7f306c57a2b0>"
      ]
     },
     "execution_count": 8,
     "metadata": {},
     "output_type": "execute_result"
    },
    {
     "data": {
      "image/png": "[encoded data removed]",
      "text/plain": [
       "<Figure size 432x288 with 1 Axes>"
      ]
     },
     "metadata": {
      "needs_background": "light"
     },
     "output_type": "display_data"
    }
   ],
   "source": [
    "\n",
    "proj_gen = torch.mm(si.T, V_g).cpu().numpy()/myRBM.Nv**0.5\n",
    "proj_data = torch.mm(data, V_g).cpu().numpy()/myRBM.Nv**0.5\n",
    "plt.scatter(proj_data[:,0], proj_data[:,1])\n",
    "plt.scatter(proj_gen[:,0], proj_gen[:,1])\n"
   ]
  },
  {
   "cell_type": "code",
   "execution_count": 9,
   "metadata": {},
   "outputs": [
    {
     "data": {
      "image/png": "[encoded data removed]",
      "text/plain": [
       "<Figure size 432x288 with 1 Axes>"
      ]
     },
     "metadata": {
      "needs_background": "light"
     },
     "output_type": "display_data"
    }
   ],
   "source": [
    "S = torch.zeros(10, len(alltimes), device = device)\n",
    "for i in range(len(alltimes)):\n",
    "    t = alltimes[i]\n",
    "    _, tmpS, tmpV = torch.svd(torch.tensor(f['W'+str(t)], device = device))\n",
    "    if torch.mean(tmpV[:,0])<0:\n",
    "        tmpV = -tmpV\n",
    "    plt.plot(tmpV[:,0].cpu(), zorder=0)\n",
    "    S[:,i] = tmpS[:10]\n",
    "plt.plot(alltimes,S.T.cpu())\n",
    "plt.xlabel(\"nb_upd\");"
   ]
  },
  {
   "cell_type": "code",
   "execution_count": 10,
   "metadata": {},
   "outputs": [
    {
     "data": {
      "text/plain": [
       "<KeysViewHDF5 ['W0', 'W1', 'W10', 'W1004', 'W1014', 'W1031', 'W1059', 'W110', 'W1108', 'W11134', 'W1164', 'W118', 'W119', 'W1191', 'W12', 'W120', 'W122', 'W126', 'W132', 'W1332', 'W138', 'W14', 'W142', 'W15', 'W1572', 'W159', 'W16', 'W1683', 'W1684', 'W1685', 'W1687', 'W1691', 'W1697', 'W1707', 'W1724', 'W1752', 'W18', 'W1801', 'W187', 'W1884', 'W1980', 'W2', 'W201', 'W202', 'W2025', 'W203', 'W205', 'W209', 'W215', 'W22', 'W225', 'W2265', 'W236', 'W24', 'W242', 'W25', 'W26', 'W2673', 'W270', 'W28', 'W2862', 'W2863', 'W2864', 'W2866', 'W2870', 'W2876', 'W2886', 'W2903', 'W2931', 'W2980', 'W3', 'W3063', 'W319', 'W32', 'W3204', 'W3366', 'W342', 'W343', 'W344', 'W3444', 'W346', 'W350', 'W356', 'W366', 'W38', 'W383', 'W3852', 'W4', 'W402', 'W41', 'W411', 'W42', 'W43', 'W45', 'W4545', 'W460', 'W48', 'W4866', 'W4867', 'W4868', 'W4870', 'W4874', 'W4880', 'W4890', 'W49', 'W4907', 'W4935', 'W4984', 'W5', 'W5067', 'W5208', 'W543', 'W5448', 'W55', 'W5724', 'W582', 'W583', 'W584', 'W5856', 'W586', 'W590', 'W596', 'W6', 'W606', 'W623', 'W65', 'W651', 'W6549', 'W684', 'W69', 'W70', 'W700', 'W71', 'W73', 'W77', 'W7728', 'W783', 'W8', 'W82', 'W8272', 'W8273', 'W8274', 'W8276', 'W8280', 'W8286', 'W8296', 'W83', 'W8313', 'W8341', 'W8390', 'W8473', 'W8614', 'W8854', 'W9', 'W924', 'W9262', 'W93', 'W9732', 'W990', 'W991', 'W992', 'W994', 'W9955', 'W998', 'alltime', 'hbias0', 'hbias1', 'hbias10', 'hbias1004', 'hbias1014', 'hbias1031', 'hbias1059', 'hbias110', 'hbias1108', 'hbias11134', 'hbias1164', 'hbias118', 'hbias119', 'hbias1191', 'hbias12', 'hbias120', 'hbias122', 'hbias126', 'hbias132', 'hbias1332', 'hbias138', 'hbias14', 'hbias142', 'hbias15', 'hbias1572', 'hbias159', 'hbias16', 'hbias1683', 'hbias1684', 'hbias1685', 'hbias1687', 'hbias1691', 'hbias1697', 'hbias1707', 'hbias1724', 'hbias1752', 'hbias18', 'hbias1801', 'hbias187', 'hbias1884', 'hbias1980', 'hbias2', 'hbias201', 'hbias202', 'hbias2025', 'hbias203', 'hbias205', 'hbias209', 'hbias215', 'hbias22', 'hbias225', 'hbias2265', 'hbias236', 'hbias24', 'hbias242', 'hbias25', 'hbias26', 'hbias2673', 'hbias270', 'hbias28', 'hbias2862', 'hbias2863', 'hbias2864', 'hbias2866', 'hbias2870', 'hbias2876', 'hbias2886', 'hbias2903', 'hbias2931', 'hbias2980', 'hbias3', 'hbias3063', 'hbias319', 'hbias32', 'hbias3204', 'hbias3366', 'hbias342', 'hbias343', 'hbias344', 'hbias3444', 'hbias346', 'hbias350', 'hbias356', 'hbias366', 'hbias38', 'hbias383', 'hbias3852', 'hbias4', 'hbias402', 'hbias41', 'hbias411', 'hbias42', 'hbias43', 'hbias45', 'hbias4545', 'hbias460', 'hbias48', 'hbias4866', 'hbias4867', 'hbias4868', 'hbias4870', 'hbias4874', 'hbias4880', 'hbias4890', 'hbias49', 'hbias4907', 'hbias4935', 'hbias4984', 'hbias5', 'hbias5067', 'hbias5208', 'hbias543', 'hbias5448', 'hbias55', 'hbias5724', 'hbias582', 'hbias583', 'hbias584', 'hbias5856', 'hbias586', 'hbias590', 'hbias596', 'hbias6', 'hbias606', 'hbias623', 'hbias65', 'hbias651', 'hbias6549', 'hbias684', 'hbias69', 'hbias70', 'hbias700', 'hbias71', 'hbias73', 'hbias77', 'hbias7728', 'hbias783', 'hbias8', 'hbias82', 'hbias8272', 'hbias8273', 'hbias8274', 'hbias8276', 'hbias8280', 'hbias8286', 'hbias8296', 'hbias83', 'hbias8313', 'hbias8341', 'hbias8390', 'hbias8473', 'hbias8614', 'hbias8854', 'hbias9', 'hbias924', 'hbias9262', 'hbias93', 'hbias9732', 'hbias990', 'hbias991', 'hbias992', 'hbias994', 'hbias9955', 'hbias998', 'vbias0', 'vbias1', 'vbias10', 'vbias1004', 'vbias1014', 'vbias1031', 'vbias1059', 'vbias110', 'vbias1108', 'vbias11134', 'vbias1164', 'vbias118', 'vbias119', 'vbias1191', 'vbias12', 'vbias120', 'vbias122', 'vbias126', 'vbias132', 'vbias1332', 'vbias138', 'vbias14', 'vbias142', 'vbias15', 'vbias1572', 'vbias159', 'vbias16', 'vbias1683', 'vbias1684', 'vbias1685', 'vbias1687', 'vbias1691', 'vbias1697', 'vbias1707', 'vbias1724', 'vbias1752', 'vbias18', 'vbias1801', 'vbias187', 'vbias1884', 'vbias1980', 'vbias2', 'vbias201', 'vbias202', 'vbias2025', 'vbias203', 'vbias205', 'vbias209', 'vbias215', 'vbias22', 'vbias225', 'vbias2265', 'vbias236', 'vbias24', 'vbias242', 'vbias25', 'vbias26', 'vbias2673', 'vbias270', 'vbias28', 'vbias2862', 'vbias2863', 'vbias2864', 'vbias2866', 'vbias2870', 'vbias2876', 'vbias2886', 'vbias2903', 'vbias2931', 'vbias2980', 'vbias3', 'vbias3063', 'vbias319', 'vbias32', 'vbias3204', 'vbias3366', 'vbias342', 'vbias343', 'vbias344', 'vbias3444', 'vbias346', 'vbias350', 'vbias356', 'vbias366', 'vbias38', 'vbias383', 'vbias3852', 'vbias4', 'vbias402', 'vbias41', 'vbias411', 'vbias42', 'vbias43', 'vbias45', 'vbias4545', 'vbias460', 'vbias48', 'vbias4866', 'vbias4867', 'vbias4868', 'vbias4870', 'vbias4874', 'vbias4880', 'vbias4890', 'vbias49', 'vbias4907', 'vbias4935', 'vbias4984', 'vbias5', 'vbias5067', 'vbias5208', 'vbias543', 'vbias5448', 'vbias55', 'vbias5724', 'vbias582', 'vbias583', 'vbias584', 'vbias5856', 'vbias586', 'vbias590', 'vbias596', 'vbias6', 'vbias606', 'vbias623', 'vbias65', 'vbias651', 'vbias6549', 'vbias684', 'vbias69', 'vbias70', 'vbias700', 'vbias71', 'vbias73', 'vbias77', 'vbias7728', 'vbias783', 'vbias8', 'vbias82', 'vbias8272', 'vbias8273', 'vbias8274', 'vbias8276', 'vbias8280', 'vbias8286', 'vbias8296', 'vbias83', 'vbias8313', 'vbias8341', 'vbias8390', 'vbias8473', 'vbias8614', 'vbias8854', 'vbias9', 'vbias924', 'vbias9262', 'vbias93', 'vbias9732', 'vbias990', 'vbias991', 'vbias992', 'vbias994', 'vbias9955', 'vbias998']>"
      ]
     },
     "execution_count": 10,
     "metadata": {},
     "output_type": "execute_result"
    }
   ],
   "source": [
    "f.keys()"
   ]
  },
  {
   "cell_type": "code",
   "execution_count": null,
   "metadata": {},
   "outputs": [],
   "source": []
  }
 ],
 "metadata": {
  "kernelspec": {
   "display_name": "Python 3",
   "language": "python",
   "name": "python3"
  },
  "language_info": {
   "codemirror_mode": {
    "name": "ipython",
    "version": 3
   },
   "file_extension": ".py",
   "mimetype": "text/x-python",
   "name": "python",
   "nbconvert_exporter": "python",
   "pygments_lexer": "ipython3",
   "version": "3.8.5"
  }
 },
 "nbformat": 4,
 "nbformat_minor": 4
}
