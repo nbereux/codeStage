{
 "cells": [
  {
   "cell_type": "code",
   "execution_count": 1,
   "metadata": {},
   "outputs": [],
   "source": [
    "import sys\n",
    "sys.path.insert(1, '/home/nicolas/Documents/Stage/code/stage/src')\n",
    "import torch\n",
    "import rbm\n",
    "import functions\n",
    "import numpy as np\n",
    "import gzip\n",
    "import pickle\n",
    "device = torch.device(\"cuda\")\n",
    "dtype = torch.float"
   ]
  },
  {
   "cell_type": "code",
   "execution_count": 2,
   "metadata": {},
   "outputs": [],
   "source": [
    "fname = 'model/AllParametersTESTCV2_LongRUNExMC_NS10000_TEMP_0_MNIST_Nh500_lr0.01_l20_NGibbs10000.h5'\n",
    "myRBM, f, alltimes = functions.retrieveRBM(device, fname)\n",
    "#index_random = torch.randint(0,len(alltimes),(100,))\n",
    "#index_random = len(alltimes)-1\n",
    "index_random = -1"
   ]
  },
  {
   "cell_type": "code",
   "execution_count": 3,
   "metadata": {},
   "outputs": [],
   "source": [
    "all_si = []\n",
    "for t in [np.array(alltimes)[index_random]]:\n",
    "    myRBM.W = torch.tensor(f['paramW'+str(t)], device = myRBM.device)\n",
    "    myRBM.vbias = torch.tensor(f['paramVB'+str(t)], device = myRBM.device)\n",
    "    myRBM.hbias = torch.tensor(f['paramHB'+str(t)], device = myRBM.device)\n",
    "    vinit = torch.bernoulli(torch.rand((myRBM.Nv,10000), device=myRBM.device, dtype=myRBM.dtype))\n",
    "    \n",
    "    si,mi,_,_ = myRBM.Sampling(vinit,it_mcmc=10000)#,anneal_steps=0)\n",
    "    all_si.append(si)\n"
   ]
  },
  {
   "cell_type": "code",
   "execution_count": 4,
   "metadata": {},
   "outputs": [],
   "source": [
    "data_gen = torch.cat(all_si, dim=1)\n",
    "data_gen = data_gen.T\n",
    "torch.save(data_gen, \"data/data_gen.pt\")"
   ]
  },
  {
   "cell_type": "code",
   "execution_count": 7,
   "metadata": {},
   "outputs": [],
   "source": [
    "f = gzip.open('./data/mnist.pkl.gz', 'rb')\n",
    "u = pickle._Unpickler(f)\n",
    "u.encoding = 'latin1'\n",
    "p = u.load()\n",
    "train_set, _, _ = p\n",
    "data_mnist = torch.as_tensor(train_set[0][:10000,:].T, device = device, dtype = dtype)\n",
    "data_minst = data_mnist.T\n",
    "torch.save(data_gen, \"data/data_MNIST.pt\")"
   ]
  },
  {
   "cell_type": "code",
   "execution_count": 4,
   "metadata": {},
   "outputs": [],
   "source": [
    "data_gen = torch.cat(all_si, dim=1)\n",
    "f = gzip.open('./data/mnist.pkl.gz', 'rb')\n",
    "u = pickle._Unpickler(f)\n",
    "u.encoding = 'latin1'\n",
    "p = u.load()\n",
    "train_set, _, _ = p\n",
    "\n",
    "data_mnist = torch.as_tensor(train_set[0][:10000,:].T, device = device, dtype = dtype)"
   ]
  },
  {
   "cell_type": "code",
   "execution_count": 5,
   "metadata": {},
   "outputs": [],
   "source": [
    "labels_gen = torch.tensor(np.ones(len(data_gen[0])), device = device)\n",
    "labels_mnist = torch.tensor(np.zeros(len(data_mnist[0])), device = device)\n",
    "\n",
    "data = torch.cat((data_gen, data_mnist), dim = 1)\n",
    "labels = torch.cat((labels_gen, labels_mnist), dim = 0)"
   ]
  },
  {
   "cell_type": "code",
   "execution_count": 6,
   "metadata": {},
   "outputs": [],
   "source": [
    "data = data.T\n",
    "shuffle_index = torch.randperm(data.shape[0])\n"
   ]
  },
  {
   "cell_type": "code",
   "execution_count": 7,
   "metadata": {},
   "outputs": [],
   "source": [
    "newdata = torch.empty(data.shape)\n",
    "newlabel = torch.empty(labels.shape)\n",
    "for i in range(shuffle_index.shape[0]):\n",
    "    newdata[i] = data[shuffle_index[i]]\n",
    "    newlabel[i] = labels[shuffle_index[i]]"
   ]
  },
  {
   "cell_type": "code",
   "execution_count": 8,
   "metadata": {},
   "outputs": [],
   "source": [
    "torch.save(newdata, \"data/data_10_updates.pt\")\n",
    "torch.save(newlabel, \"data/labels_10_updates.pt\")"
   ]
  },
  {
   "cell_type": "code",
   "execution_count": 9,
   "metadata": {},
   "outputs": [
    {
     "data": {
      "text/plain": [
       "torch.Size([20000, 784])"
      ]
     },
     "execution_count": 9,
     "metadata": {},
     "output_type": "execute_result"
    }
   ],
   "source": [
    "newdata.shape"
   ]
  },
  {
   "cell_type": "code",
   "execution_count": 11,
   "metadata": {},
   "outputs": [
    {
     "data": {
      "text/plain": [
       "<matplotlib.image.AxesImage at 0x7f9ab8626ca0>"
      ]
     },
     "execution_count": 11,
     "metadata": {},
     "output_type": "execute_result"
    },
    {
     "data": {
      "image/png": "[encoded data removed]",
      "text/plain": [
       "<Figure size 432x288 with 1 Axes>"
      ]
     },
     "metadata": {
      "needs_background": "light"
     },
     "output_type": "display_data"
    }
   ],
   "source": [
    "import matplotlib.pyplot as plt\n",
    "plt.imshow(newdata[0].view(28,28).cpu())"
   ]
  },
  {
   "cell_type": "code",
   "execution_count": null,
   "metadata": {},
   "outputs": [],
   "source": []
  }
 ],
 "metadata": {
  "kernelspec": {
   "display_name": "Python 3",
   "language": "python",
   "name": "python3"
  },
  "language_info": {
   "codemirror_mode": {
    "name": "ipython",
    "version": 3
   },
   "file_extension": ".py",
   "mimetype": "text/x-python",
   "name": "python",
   "nbconvert_exporter": "python",
   "pygments_lexer": "ipython3",
   "version": "3.8.5"
  }
 },
 "nbformat": 4,
 "nbformat_minor": 4
}
