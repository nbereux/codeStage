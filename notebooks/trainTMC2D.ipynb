{
 "cells": [
  {
   "cell_type": "code",
   "execution_count": 1,
   "metadata": {},
   "outputs": [],
   "source": [
    "import numpy as np\n",
    "import matplotlib.pyplot as plt\n",
    "import matplotlib.pylab\n",
    "import torch\n",
    "import sys\n",
    "sys.path.insert(1, '/home/nicolas/code/src')\n",
    "sys.path.insert(1, '/home/nicolas/code/data')\n",
    "\n",
    "from TMCRBM import TMCRBM\n",
    "from scipy.integrate import simps\n",
    "from scipy import stats\n",
    "import h5py\n",
    "\n",
    "device = torch.device(\"cuda\")\n",
    "dtype = torch.float\n",
    "torch.set_num_threads(4)"
   ]
  },
  {
   "cell_type": "code",
   "execution_count": 2,
   "metadata": {},
   "outputs": [],
   "source": [
    "data = torch.tensor(np.genfromtxt('../dataset/data_2d.dat'), device = device, dtype = dtype)\n",
    "\n",
    "data = (data+1)/2"
   ]
  },
  {
   "cell_type": "code",
   "execution_count": 3,
   "metadata": {},
   "outputs": [],
   "source": [
    "f = h5py.File(\"../model/AllParametersTMC2DRBM_NGibbs_50_Nh100_Nv1000_Nmb200_Nepoch100_lr_0.1_N20000_Npoint2500_Nchain10.h5\", 'r')\n",
    "alltimes = np.array(f['alltime'])\n",
    "alltimes = []\n",
    "for t in f['alltime'][:]:\n",
    "    if 'W'+str(t) in f:\n",
    "        alltimes.append(t)"
   ]
  },
  {
   "cell_type": "code",
   "execution_count": 4,
   "metadata": {},
   "outputs": [],
   "source": [
    "t = 1\n",
    "lr = 0.01\n",
    "NGibbs = 100\n",
    "annSteps = 0\n",
    "mb_s = 600\n",
    "num_pcd = 100\n",
    "Nh = torch.tensor(f['W0']).shape[0]\n",
    "Nv = data.shape[1]\n",
    "ep_max = 10\n",
    "w_hat = torch.linspace(0,1,steps=100)\n",
    "_, S_d, V = torch.svd(data)\n",
    "V0 = V[:,0]\n",
    "N = 20000\n",
    "it_mean = 50"
   ]
  },
  {
   "cell_type": "code",
   "execution_count": 5,
   "metadata": {},
   "outputs": [],
   "source": [
    "myRBM = TMCRBM(num_visible=Nv,\n",
    "            num_hidden=Nh,\n",
    "            device=device,\n",
    "            lr=lr,\n",
    "            gibbs_steps=NGibbs,\n",
    "            UpdCentered=False,\n",
    "            mb_s=mb_s,\n",
    "            num_pcd=num_pcd,\n",
    "            N = N,\n",
    "            it_mean = it_mean,\n",
    "           )"
   ]
  },
  {
   "cell_type": "code",
   "execution_count": 6,
   "metadata": {},
   "outputs": [],
   "source": [
    "myRBM.W = torch.tensor(f['W'+str(t)], device = myRBM.device)\n",
    "myRBM.hbias = torch.tensor(f['hbias'+str(t)], device = myRBM.device)\n",
    "myRBM.vbias = torch.tensor(f['vbias'+str(t)], device = myRBM.device)\n",
    "_, _, V_g = torch.svd(myRBM.W)\n",
    "if torch.mean(V_g[:,0])<0:\n",
    "    V_g = -V_g\n"
   ]
  },
  {
   "cell_type": "code",
   "execution_count": 7,
   "metadata": {},
   "outputs": [
    {
     "data": {
      "text/plain": [
       "<KeysViewHDF5 ['W0', 'W1', 'W10', 'W12', 'W14', 'W15', 'W16', 'W18', 'W2', 'W22', 'W24', 'W25', 'W26', 'W28', 'W3', 'W32', 'W38', 'W4', 'W41', 'W42', 'W43', 'W45', 'W48', 'W49', 'W5', 'W55', 'W6', 'W8', 'W9', 'alltime', 'hbias0', 'hbias1', 'hbias10', 'hbias12', 'hbias14', 'hbias15', 'hbias16', 'hbias18', 'hbias2', 'hbias22', 'hbias24', 'hbias25', 'hbias26', 'hbias28', 'hbias3', 'hbias32', 'hbias38', 'hbias4', 'hbias41', 'hbias42', 'hbias43', 'hbias45', 'hbias48', 'hbias49', 'hbias5', 'hbias55', 'hbias6', 'hbias8', 'hbias9', 'p_m0', 'p_m1', 'p_m10', 'p_m12', 'p_m14', 'p_m15', 'p_m16', 'p_m18', 'p_m2', 'p_m22', 'p_m24', 'p_m25', 'p_m26', 'p_m28', 'p_m3', 'p_m32', 'p_m38', 'p_m4', 'p_m41', 'p_m42', 'p_m43', 'p_m45', 'p_m48', 'p_m49', 'p_m5', 'p_m55', 'p_m6', 'p_m8', 'p_m9', 'vbias0', 'vbias1', 'vbias10', 'vbias12', 'vbias14', 'vbias15', 'vbias16', 'vbias18', 'vbias2', 'vbias22', 'vbias24', 'vbias25', 'vbias26', 'vbias28', 'vbias3', 'vbias32', 'vbias38', 'vbias4', 'vbias41', 'vbias42', 'vbias43', 'vbias45', 'vbias48', 'vbias49', 'vbias5', 'vbias55', 'vbias6', 'vbias8', 'vbias9']>"
      ]
     },
     "execution_count": 7,
     "metadata": {},
     "output_type": "execute_result"
    }
   ],
   "source": [
    "f.keys()"
   ]
  },
  {
   "cell_type": "code",
   "execution_count": 8,
   "metadata": {},
   "outputs": [
    {
     "data": {
      "text/plain": [
       "<matplotlib.colorbar.Colorbar at 0x7f8f4947adc0>"
      ]
     },
     "execution_count": 8,
     "metadata": {},
     "output_type": "execute_result"
    },
    {
     "data": {
      "image/png": "[encoded data removed]",
      "text/plain": [
       "<Figure size 432x288 with 2 Axes>"
      ]
     },
     "metadata": {
      "needs_background": "light"
     },
     "output_type": "display_data"
    }
   ],
   "source": [
    "plt.imshow(torch.log(torch.tensor(f['p_m55'])))\n",
    "plt.colorbar()"
   ]
  },
  {
   "cell_type": "code",
   "execution_count": 9,
   "metadata": {},
   "outputs": [
    {
     "name": "stderr",
     "output_type": "stream",
     "text": [
      "<ipython-input-9-fda376e67c69>:1: UserWarning: To copy construct from a tensor, it is recommended to use sourceTensor.clone().detach() or sourceTensor.clone().detach().requires_grad_(True), rather than torch.tensor(sourceTensor).\n",
      "  proj_data =torch.mm(torch.tensor(data, device= device, dtype = dtype), V_g).cpu()/myRBM.Nv**0.5\n"
     ]
    },
    {
     "data": {
      "text/plain": [
       "<matplotlib.collections.PathCollection at 0x7f90d0119a90>"
      ]
     },
     "execution_count": 9,
     "metadata": {},
     "output_type": "execute_result"
    },
    {
     "data": {
      "image/png": "[encoded data removed]",
      "text/plain": [
       "<Figure size 432x288 with 1 Axes>"
      ]
     },
     "metadata": {
      "needs_background": "light"
     },
     "output_type": "display_data"
    }
   ],
   "source": [
    "proj_data =torch.mm(torch.tensor(data, device= device, dtype = dtype), V_g).cpu()/myRBM.Nv**0.5\n",
    "plt.scatter(proj_data[:,0], proj_data[:,1])"
   ]
  },
  {
   "cell_type": "code",
   "execution_count": 12,
   "metadata": {},
   "outputs": [
    {
     "data": {
      "image/png": "[encoded data removed]",
      "text/plain": [
       "<Figure size 432x288 with 1 Axes>"
      ]
     },
     "metadata": {
      "needs_background": "light"
     },
     "output_type": "display_data"
    }
   ],
   "source": [
    "S = torch.zeros(10, len(alltimes), device = device)\n",
    "for i in range(len(alltimes)):\n",
    "    t = alltimes[i]\n",
    "    _, tmpS, tmpV = torch.svd(torch.tensor(f['W'+str(t)], device = device))\n",
    "    if torch.mean(tmpV[:,0])<0:\n",
    "        tmpV = -tmpV\n",
    "    #plt.plot(tmpV[:,0].cpu(), zorder=0)\n",
    "    S[:,i] = tmpS[:10]\n",
    "#plt.hlines(1/np.sqrt(1000), 0, 1000, color = 'black', zorder=10)\n",
    "plt.plot(alltimes,S.T.cpu())\n",
    "plt.xlabel(\"nb_upd\");"
   ]
  },
  {
   "cell_type": "code",
   "execution_count": null,
   "metadata": {},
   "outputs": [],
   "source": []
  }
 ],
 "metadata": {
  "kernelspec": {
   "display_name": "Python 3",
   "language": "python",
   "name": "python3"
  },
  "language_info": {
   "codemirror_mode": {
    "name": "ipython",
    "version": 3
   },
   "file_extension": ".py",
   "mimetype": "text/x-python",
   "name": "python",
   "nbconvert_exporter": "python",
   "pygments_lexer": "ipython3",
   "version": "3.8.5"
  }
 },
 "nbformat": 4,
 "nbformat_minor": 4
}
