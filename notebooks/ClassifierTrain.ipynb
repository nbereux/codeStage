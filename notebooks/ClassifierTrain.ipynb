{
 "cells": [
  {
   "cell_type": "code",
   "execution_count": 1,
   "metadata": {},
   "outputs": [],
   "source": [
    "import sys\n",
    "sys.path.insert(1, '/home/nicolas/Documents/Stage/code/stage/src/')\n",
    "sys.path.insert(1, '/home/nicolas/Documents/Stage/code/stage/data/')\n",
    "\n",
    "import torch\n",
    "import rbm\n",
    "import functions\n",
    "import time\n",
    "import numpy as np\n",
    "import matplotlib.pyplot as plt\n",
    "import h5py\n",
    "import pickle\n",
    "import gzip\n",
    "import math\n",
    "import torch.optim as optim\n",
    "from BinaryClassifier import BinaryClassifier, train, test\n",
    "from ComparisonDataset import ComparisonDataset\n",
    "#device = torch.device(\"cpu\")\n",
    "device = torch.device(\"cuda\")\n",
    "dtype = torch.float\n",
    "from torch.optim.lr_scheduler import StepLR"
   ]
  },
  {
   "cell_type": "markdown",
   "metadata": {},
   "source": [
    "Le but $\\rightarrow$ essayer une métrique \"par classifieur\" de nos données générés\n",
    " * générer 10000 données artificiellement de MNIST à l'aide d'une RBM déjà entrainée\n",
    " * créer les labels en accord:\n",
    "     - 1 pour les données générées\n",
    "     - 0 pour les données MNIST\n",
    " * entrainer un classifieur sur notre jeu de données\n",
    "     - Le séparer en train + test (70%/30%??)\n",
    "     - entrainer sur le train\n",
    "     - valider et évaluer sur le test \n",
    " * s'en servir pour évaluer de nouvelles données générées"
   ]
  },
  {
   "cell_type": "code",
   "execution_count": 2,
   "metadata": {},
   "outputs": [],
   "source": [
    "net = BinaryClassifier()\n",
    "net.cuda()\n",
    "train_set = ComparisonDataset(device, data_file = 'data/data.pt', label_file = 'data/labels.pt',  train = True)\n",
    "test_set = ComparisonDataset(device, data_file = 'data/data.pt', label_file = 'data/labels.pt', train = False)"
   ]
  },
  {
   "cell_type": "code",
   "execution_count": 3,
   "metadata": {},
   "outputs": [],
   "source": [
    "train_kwargs = {'batch_size': 128}\n",
    "test_kwargs = {'batch_size': 1000}\n",
    "cuda_kwargs = {'num_workers': 0,\n",
    "                       'pin_memory': False,\n",
    "                       'shuffle': False}\n",
    "train_kwargs.update(cuda_kwargs)\n",
    "test_kwargs.update(cuda_kwargs)\n",
    "train_loader = torch.utils.data.DataLoader(train_set,**train_kwargs)\n",
    "test_loader = torch.utils.data.DataLoader(test_set, **test_kwargs)"
   ]
  },
  {
   "cell_type": "code",
   "execution_count": 4,
   "metadata": {
    "scrolled": true
   },
   "outputs": [],
   "source": [
    "optimizer = optim.Adadelta(net.parameters(), lr=0.1)\n",
    "\n",
    "scheduler = StepLR(optimizer, step_size=1, gamma=0.7)\n",
    "for epoch in range(1, 100 + 1):\n",
    "    train(net, device, train_loader, optimizer, epoch)\n",
    "    test(net, device, test_loader)\n",
    "    scheduler.step()"
   ]
  },
  {
   "cell_type": "code",
   "execution_count": 5,
   "metadata": {},
   "outputs": [
    {
     "data": {
      "text/plain": [
       "33.4"
      ]
     },
     "execution_count": 5,
     "metadata": {},
     "output_type": "execute_result"
    }
   ],
   "source": [
    "torch.linalg.norm(net(test_set.data[:2500].cuda()).round().view(2500)-test_set.label[:2500].cuda(), 1).item()*100/2500\n"
   ]
  },
  {
   "cell_type": "code",
   "execution_count": 6,
   "metadata": {},
   "outputs": [
    {
     "data": {
      "text/plain": [
       "0.0"
      ]
     },
     "execution_count": 6,
     "metadata": {},
     "output_type": "execute_result"
    },
    {
     "data": {
      "image/png": "[encoded data removed]",
      "text/plain": [
       "<Figure size 432x288 with 1 Axes>"
      ]
     },
     "metadata": {
      "needs_background": "light"
     },
     "output_type": "display_data"
    }
   ],
   "source": [
    "import matplotlib.pyplot as plt\n",
    "id = torch.randint(len(test_set.data), (1,1))\n",
    "plt.imshow(test_set.data[id].view(28,28).cpu())\n",
    "test_set.label[id].item()"
   ]
  },
  {
   "cell_type": "code",
   "execution_count": null,
   "metadata": {},
   "outputs": [],
   "source": []
  },
  {
   "cell_type": "code",
   "execution_count": 7,
   "metadata": {},
   "outputs": [
    {
     "data": {
      "text/plain": [
       "torch.Size([100])"
      ]
     },
     "execution_count": 7,
     "metadata": {},
     "output_type": "execute_result"
    }
   ],
   "source": [
    "test_set.label[:100].cuda().shape"
   ]
  },
  {
   "cell_type": "code",
   "execution_count": null,
   "metadata": {},
   "outputs": [],
   "source": []
  }
 ],
 "metadata": {
  "kernelspec": {
   "display_name": "Python 3",
   "language": "python",
   "name": "python3"
  },
  "language_info": {
   "codemirror_mode": {
    "name": "ipython",
    "version": 3
   },
   "file_extension": ".py",
   "mimetype": "text/x-python",
   "name": "python",
   "nbconvert_exporter": "python",
   "pygments_lexer": "ipython3",
   "version": "3.8.5"
  }
 },
 "nbformat": 4,
 "nbformat_minor": 4
}
